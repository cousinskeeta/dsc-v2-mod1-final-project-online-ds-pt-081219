{
 "cells": [
  {
   "cell_type": "markdown",
   "metadata": {},
   "source": [
    "# MOD 1 Final Project Submission - Sell My Home (SMH) \n",
    "\n",
    "* Student name: Jacob Tadesse\n",
    "* Student pace: Part-time\n",
    "* Scheduled project review: \n",
    "    * Monday, September 30, 2019 (non-technical)\n",
    "    * Tuesday, October 1, 2019 (technical)\n",
    "* Instructor name: Aubrey Smiley McAuliffe and Matt Sparr\n",
    "* Blog post: https://cousinskeeta.github.io/is_my_model_accurate"
   ]
  },
  {
   "cell_type": "markdown",
   "metadata": {},
   "source": [
    "# Table of Contents\n",
    "* [Importing the Dataset](#Importing-the-Dataset)\n",
    "* [Exploring the Dataset](#Exploring-the-Dataset)\n",
    "* [Cleaning the Dataset](#Cleaning-the-Dataset)\n",
    "* [Investigating Distributions](#Investigating-Distributions)\n",
    "* [Investigation Correlations](#Investigation-Correlations)\n",
    "* [Visualizing feature correlation](#Visualizing-feature-correlation)\n",
    "* [Linearity Assumption Check](#Linearity-Assumption-Check)\n",
    "* [Linear model in Statsmodels](#Linear-model-in-Statsmodels)\n",
    "* [Preprocessing](#Preprocessing)\n",
    "* [Dealing with Categorical Data](#Dealing-with-Categorical-Data)\n",
    "* [Categorical Data Visualizations](#Categorical-Data-Visualizations)\n",
    "* [Countinuous Data Visualizations](#Countinuous-Data-Visualizations)\n",
    "* [Creating a Better Dataset](#Creating-a-Better-Dataset)\n",
    "* [Dealing with Continuous Features](#Dealing-with-Continuous-Features)\n",
    "* [Model after standardization & normalization](#Model-after-standardization-&-normalization)\n",
    "* [Feature engineering](#Feature-engineering)\n",
    "* [Stepwise selection with p-values](#Stepwise-selection-with-p-values)\n",
    "* [Recursive Feature Elimination](#Recursive-Feature-Elimination)\n",
    "* [Top Five Features](#Top-Five-Features)\n",
    "* [Fitting the linear regression model using the 5 features](#Fitting-the-linear-regression-model-using-the-5-features)\n",
    "* [Checking multicolinearity](#Checking-multicolinearity)\n",
    "* [Train-Test-Split](#Train-Test-Split)\n",
    "* [Cross-Validation using Scikit-Learn](#Cross-Validation-using-Scikit-Learn)\n",
    "* [Saving both databases as .csv files for public use](#Saving-both-databases-as-.csv-files-for-public-use)\n",
    "* [Questions from Potential Home Sellers in King County](#Questions-from-Potential-Home-Sellers-in-King-County)\n",
    "* [Future Work](#Future-Work)"
   ]
  },
  {
   "cell_type": "markdown",
   "metadata": {},
   "source": [
    "# Importing the Dataset:"
   ]
  },
  {
   "cell_type": "markdown",
   "metadata": {},
   "source": [
    "Here I am importing the pandas library to read the .csv data, `\"kc_house_data.csv\"`."
   ]
  },
  {
   "cell_type": "code",
   "execution_count": 21,
   "metadata": {},
   "outputs": [],
   "source": [
    "import pandas as pd\n",
    "\n",
    "kd = pd.read_csv(\"kc_house_data.csv\")"
   ]
  },
  {
   "cell_type": "markdown",
   "metadata": {},
   "source": [
    "# Exploring the Dataset:"
   ]
  },
  {
   "cell_type": "markdown",
   "metadata": {},
   "source": [
    "Here I'm previewing the first five rows of data to do some initial exploration. "
   ]
  },
  {
   "cell_type": "code",
   "execution_count": 22,
   "metadata": {
    "scrolled": true
   },
   "outputs": [
    {
     "name": "stdout",
     "output_type": "stream",
     "text": [
      "KC Dataset - RAW VERSION (Preview)\n",
      "\n",
      ".............................\n"
     ]
    },
    {
     "data": {
      "text/html": [
       "<div>\n",
       "<style scoped>\n",
       "    .dataframe tbody tr th:only-of-type {\n",
       "        vertical-align: middle;\n",
       "    }\n",
       "\n",
       "    .dataframe tbody tr th {\n",
       "        vertical-align: top;\n",
       "    }\n",
       "\n",
       "    .dataframe thead th {\n",
       "        text-align: right;\n",
       "    }\n",
       "</style>\n",
       "<table border=\"1\" class=\"dataframe\">\n",
       "  <thead>\n",
       "    <tr style=\"text-align: right;\">\n",
       "      <th></th>\n",
       "      <th>id</th>\n",
       "      <th>date</th>\n",
       "      <th>price</th>\n",
       "      <th>bedrooms</th>\n",
       "      <th>bathrooms</th>\n",
       "      <th>sqft_living</th>\n",
       "      <th>sqft_lot</th>\n",
       "      <th>floors</th>\n",
       "      <th>waterfront</th>\n",
       "      <th>view</th>\n",
       "      <th>...</th>\n",
       "      <th>grade</th>\n",
       "      <th>sqft_above</th>\n",
       "      <th>sqft_basement</th>\n",
       "      <th>yr_built</th>\n",
       "      <th>yr_renovated</th>\n",
       "      <th>zipcode</th>\n",
       "      <th>lat</th>\n",
       "      <th>long</th>\n",
       "      <th>sqft_living15</th>\n",
       "      <th>sqft_lot15</th>\n",
       "    </tr>\n",
       "  </thead>\n",
       "  <tbody>\n",
       "    <tr>\n",
       "      <th>0</th>\n",
       "      <td>7129300520</td>\n",
       "      <td>10/13/2014</td>\n",
       "      <td>221900.0</td>\n",
       "      <td>3</td>\n",
       "      <td>1.00</td>\n",
       "      <td>1180</td>\n",
       "      <td>5650</td>\n",
       "      <td>1.0</td>\n",
       "      <td>NaN</td>\n",
       "      <td>0.0</td>\n",
       "      <td>...</td>\n",
       "      <td>7</td>\n",
       "      <td>1180</td>\n",
       "      <td>0.0</td>\n",
       "      <td>1955</td>\n",
       "      <td>0.0</td>\n",
       "      <td>98178</td>\n",
       "      <td>47.5112</td>\n",
       "      <td>-122.257</td>\n",
       "      <td>1340</td>\n",
       "      <td>5650</td>\n",
       "    </tr>\n",
       "    <tr>\n",
       "      <th>1</th>\n",
       "      <td>6414100192</td>\n",
       "      <td>12/9/2014</td>\n",
       "      <td>538000.0</td>\n",
       "      <td>3</td>\n",
       "      <td>2.25</td>\n",
       "      <td>2570</td>\n",
       "      <td>7242</td>\n",
       "      <td>2.0</td>\n",
       "      <td>0.0</td>\n",
       "      <td>0.0</td>\n",
       "      <td>...</td>\n",
       "      <td>7</td>\n",
       "      <td>2170</td>\n",
       "      <td>400.0</td>\n",
       "      <td>1951</td>\n",
       "      <td>1991.0</td>\n",
       "      <td>98125</td>\n",
       "      <td>47.7210</td>\n",
       "      <td>-122.319</td>\n",
       "      <td>1690</td>\n",
       "      <td>7639</td>\n",
       "    </tr>\n",
       "    <tr>\n",
       "      <th>2</th>\n",
       "      <td>5631500400</td>\n",
       "      <td>2/25/2015</td>\n",
       "      <td>180000.0</td>\n",
       "      <td>2</td>\n",
       "      <td>1.00</td>\n",
       "      <td>770</td>\n",
       "      <td>10000</td>\n",
       "      <td>1.0</td>\n",
       "      <td>0.0</td>\n",
       "      <td>0.0</td>\n",
       "      <td>...</td>\n",
       "      <td>6</td>\n",
       "      <td>770</td>\n",
       "      <td>0.0</td>\n",
       "      <td>1933</td>\n",
       "      <td>NaN</td>\n",
       "      <td>98028</td>\n",
       "      <td>47.7379</td>\n",
       "      <td>-122.233</td>\n",
       "      <td>2720</td>\n",
       "      <td>8062</td>\n",
       "    </tr>\n",
       "    <tr>\n",
       "      <th>3</th>\n",
       "      <td>2487200875</td>\n",
       "      <td>12/9/2014</td>\n",
       "      <td>604000.0</td>\n",
       "      <td>4</td>\n",
       "      <td>3.00</td>\n",
       "      <td>1960</td>\n",
       "      <td>5000</td>\n",
       "      <td>1.0</td>\n",
       "      <td>0.0</td>\n",
       "      <td>0.0</td>\n",
       "      <td>...</td>\n",
       "      <td>7</td>\n",
       "      <td>1050</td>\n",
       "      <td>910.0</td>\n",
       "      <td>1965</td>\n",
       "      <td>0.0</td>\n",
       "      <td>98136</td>\n",
       "      <td>47.5208</td>\n",
       "      <td>-122.393</td>\n",
       "      <td>1360</td>\n",
       "      <td>5000</td>\n",
       "    </tr>\n",
       "    <tr>\n",
       "      <th>4</th>\n",
       "      <td>1954400510</td>\n",
       "      <td>2/18/2015</td>\n",
       "      <td>510000.0</td>\n",
       "      <td>3</td>\n",
       "      <td>2.00</td>\n",
       "      <td>1680</td>\n",
       "      <td>8080</td>\n",
       "      <td>1.0</td>\n",
       "      <td>0.0</td>\n",
       "      <td>0.0</td>\n",
       "      <td>...</td>\n",
       "      <td>8</td>\n",
       "      <td>1680</td>\n",
       "      <td>0.0</td>\n",
       "      <td>1987</td>\n",
       "      <td>0.0</td>\n",
       "      <td>98074</td>\n",
       "      <td>47.6168</td>\n",
       "      <td>-122.045</td>\n",
       "      <td>1800</td>\n",
       "      <td>7503</td>\n",
       "    </tr>\n",
       "  </tbody>\n",
       "</table>\n",
       "<p>5 rows × 21 columns</p>\n",
       "</div>"
      ],
      "text/plain": [
       "           id        date     price  bedrooms  bathrooms  sqft_living  \\\n",
       "0  7129300520  10/13/2014  221900.0         3       1.00         1180   \n",
       "1  6414100192   12/9/2014  538000.0         3       2.25         2570   \n",
       "2  5631500400   2/25/2015  180000.0         2       1.00          770   \n",
       "3  2487200875   12/9/2014  604000.0         4       3.00         1960   \n",
       "4  1954400510   2/18/2015  510000.0         3       2.00         1680   \n",
       "\n",
       "   sqft_lot  floors  waterfront  view  ...  grade  sqft_above  sqft_basement  \\\n",
       "0      5650     1.0         NaN   0.0  ...      7        1180            0.0   \n",
       "1      7242     2.0         0.0   0.0  ...      7        2170          400.0   \n",
       "2     10000     1.0         0.0   0.0  ...      6         770            0.0   \n",
       "3      5000     1.0         0.0   0.0  ...      7        1050          910.0   \n",
       "4      8080     1.0         0.0   0.0  ...      8        1680            0.0   \n",
       "\n",
       "  yr_built  yr_renovated  zipcode      lat     long  sqft_living15  sqft_lot15  \n",
       "0     1955           0.0    98178  47.5112 -122.257           1340        5650  \n",
       "1     1951        1991.0    98125  47.7210 -122.319           1690        7639  \n",
       "2     1933           NaN    98028  47.7379 -122.233           2720        8062  \n",
       "3     1965           0.0    98136  47.5208 -122.393           1360        5000  \n",
       "4     1987           0.0    98074  47.6168 -122.045           1800        7503  \n",
       "\n",
       "[5 rows x 21 columns]"
      ]
     },
     "metadata": {},
     "output_type": "display_data"
    }
   ],
   "source": [
    "print('KC Dataset - RAW VERSION (Preview)')\n",
    "print('\\n.............................')\n",
    "display(kd.head())"
   ]
  },
  {
   "cell_type": "markdown",
   "metadata": {},
   "source": [
    "After initial review, the preview shows us 5 rows and 21 columns. I noticed that most columns contained numerical values. There is no consistent scale, and I also see couple `NaN` values in `'waterfront'` and `'yr_renovated'`. \n",
    "\n",
    "Below, I want to see how these values are stored in the Pandas DataFrame, and get a better sense of the structure."
   ]
  },
  {
   "cell_type": "code",
   "execution_count": 23,
   "metadata": {
    "scrolled": true
   },
   "outputs": [
    {
     "name": "stdout",
     "output_type": "stream",
     "text": [
      "KC Dataset - RAW (Information)\n",
      "\n",
      ".............................\n",
      "\n",
      "<class 'pandas.core.frame.DataFrame'>\n",
      "RangeIndex: 21597 entries, 0 to 21596\n",
      "Data columns (total 21 columns):\n",
      "id               21597 non-null int64\n",
      "date             21597 non-null object\n",
      "price            21597 non-null float64\n",
      "bedrooms         21597 non-null int64\n",
      "bathrooms        21597 non-null float64\n",
      "sqft_living      21597 non-null int64\n",
      "sqft_lot         21597 non-null int64\n",
      "floors           21597 non-null float64\n",
      "waterfront       19221 non-null float64\n",
      "view             21534 non-null float64\n",
      "condition        21597 non-null int64\n",
      "grade            21597 non-null int64\n",
      "sqft_above       21597 non-null int64\n",
      "sqft_basement    21597 non-null object\n",
      "yr_built         21597 non-null int64\n",
      "yr_renovated     17755 non-null float64\n",
      "zipcode          21597 non-null int64\n",
      "lat              21597 non-null float64\n",
      "long             21597 non-null float64\n",
      "sqft_living15    21597 non-null int64\n",
      "sqft_lot15       21597 non-null int64\n",
      "dtypes: float64(8), int64(11), object(2)\n",
      "memory usage: 3.5+ MB\n"
     ]
    },
    {
     "data": {
      "text/plain": [
       "None"
      ]
     },
     "metadata": {},
     "output_type": "display_data"
    }
   ],
   "source": [
    "print('KC Dataset - RAW (Information)')\n",
    "print('\\n.............................\\n')\n",
    "display(kd.info())"
   ]
  },
  {
   "cell_type": "markdown",
   "metadata": {},
   "source": [
    "Our findings.\n",
    "* We can see that most of the values are numeric, (8) `'float64'` and (11)`'int64'`. \n",
    "* We also see (2) numerical columns saved as (2) objects. \n",
    "* We can see values missing from `'waterfront'`, `'yr_renovated'`, and `view`. \n",
    "* We have `21,597` total records in the dataset.\n",
    "\n",
    "Let's recap. \n",
    "* We have two columns with `NaN` values.\n",
    "* We have three columns with missing values."
   ]
  },
  {
   "cell_type": "markdown",
   "metadata": {},
   "source": [
    "# Cleaning the Dataset:"
   ]
  },
  {
   "cell_type": "markdown",
   "metadata": {},
   "source": [
    "Here I'll change the date of sale to a friendlier format, `'datetiem64[ns]'`, using built-in Pandas' tools."
   ]
  },
  {
   "cell_type": "code",
   "execution_count": 24,
   "metadata": {},
   "outputs": [],
   "source": [
    "kd['date'] =  pd.to_datetime(kd['date'],\n",
    "                              format='%m/%d/%Y')"
   ]
  },
  {
   "cell_type": "code",
   "execution_count": 25,
   "metadata": {
    "scrolled": true
   },
   "outputs": [
    {
     "name": "stdout",
     "output_type": "stream",
     "text": [
      "<class 'pandas.core.frame.DataFrame'>\n",
      "RangeIndex: 21597 entries, 0 to 21596\n",
      "Data columns (total 21 columns):\n",
      "id               21597 non-null int64\n",
      "date             21597 non-null datetime64[ns]\n",
      "price            21597 non-null float64\n",
      "bedrooms         21597 non-null int64\n",
      "bathrooms        21597 non-null float64\n",
      "sqft_living      21597 non-null int64\n",
      "sqft_lot         21597 non-null int64\n",
      "floors           21597 non-null float64\n",
      "waterfront       19221 non-null float64\n",
      "view             21534 non-null float64\n",
      "condition        21597 non-null int64\n",
      "grade            21597 non-null int64\n",
      "sqft_above       21597 non-null int64\n",
      "sqft_basement    21597 non-null object\n",
      "yr_built         21597 non-null int64\n",
      "yr_renovated     17755 non-null float64\n",
      "zipcode          21597 non-null int64\n",
      "lat              21597 non-null float64\n",
      "long             21597 non-null float64\n",
      "sqft_living15    21597 non-null int64\n",
      "sqft_lot15       21597 non-null int64\n",
      "dtypes: datetime64[ns](1), float64(8), int64(11), object(1)\n",
      "memory usage: 3.5+ MB\n"
     ]
    }
   ],
   "source": [
    "kd.info() # Just checking to see if the date was changed here"
   ]
  },
  {
   "cell_type": "markdown",
   "metadata": {},
   "source": [
    "Now let's take a look at the data statistics in a glance using more built-in Pandas' tools."
   ]
  },
  {
   "cell_type": "code",
   "execution_count": 26,
   "metadata": {},
   "outputs": [
    {
     "data": {
      "text/plain": [
       "7316    2014-05-02\n",
       "20586   2014-05-02\n",
       "1040    2014-05-02\n",
       "20543   2014-05-02\n",
       "9587    2014-05-02\n",
       "Name: date, dtype: datetime64[ns]"
      ]
     },
     "execution_count": 26,
     "metadata": {},
     "output_type": "execute_result"
    }
   ],
   "source": [
    "kd.date.sort_values().head()"
   ]
  },
  {
   "cell_type": "code",
   "execution_count": 27,
   "metadata": {
    "scrolled": false
   },
   "outputs": [
    {
     "name": "stdout",
     "output_type": "stream",
     "text": [
      "KC Dataset - RAW (Statistics)\n",
      "\n",
      ".............................\n",
      "\n"
     ]
    },
    {
     "data": {
      "text/html": [
       "<div>\n",
       "<style scoped>\n",
       "    .dataframe tbody tr th:only-of-type {\n",
       "        vertical-align: middle;\n",
       "    }\n",
       "\n",
       "    .dataframe tbody tr th {\n",
       "        vertical-align: top;\n",
       "    }\n",
       "\n",
       "    .dataframe thead th {\n",
       "        text-align: right;\n",
       "    }\n",
       "</style>\n",
       "<table border=\"1\" class=\"dataframe\">\n",
       "  <thead>\n",
       "    <tr style=\"text-align: right;\">\n",
       "      <th></th>\n",
       "      <th>id</th>\n",
       "      <th>price</th>\n",
       "      <th>bedrooms</th>\n",
       "      <th>bathrooms</th>\n",
       "      <th>sqft_living</th>\n",
       "      <th>sqft_lot</th>\n",
       "      <th>floors</th>\n",
       "      <th>waterfront</th>\n",
       "      <th>view</th>\n",
       "      <th>condition</th>\n",
       "      <th>grade</th>\n",
       "      <th>sqft_above</th>\n",
       "      <th>yr_built</th>\n",
       "      <th>yr_renovated</th>\n",
       "      <th>zipcode</th>\n",
       "      <th>lat</th>\n",
       "      <th>long</th>\n",
       "      <th>sqft_living15</th>\n",
       "      <th>sqft_lot15</th>\n",
       "    </tr>\n",
       "  </thead>\n",
       "  <tbody>\n",
       "    <tr>\n",
       "      <th>count</th>\n",
       "      <td>2.159700e+04</td>\n",
       "      <td>2.159700e+04</td>\n",
       "      <td>21597.000000</td>\n",
       "      <td>21597.000000</td>\n",
       "      <td>21597.000000</td>\n",
       "      <td>2.159700e+04</td>\n",
       "      <td>21597.000000</td>\n",
       "      <td>19221.000000</td>\n",
       "      <td>21534.000000</td>\n",
       "      <td>21597.000000</td>\n",
       "      <td>21597.000000</td>\n",
       "      <td>21597.000000</td>\n",
       "      <td>21597.000000</td>\n",
       "      <td>17755.000000</td>\n",
       "      <td>21597.000000</td>\n",
       "      <td>21597.000000</td>\n",
       "      <td>21597.000000</td>\n",
       "      <td>21597.000000</td>\n",
       "      <td>21597.000000</td>\n",
       "    </tr>\n",
       "    <tr>\n",
       "      <th>mean</th>\n",
       "      <td>4.580474e+09</td>\n",
       "      <td>5.402966e+05</td>\n",
       "      <td>3.373200</td>\n",
       "      <td>2.115826</td>\n",
       "      <td>2080.321850</td>\n",
       "      <td>1.509941e+04</td>\n",
       "      <td>1.494096</td>\n",
       "      <td>0.007596</td>\n",
       "      <td>0.233863</td>\n",
       "      <td>3.409825</td>\n",
       "      <td>7.657915</td>\n",
       "      <td>1788.596842</td>\n",
       "      <td>1970.999676</td>\n",
       "      <td>83.636778</td>\n",
       "      <td>98077.951845</td>\n",
       "      <td>47.560093</td>\n",
       "      <td>-122.213982</td>\n",
       "      <td>1986.620318</td>\n",
       "      <td>12758.283512</td>\n",
       "    </tr>\n",
       "    <tr>\n",
       "      <th>std</th>\n",
       "      <td>2.876736e+09</td>\n",
       "      <td>3.673681e+05</td>\n",
       "      <td>0.926299</td>\n",
       "      <td>0.768984</td>\n",
       "      <td>918.106125</td>\n",
       "      <td>4.141264e+04</td>\n",
       "      <td>0.539683</td>\n",
       "      <td>0.086825</td>\n",
       "      <td>0.765686</td>\n",
       "      <td>0.650546</td>\n",
       "      <td>1.173200</td>\n",
       "      <td>827.759761</td>\n",
       "      <td>29.375234</td>\n",
       "      <td>399.946414</td>\n",
       "      <td>53.513072</td>\n",
       "      <td>0.138552</td>\n",
       "      <td>0.140724</td>\n",
       "      <td>685.230472</td>\n",
       "      <td>27274.441950</td>\n",
       "    </tr>\n",
       "    <tr>\n",
       "      <th>min</th>\n",
       "      <td>1.000102e+06</td>\n",
       "      <td>7.800000e+04</td>\n",
       "      <td>1.000000</td>\n",
       "      <td>0.500000</td>\n",
       "      <td>370.000000</td>\n",
       "      <td>5.200000e+02</td>\n",
       "      <td>1.000000</td>\n",
       "      <td>0.000000</td>\n",
       "      <td>0.000000</td>\n",
       "      <td>1.000000</td>\n",
       "      <td>3.000000</td>\n",
       "      <td>370.000000</td>\n",
       "      <td>1900.000000</td>\n",
       "      <td>0.000000</td>\n",
       "      <td>98001.000000</td>\n",
       "      <td>47.155900</td>\n",
       "      <td>-122.519000</td>\n",
       "      <td>399.000000</td>\n",
       "      <td>651.000000</td>\n",
       "    </tr>\n",
       "    <tr>\n",
       "      <th>25%</th>\n",
       "      <td>2.123049e+09</td>\n",
       "      <td>3.220000e+05</td>\n",
       "      <td>3.000000</td>\n",
       "      <td>1.750000</td>\n",
       "      <td>1430.000000</td>\n",
       "      <td>5.040000e+03</td>\n",
       "      <td>1.000000</td>\n",
       "      <td>0.000000</td>\n",
       "      <td>0.000000</td>\n",
       "      <td>3.000000</td>\n",
       "      <td>7.000000</td>\n",
       "      <td>1190.000000</td>\n",
       "      <td>1951.000000</td>\n",
       "      <td>0.000000</td>\n",
       "      <td>98033.000000</td>\n",
       "      <td>47.471100</td>\n",
       "      <td>-122.328000</td>\n",
       "      <td>1490.000000</td>\n",
       "      <td>5100.000000</td>\n",
       "    </tr>\n",
       "    <tr>\n",
       "      <th>50%</th>\n",
       "      <td>3.904930e+09</td>\n",
       "      <td>4.500000e+05</td>\n",
       "      <td>3.000000</td>\n",
       "      <td>2.250000</td>\n",
       "      <td>1910.000000</td>\n",
       "      <td>7.618000e+03</td>\n",
       "      <td>1.500000</td>\n",
       "      <td>0.000000</td>\n",
       "      <td>0.000000</td>\n",
       "      <td>3.000000</td>\n",
       "      <td>7.000000</td>\n",
       "      <td>1560.000000</td>\n",
       "      <td>1975.000000</td>\n",
       "      <td>0.000000</td>\n",
       "      <td>98065.000000</td>\n",
       "      <td>47.571800</td>\n",
       "      <td>-122.231000</td>\n",
       "      <td>1840.000000</td>\n",
       "      <td>7620.000000</td>\n",
       "    </tr>\n",
       "    <tr>\n",
       "      <th>75%</th>\n",
       "      <td>7.308900e+09</td>\n",
       "      <td>6.450000e+05</td>\n",
       "      <td>4.000000</td>\n",
       "      <td>2.500000</td>\n",
       "      <td>2550.000000</td>\n",
       "      <td>1.068500e+04</td>\n",
       "      <td>2.000000</td>\n",
       "      <td>0.000000</td>\n",
       "      <td>0.000000</td>\n",
       "      <td>4.000000</td>\n",
       "      <td>8.000000</td>\n",
       "      <td>2210.000000</td>\n",
       "      <td>1997.000000</td>\n",
       "      <td>0.000000</td>\n",
       "      <td>98118.000000</td>\n",
       "      <td>47.678000</td>\n",
       "      <td>-122.125000</td>\n",
       "      <td>2360.000000</td>\n",
       "      <td>10083.000000</td>\n",
       "    </tr>\n",
       "    <tr>\n",
       "      <th>max</th>\n",
       "      <td>9.900000e+09</td>\n",
       "      <td>7.700000e+06</td>\n",
       "      <td>33.000000</td>\n",
       "      <td>8.000000</td>\n",
       "      <td>13540.000000</td>\n",
       "      <td>1.651359e+06</td>\n",
       "      <td>3.500000</td>\n",
       "      <td>1.000000</td>\n",
       "      <td>4.000000</td>\n",
       "      <td>5.000000</td>\n",
       "      <td>13.000000</td>\n",
       "      <td>9410.000000</td>\n",
       "      <td>2015.000000</td>\n",
       "      <td>2015.000000</td>\n",
       "      <td>98199.000000</td>\n",
       "      <td>47.777600</td>\n",
       "      <td>-121.315000</td>\n",
       "      <td>6210.000000</td>\n",
       "      <td>871200.000000</td>\n",
       "    </tr>\n",
       "  </tbody>\n",
       "</table>\n",
       "</div>"
      ],
      "text/plain": [
       "                 id         price      bedrooms     bathrooms   sqft_living  \\\n",
       "count  2.159700e+04  2.159700e+04  21597.000000  21597.000000  21597.000000   \n",
       "mean   4.580474e+09  5.402966e+05      3.373200      2.115826   2080.321850   \n",
       "std    2.876736e+09  3.673681e+05      0.926299      0.768984    918.106125   \n",
       "min    1.000102e+06  7.800000e+04      1.000000      0.500000    370.000000   \n",
       "25%    2.123049e+09  3.220000e+05      3.000000      1.750000   1430.000000   \n",
       "50%    3.904930e+09  4.500000e+05      3.000000      2.250000   1910.000000   \n",
       "75%    7.308900e+09  6.450000e+05      4.000000      2.500000   2550.000000   \n",
       "max    9.900000e+09  7.700000e+06     33.000000      8.000000  13540.000000   \n",
       "\n",
       "           sqft_lot        floors    waterfront          view     condition  \\\n",
       "count  2.159700e+04  21597.000000  19221.000000  21534.000000  21597.000000   \n",
       "mean   1.509941e+04      1.494096      0.007596      0.233863      3.409825   \n",
       "std    4.141264e+04      0.539683      0.086825      0.765686      0.650546   \n",
       "min    5.200000e+02      1.000000      0.000000      0.000000      1.000000   \n",
       "25%    5.040000e+03      1.000000      0.000000      0.000000      3.000000   \n",
       "50%    7.618000e+03      1.500000      0.000000      0.000000      3.000000   \n",
       "75%    1.068500e+04      2.000000      0.000000      0.000000      4.000000   \n",
       "max    1.651359e+06      3.500000      1.000000      4.000000      5.000000   \n",
       "\n",
       "              grade    sqft_above      yr_built  yr_renovated       zipcode  \\\n",
       "count  21597.000000  21597.000000  21597.000000  17755.000000  21597.000000   \n",
       "mean       7.657915   1788.596842   1970.999676     83.636778  98077.951845   \n",
       "std        1.173200    827.759761     29.375234    399.946414     53.513072   \n",
       "min        3.000000    370.000000   1900.000000      0.000000  98001.000000   \n",
       "25%        7.000000   1190.000000   1951.000000      0.000000  98033.000000   \n",
       "50%        7.000000   1560.000000   1975.000000      0.000000  98065.000000   \n",
       "75%        8.000000   2210.000000   1997.000000      0.000000  98118.000000   \n",
       "max       13.000000   9410.000000   2015.000000   2015.000000  98199.000000   \n",
       "\n",
       "                lat          long  sqft_living15     sqft_lot15  \n",
       "count  21597.000000  21597.000000   21597.000000   21597.000000  \n",
       "mean      47.560093   -122.213982    1986.620318   12758.283512  \n",
       "std        0.138552      0.140724     685.230472   27274.441950  \n",
       "min       47.155900   -122.519000     399.000000     651.000000  \n",
       "25%       47.471100   -122.328000    1490.000000    5100.000000  \n",
       "50%       47.571800   -122.231000    1840.000000    7620.000000  \n",
       "75%       47.678000   -122.125000    2360.000000   10083.000000  \n",
       "max       47.777600   -121.315000    6210.000000  871200.000000  "
      ]
     },
     "execution_count": 27,
     "metadata": {},
     "output_type": "execute_result"
    }
   ],
   "source": [
    "print('KC Dataset - RAW (Statistics)')\n",
    "print('\\n.............................\\n')\n",
    "kd.describe()"
   ]
  },
  {
   "cell_type": "markdown",
   "metadata": {},
   "source": [
    "By viewing the DataFrame statistics, we can see which features share a common distribution by comparing each features `'mean'` against the corresponding `'median'`. Features that catch my eye with normalish distribution are as follows: `price`, `bedrooms`, `bathrooms`, `sqft_living`, `floors`, `view`, `condition`, `grade`, `yr_built`, `zipcode`, `lat`, `long`."
   ]
  },
  {
   "cell_type": "markdown",
   "metadata": {},
   "source": [
    "Next I will checking for null values in the columns that showed missing values."
   ]
  },
  {
   "cell_type": "code",
   "execution_count": 28,
   "metadata": {
    "scrolled": true
   },
   "outputs": [
    {
     "data": {
      "text/plain": [
       "id                  0\n",
       "date                0\n",
       "price               0\n",
       "bedrooms            0\n",
       "bathrooms           0\n",
       "sqft_living         0\n",
       "sqft_lot            0\n",
       "floors              0\n",
       "waterfront       2376\n",
       "view               63\n",
       "condition           0\n",
       "grade               0\n",
       "sqft_above          0\n",
       "sqft_basement       0\n",
       "yr_built            0\n",
       "yr_renovated     3842\n",
       "zipcode             0\n",
       "lat                 0\n",
       "long                0\n",
       "sqft_living15       0\n",
       "sqft_lot15          0\n",
       "dtype: int64"
      ]
     },
     "execution_count": 28,
     "metadata": {},
     "output_type": "execute_result"
    }
   ],
   "source": [
    "kd.isna().sum()"
   ]
  },
  {
   "cell_type": "markdown",
   "metadata": {},
   "source": [
    "Next, I will determine the percent of values missing for each feature, from the entire dataset:"
   ]
  },
  {
   "cell_type": "code",
   "execution_count": 29,
   "metadata": {},
   "outputs": [
    {
     "name": "stdout",
     "output_type": "stream",
     "text": [
      "11.00152798999861% missing\n",
      "0.29170718155299347% missing\n",
      "17.78950780200954% missing\n"
     ]
    }
   ],
   "source": [
    "# Number of missing records from waterfront, view, and yr_renovated\n",
    "\n",
    "water_nan = len(kd[kd.waterfront.isna() == True]) \n",
    "view_nan = len(kd[kd.view.isna()== True]) \n",
    "reno_nan = len(kd[kd.yr_renovated.isna()== True]) \n",
    "\n",
    "# List of all features with missing records vs total records\n",
    "\n",
    "num_missing_values = [water_nan, view_nan, reno_nan] \n",
    "tot_values = len(kd) \n",
    "\n",
    "# for loop to print the percent of each missing feature\n",
    "for num in num_missing_values:\n",
    "\n",
    "    print('{}% missing'.format(((num / tot_values)*100)))"
   ]
  },
  {
   "cell_type": "markdown",
   "metadata": {},
   "source": [
    "Since view is less than 1%, I will drop those missing records. "
   ]
  },
  {
   "cell_type": "code",
   "execution_count": 30,
   "metadata": {},
   "outputs": [
    {
     "data": {
      "text/plain": [
       "id                  0\n",
       "date                0\n",
       "price               0\n",
       "bedrooms            0\n",
       "bathrooms           0\n",
       "sqft_living         0\n",
       "sqft_lot            0\n",
       "floors              0\n",
       "waterfront       2370\n",
       "view                0\n",
       "condition           0\n",
       "grade               0\n",
       "sqft_above          0\n",
       "sqft_basement       0\n",
       "yr_built            0\n",
       "yr_renovated     3830\n",
       "zipcode             0\n",
       "lat                 0\n",
       "long                0\n",
       "sqft_living15       0\n",
       "sqft_lot15          0\n",
       "dtype: int64"
      ]
     },
     "execution_count": 30,
     "metadata": {},
     "output_type": "execute_result"
    }
   ],
   "source": [
    "kd.dropna(axis=0,subset=['view']).isna().sum()"
   ]
  },
  {
   "cell_type": "markdown",
   "metadata": {},
   "source": [
    "Using `dropna`, we can remove the individual records missing vales."
   ]
  },
  {
   "cell_type": "code",
   "execution_count": 31,
   "metadata": {},
   "outputs": [],
   "source": [
    "kd = kd.dropna(axis=0,subset=['view'])"
   ]
  },
  {
   "cell_type": "markdown",
   "metadata": {},
   "source": [
    "Since we are cleaning the data, I want to focus on family size homes that are normally less than 5 bedrooms, so here I will drop the records with more than 5 bedrooms from the data set."
   ]
  },
  {
   "cell_type": "code",
   "execution_count": 32,
   "metadata": {
    "scrolled": false
   },
   "outputs": [
    {
     "data": {
      "text/html": [
       "<div>\n",
       "<style scoped>\n",
       "    .dataframe tbody tr th:only-of-type {\n",
       "        vertical-align: middle;\n",
       "    }\n",
       "\n",
       "    .dataframe tbody tr th {\n",
       "        vertical-align: top;\n",
       "    }\n",
       "\n",
       "    .dataframe thead th {\n",
       "        text-align: right;\n",
       "    }\n",
       "</style>\n",
       "<table border=\"1\" class=\"dataframe\">\n",
       "  <thead>\n",
       "    <tr style=\"text-align: right;\">\n",
       "      <th></th>\n",
       "      <th>id</th>\n",
       "      <th>price</th>\n",
       "      <th>bedrooms</th>\n",
       "      <th>bathrooms</th>\n",
       "      <th>sqft_living</th>\n",
       "      <th>sqft_lot</th>\n",
       "      <th>floors</th>\n",
       "      <th>waterfront</th>\n",
       "      <th>view</th>\n",
       "      <th>condition</th>\n",
       "      <th>grade</th>\n",
       "      <th>sqft_above</th>\n",
       "      <th>yr_built</th>\n",
       "      <th>yr_renovated</th>\n",
       "      <th>zipcode</th>\n",
       "      <th>lat</th>\n",
       "      <th>long</th>\n",
       "      <th>sqft_living15</th>\n",
       "      <th>sqft_lot15</th>\n",
       "    </tr>\n",
       "  </thead>\n",
       "  <tbody>\n",
       "    <tr>\n",
       "      <th>count</th>\n",
       "      <td>1.960600e+04</td>\n",
       "      <td>1.960600e+04</td>\n",
       "      <td>19606.000000</td>\n",
       "      <td>19606.000000</td>\n",
       "      <td>19606.000000</td>\n",
       "      <td>1.960600e+04</td>\n",
       "      <td>19606.000000</td>\n",
       "      <td>17445.000000</td>\n",
       "      <td>19606.000000</td>\n",
       "      <td>19606.000000</td>\n",
       "      <td>19606.000000</td>\n",
       "      <td>19606.000000</td>\n",
       "      <td>19606.000000</td>\n",
       "      <td>16108.000000</td>\n",
       "      <td>19606.000000</td>\n",
       "      <td>19606.000000</td>\n",
       "      <td>19606.000000</td>\n",
       "      <td>19606.000000</td>\n",
       "      <td>19606.000000</td>\n",
       "    </tr>\n",
       "    <tr>\n",
       "      <th>mean</th>\n",
       "      <td>4.591369e+09</td>\n",
       "      <td>5.149427e+05</td>\n",
       "      <td>3.189687</td>\n",
       "      <td>2.043941</td>\n",
       "      <td>1979.130980</td>\n",
       "      <td>1.490293e+04</td>\n",
       "      <td>1.484877</td>\n",
       "      <td>0.007051</td>\n",
       "      <td>0.215138</td>\n",
       "      <td>3.405590</td>\n",
       "      <td>7.600071</td>\n",
       "      <td>1724.889881</td>\n",
       "      <td>1970.895185</td>\n",
       "      <td>80.409300</td>\n",
       "      <td>98078.521728</td>\n",
       "      <td>47.558573</td>\n",
       "      <td>-122.214494</td>\n",
       "      <td>1944.415689</td>\n",
       "      <td>12696.679588</td>\n",
       "    </tr>\n",
       "    <tr>\n",
       "      <th>std</th>\n",
       "      <td>2.880892e+09</td>\n",
       "      <td>3.188646e+05</td>\n",
       "      <td>0.703311</td>\n",
       "      <td>0.714691</td>\n",
       "      <td>826.492169</td>\n",
       "      <td>4.133352e+04</td>\n",
       "      <td>0.542612</td>\n",
       "      <td>0.083674</td>\n",
       "      <td>0.734286</td>\n",
       "      <td>0.649043</td>\n",
       "      <td>1.138041</td>\n",
       "      <td>769.810606</td>\n",
       "      <td>29.293221</td>\n",
       "      <td>392.466158</td>\n",
       "      <td>53.447763</td>\n",
       "      <td>0.140158</td>\n",
       "      <td>0.142479</td>\n",
       "      <td>656.595291</td>\n",
       "      <td>27603.326194</td>\n",
       "    </tr>\n",
       "    <tr>\n",
       "      <th>min</th>\n",
       "      <td>1.200019e+06</td>\n",
       "      <td>7.800000e+04</td>\n",
       "      <td>1.000000</td>\n",
       "      <td>0.500000</td>\n",
       "      <td>370.000000</td>\n",
       "      <td>5.200000e+02</td>\n",
       "      <td>1.000000</td>\n",
       "      <td>0.000000</td>\n",
       "      <td>0.000000</td>\n",
       "      <td>1.000000</td>\n",
       "      <td>3.000000</td>\n",
       "      <td>370.000000</td>\n",
       "      <td>1900.000000</td>\n",
       "      <td>0.000000</td>\n",
       "      <td>98001.000000</td>\n",
       "      <td>47.155900</td>\n",
       "      <td>-122.519000</td>\n",
       "      <td>399.000000</td>\n",
       "      <td>651.000000</td>\n",
       "    </tr>\n",
       "    <tr>\n",
       "      <th>25%</th>\n",
       "      <td>2.125570e+09</td>\n",
       "      <td>3.150000e+05</td>\n",
       "      <td>3.000000</td>\n",
       "      <td>1.500000</td>\n",
       "      <td>1380.000000</td>\n",
       "      <td>5.000000e+03</td>\n",
       "      <td>1.000000</td>\n",
       "      <td>0.000000</td>\n",
       "      <td>0.000000</td>\n",
       "      <td>3.000000</td>\n",
       "      <td>7.000000</td>\n",
       "      <td>1170.000000</td>\n",
       "      <td>1951.000000</td>\n",
       "      <td>0.000000</td>\n",
       "      <td>98033.000000</td>\n",
       "      <td>47.464800</td>\n",
       "      <td>-122.331000</td>\n",
       "      <td>1470.000000</td>\n",
       "      <td>5040.000000</td>\n",
       "    </tr>\n",
       "    <tr>\n",
       "      <th>50%</th>\n",
       "      <td>3.904910e+09</td>\n",
       "      <td>4.400000e+05</td>\n",
       "      <td>3.000000</td>\n",
       "      <td>2.000000</td>\n",
       "      <td>1830.000000</td>\n",
       "      <td>7.500000e+03</td>\n",
       "      <td>1.000000</td>\n",
       "      <td>0.000000</td>\n",
       "      <td>0.000000</td>\n",
       "      <td>3.000000</td>\n",
       "      <td>7.000000</td>\n",
       "      <td>1520.000000</td>\n",
       "      <td>1975.000000</td>\n",
       "      <td>0.000000</td>\n",
       "      <td>98070.000000</td>\n",
       "      <td>47.570400</td>\n",
       "      <td>-122.234000</td>\n",
       "      <td>1800.000000</td>\n",
       "      <td>7546.500000</td>\n",
       "    </tr>\n",
       "    <tr>\n",
       "      <th>75%</th>\n",
       "      <td>7.334602e+09</td>\n",
       "      <td>6.200000e+05</td>\n",
       "      <td>4.000000</td>\n",
       "      <td>2.500000</td>\n",
       "      <td>2420.000000</td>\n",
       "      <td>1.045400e+04</td>\n",
       "      <td>2.000000</td>\n",
       "      <td>0.000000</td>\n",
       "      <td>0.000000</td>\n",
       "      <td>4.000000</td>\n",
       "      <td>8.000000</td>\n",
       "      <td>2120.000000</td>\n",
       "      <td>1996.000000</td>\n",
       "      <td>0.000000</td>\n",
       "      <td>98118.000000</td>\n",
       "      <td>47.679100</td>\n",
       "      <td>-122.124000</td>\n",
       "      <td>2310.000000</td>\n",
       "      <td>9998.000000</td>\n",
       "    </tr>\n",
       "    <tr>\n",
       "      <th>max</th>\n",
       "      <td>9.900000e+09</td>\n",
       "      <td>4.490000e+06</td>\n",
       "      <td>4.000000</td>\n",
       "      <td>5.750000</td>\n",
       "      <td>7850.000000</td>\n",
       "      <td>1.651359e+06</td>\n",
       "      <td>3.500000</td>\n",
       "      <td>1.000000</td>\n",
       "      <td>4.000000</td>\n",
       "      <td>5.000000</td>\n",
       "      <td>13.000000</td>\n",
       "      <td>7850.000000</td>\n",
       "      <td>2015.000000</td>\n",
       "      <td>2015.000000</td>\n",
       "      <td>98199.000000</td>\n",
       "      <td>47.777600</td>\n",
       "      <td>-121.315000</td>\n",
       "      <td>6210.000000</td>\n",
       "      <td>871200.000000</td>\n",
       "    </tr>\n",
       "  </tbody>\n",
       "</table>\n",
       "</div>"
      ],
      "text/plain": [
       "                 id         price      bedrooms     bathrooms   sqft_living  \\\n",
       "count  1.960600e+04  1.960600e+04  19606.000000  19606.000000  19606.000000   \n",
       "mean   4.591369e+09  5.149427e+05      3.189687      2.043941   1979.130980   \n",
       "std    2.880892e+09  3.188646e+05      0.703311      0.714691    826.492169   \n",
       "min    1.200019e+06  7.800000e+04      1.000000      0.500000    370.000000   \n",
       "25%    2.125570e+09  3.150000e+05      3.000000      1.500000   1380.000000   \n",
       "50%    3.904910e+09  4.400000e+05      3.000000      2.000000   1830.000000   \n",
       "75%    7.334602e+09  6.200000e+05      4.000000      2.500000   2420.000000   \n",
       "max    9.900000e+09  4.490000e+06      4.000000      5.750000   7850.000000   \n",
       "\n",
       "           sqft_lot        floors    waterfront          view     condition  \\\n",
       "count  1.960600e+04  19606.000000  17445.000000  19606.000000  19606.000000   \n",
       "mean   1.490293e+04      1.484877      0.007051      0.215138      3.405590   \n",
       "std    4.133352e+04      0.542612      0.083674      0.734286      0.649043   \n",
       "min    5.200000e+02      1.000000      0.000000      0.000000      1.000000   \n",
       "25%    5.000000e+03      1.000000      0.000000      0.000000      3.000000   \n",
       "50%    7.500000e+03      1.000000      0.000000      0.000000      3.000000   \n",
       "75%    1.045400e+04      2.000000      0.000000      0.000000      4.000000   \n",
       "max    1.651359e+06      3.500000      1.000000      4.000000      5.000000   \n",
       "\n",
       "              grade    sqft_above      yr_built  yr_renovated       zipcode  \\\n",
       "count  19606.000000  19606.000000  19606.000000  16108.000000  19606.000000   \n",
       "mean       7.600071   1724.889881   1970.895185     80.409300  98078.521728   \n",
       "std        1.138041    769.810606     29.293221    392.466158     53.447763   \n",
       "min        3.000000    370.000000   1900.000000      0.000000  98001.000000   \n",
       "25%        7.000000   1170.000000   1951.000000      0.000000  98033.000000   \n",
       "50%        7.000000   1520.000000   1975.000000      0.000000  98070.000000   \n",
       "75%        8.000000   2120.000000   1996.000000      0.000000  98118.000000   \n",
       "max       13.000000   7850.000000   2015.000000   2015.000000  98199.000000   \n",
       "\n",
       "                lat          long  sqft_living15     sqft_lot15  \n",
       "count  19606.000000  19606.000000   19606.000000   19606.000000  \n",
       "mean      47.558573   -122.214494    1944.415689   12696.679588  \n",
       "std        0.140158      0.142479     656.595291   27603.326194  \n",
       "min       47.155900   -122.519000     399.000000     651.000000  \n",
       "25%       47.464800   -122.331000    1470.000000    5040.000000  \n",
       "50%       47.570400   -122.234000    1800.000000    7546.500000  \n",
       "75%       47.679100   -122.124000    2310.000000    9998.000000  \n",
       "max       47.777600   -121.315000    6210.000000  871200.000000  "
      ]
     },
     "execution_count": 32,
     "metadata": {},
     "output_type": "execute_result"
    }
   ],
   "source": [
    "kd = kd[kd.bedrooms <5]\n",
    "kd.describe()"
   ]
  },
  {
   "cell_type": "markdown",
   "metadata": {},
   "source": [
    "Next, I will drop the features `waterfront` and `yr_renovated`, since over 10% of the values are missing and will produce bias in our analysis."
   ]
  },
  {
   "cell_type": "code",
   "execution_count": 33,
   "metadata": {},
   "outputs": [],
   "source": [
    "kd = kd.drop(axis=1,labels=['waterfront', 'yr_renovated'])"
   ]
  },
  {
   "cell_type": "code",
   "execution_count": 34,
   "metadata": {},
   "outputs": [
    {
     "name": "stdout",
     "output_type": "stream",
     "text": [
      "<class 'pandas.core.frame.DataFrame'>\n",
      "Int64Index: 19606 entries, 0 to 21596\n",
      "Data columns (total 19 columns):\n",
      "id               19606 non-null int64\n",
      "date             19606 non-null datetime64[ns]\n",
      "price            19606 non-null float64\n",
      "bedrooms         19606 non-null int64\n",
      "bathrooms        19606 non-null float64\n",
      "sqft_living      19606 non-null int64\n",
      "sqft_lot         19606 non-null int64\n",
      "floors           19606 non-null float64\n",
      "view             19606 non-null float64\n",
      "condition        19606 non-null int64\n",
      "grade            19606 non-null int64\n",
      "sqft_above       19606 non-null int64\n",
      "sqft_basement    19606 non-null object\n",
      "yr_built         19606 non-null int64\n",
      "zipcode          19606 non-null int64\n",
      "lat              19606 non-null float64\n",
      "long             19606 non-null float64\n",
      "sqft_living15    19606 non-null int64\n",
      "sqft_lot15       19606 non-null int64\n",
      "dtypes: datetime64[ns](1), float64(6), int64(11), object(1)\n",
      "memory usage: 3.0+ MB\n"
     ]
    },
    {
     "data": {
      "text/plain": [
       "None"
      ]
     },
     "metadata": {},
     "output_type": "display_data"
    },
    {
     "data": {
      "text/html": [
       "<div>\n",
       "<style scoped>\n",
       "    .dataframe tbody tr th:only-of-type {\n",
       "        vertical-align: middle;\n",
       "    }\n",
       "\n",
       "    .dataframe tbody tr th {\n",
       "        vertical-align: top;\n",
       "    }\n",
       "\n",
       "    .dataframe thead th {\n",
       "        text-align: right;\n",
       "    }\n",
       "</style>\n",
       "<table border=\"1\" class=\"dataframe\">\n",
       "  <thead>\n",
       "    <tr style=\"text-align: right;\">\n",
       "      <th></th>\n",
       "      <th>id</th>\n",
       "      <th>price</th>\n",
       "      <th>bedrooms</th>\n",
       "      <th>bathrooms</th>\n",
       "      <th>sqft_living</th>\n",
       "      <th>sqft_lot</th>\n",
       "      <th>floors</th>\n",
       "      <th>view</th>\n",
       "      <th>condition</th>\n",
       "      <th>grade</th>\n",
       "      <th>sqft_above</th>\n",
       "      <th>yr_built</th>\n",
       "      <th>zipcode</th>\n",
       "      <th>lat</th>\n",
       "      <th>long</th>\n",
       "      <th>sqft_living15</th>\n",
       "      <th>sqft_lot15</th>\n",
       "    </tr>\n",
       "  </thead>\n",
       "  <tbody>\n",
       "    <tr>\n",
       "      <th>count</th>\n",
       "      <td>1.960600e+04</td>\n",
       "      <td>1.960600e+04</td>\n",
       "      <td>19606.000000</td>\n",
       "      <td>19606.000000</td>\n",
       "      <td>19606.000000</td>\n",
       "      <td>1.960600e+04</td>\n",
       "      <td>19606.000000</td>\n",
       "      <td>19606.000000</td>\n",
       "      <td>19606.000000</td>\n",
       "      <td>19606.000000</td>\n",
       "      <td>19606.000000</td>\n",
       "      <td>19606.000000</td>\n",
       "      <td>19606.000000</td>\n",
       "      <td>19606.000000</td>\n",
       "      <td>19606.000000</td>\n",
       "      <td>19606.000000</td>\n",
       "      <td>19606.000000</td>\n",
       "    </tr>\n",
       "    <tr>\n",
       "      <th>mean</th>\n",
       "      <td>4.591369e+09</td>\n",
       "      <td>5.149427e+05</td>\n",
       "      <td>3.189687</td>\n",
       "      <td>2.043941</td>\n",
       "      <td>1979.130980</td>\n",
       "      <td>1.490293e+04</td>\n",
       "      <td>1.484877</td>\n",
       "      <td>0.215138</td>\n",
       "      <td>3.405590</td>\n",
       "      <td>7.600071</td>\n",
       "      <td>1724.889881</td>\n",
       "      <td>1970.895185</td>\n",
       "      <td>98078.521728</td>\n",
       "      <td>47.558573</td>\n",
       "      <td>-122.214494</td>\n",
       "      <td>1944.415689</td>\n",
       "      <td>12696.679588</td>\n",
       "    </tr>\n",
       "    <tr>\n",
       "      <th>std</th>\n",
       "      <td>2.880892e+09</td>\n",
       "      <td>3.188646e+05</td>\n",
       "      <td>0.703311</td>\n",
       "      <td>0.714691</td>\n",
       "      <td>826.492169</td>\n",
       "      <td>4.133352e+04</td>\n",
       "      <td>0.542612</td>\n",
       "      <td>0.734286</td>\n",
       "      <td>0.649043</td>\n",
       "      <td>1.138041</td>\n",
       "      <td>769.810606</td>\n",
       "      <td>29.293221</td>\n",
       "      <td>53.447763</td>\n",
       "      <td>0.140158</td>\n",
       "      <td>0.142479</td>\n",
       "      <td>656.595291</td>\n",
       "      <td>27603.326194</td>\n",
       "    </tr>\n",
       "    <tr>\n",
       "      <th>min</th>\n",
       "      <td>1.200019e+06</td>\n",
       "      <td>7.800000e+04</td>\n",
       "      <td>1.000000</td>\n",
       "      <td>0.500000</td>\n",
       "      <td>370.000000</td>\n",
       "      <td>5.200000e+02</td>\n",
       "      <td>1.000000</td>\n",
       "      <td>0.000000</td>\n",
       "      <td>1.000000</td>\n",
       "      <td>3.000000</td>\n",
       "      <td>370.000000</td>\n",
       "      <td>1900.000000</td>\n",
       "      <td>98001.000000</td>\n",
       "      <td>47.155900</td>\n",
       "      <td>-122.519000</td>\n",
       "      <td>399.000000</td>\n",
       "      <td>651.000000</td>\n",
       "    </tr>\n",
       "    <tr>\n",
       "      <th>25%</th>\n",
       "      <td>2.125570e+09</td>\n",
       "      <td>3.150000e+05</td>\n",
       "      <td>3.000000</td>\n",
       "      <td>1.500000</td>\n",
       "      <td>1380.000000</td>\n",
       "      <td>5.000000e+03</td>\n",
       "      <td>1.000000</td>\n",
       "      <td>0.000000</td>\n",
       "      <td>3.000000</td>\n",
       "      <td>7.000000</td>\n",
       "      <td>1170.000000</td>\n",
       "      <td>1951.000000</td>\n",
       "      <td>98033.000000</td>\n",
       "      <td>47.464800</td>\n",
       "      <td>-122.331000</td>\n",
       "      <td>1470.000000</td>\n",
       "      <td>5040.000000</td>\n",
       "    </tr>\n",
       "    <tr>\n",
       "      <th>50%</th>\n",
       "      <td>3.904910e+09</td>\n",
       "      <td>4.400000e+05</td>\n",
       "      <td>3.000000</td>\n",
       "      <td>2.000000</td>\n",
       "      <td>1830.000000</td>\n",
       "      <td>7.500000e+03</td>\n",
       "      <td>1.000000</td>\n",
       "      <td>0.000000</td>\n",
       "      <td>3.000000</td>\n",
       "      <td>7.000000</td>\n",
       "      <td>1520.000000</td>\n",
       "      <td>1975.000000</td>\n",
       "      <td>98070.000000</td>\n",
       "      <td>47.570400</td>\n",
       "      <td>-122.234000</td>\n",
       "      <td>1800.000000</td>\n",
       "      <td>7546.500000</td>\n",
       "    </tr>\n",
       "    <tr>\n",
       "      <th>75%</th>\n",
       "      <td>7.334602e+09</td>\n",
       "      <td>6.200000e+05</td>\n",
       "      <td>4.000000</td>\n",
       "      <td>2.500000</td>\n",
       "      <td>2420.000000</td>\n",
       "      <td>1.045400e+04</td>\n",
       "      <td>2.000000</td>\n",
       "      <td>0.000000</td>\n",
       "      <td>4.000000</td>\n",
       "      <td>8.000000</td>\n",
       "      <td>2120.000000</td>\n",
       "      <td>1996.000000</td>\n",
       "      <td>98118.000000</td>\n",
       "      <td>47.679100</td>\n",
       "      <td>-122.124000</td>\n",
       "      <td>2310.000000</td>\n",
       "      <td>9998.000000</td>\n",
       "    </tr>\n",
       "    <tr>\n",
       "      <th>max</th>\n",
       "      <td>9.900000e+09</td>\n",
       "      <td>4.490000e+06</td>\n",
       "      <td>4.000000</td>\n",
       "      <td>5.750000</td>\n",
       "      <td>7850.000000</td>\n",
       "      <td>1.651359e+06</td>\n",
       "      <td>3.500000</td>\n",
       "      <td>4.000000</td>\n",
       "      <td>5.000000</td>\n",
       "      <td>13.000000</td>\n",
       "      <td>7850.000000</td>\n",
       "      <td>2015.000000</td>\n",
       "      <td>98199.000000</td>\n",
       "      <td>47.777600</td>\n",
       "      <td>-121.315000</td>\n",
       "      <td>6210.000000</td>\n",
       "      <td>871200.000000</td>\n",
       "    </tr>\n",
       "  </tbody>\n",
       "</table>\n",
       "</div>"
      ],
      "text/plain": [
       "                 id         price      bedrooms     bathrooms   sqft_living  \\\n",
       "count  1.960600e+04  1.960600e+04  19606.000000  19606.000000  19606.000000   \n",
       "mean   4.591369e+09  5.149427e+05      3.189687      2.043941   1979.130980   \n",
       "std    2.880892e+09  3.188646e+05      0.703311      0.714691    826.492169   \n",
       "min    1.200019e+06  7.800000e+04      1.000000      0.500000    370.000000   \n",
       "25%    2.125570e+09  3.150000e+05      3.000000      1.500000   1380.000000   \n",
       "50%    3.904910e+09  4.400000e+05      3.000000      2.000000   1830.000000   \n",
       "75%    7.334602e+09  6.200000e+05      4.000000      2.500000   2420.000000   \n",
       "max    9.900000e+09  4.490000e+06      4.000000      5.750000   7850.000000   \n",
       "\n",
       "           sqft_lot        floors          view     condition         grade  \\\n",
       "count  1.960600e+04  19606.000000  19606.000000  19606.000000  19606.000000   \n",
       "mean   1.490293e+04      1.484877      0.215138      3.405590      7.600071   \n",
       "std    4.133352e+04      0.542612      0.734286      0.649043      1.138041   \n",
       "min    5.200000e+02      1.000000      0.000000      1.000000      3.000000   \n",
       "25%    5.000000e+03      1.000000      0.000000      3.000000      7.000000   \n",
       "50%    7.500000e+03      1.000000      0.000000      3.000000      7.000000   \n",
       "75%    1.045400e+04      2.000000      0.000000      4.000000      8.000000   \n",
       "max    1.651359e+06      3.500000      4.000000      5.000000     13.000000   \n",
       "\n",
       "         sqft_above      yr_built       zipcode           lat          long  \\\n",
       "count  19606.000000  19606.000000  19606.000000  19606.000000  19606.000000   \n",
       "mean    1724.889881   1970.895185  98078.521728     47.558573   -122.214494   \n",
       "std      769.810606     29.293221     53.447763      0.140158      0.142479   \n",
       "min      370.000000   1900.000000  98001.000000     47.155900   -122.519000   \n",
       "25%     1170.000000   1951.000000  98033.000000     47.464800   -122.331000   \n",
       "50%     1520.000000   1975.000000  98070.000000     47.570400   -122.234000   \n",
       "75%     2120.000000   1996.000000  98118.000000     47.679100   -122.124000   \n",
       "max     7850.000000   2015.000000  98199.000000     47.777600   -121.315000   \n",
       "\n",
       "       sqft_living15     sqft_lot15  \n",
       "count   19606.000000   19606.000000  \n",
       "mean     1944.415689   12696.679588  \n",
       "std       656.595291   27603.326194  \n",
       "min       399.000000     651.000000  \n",
       "25%      1470.000000    5040.000000  \n",
       "50%      1800.000000    7546.500000  \n",
       "75%      2310.000000    9998.000000  \n",
       "max      6210.000000  871200.000000  "
      ]
     },
     "execution_count": 34,
     "metadata": {},
     "output_type": "execute_result"
    }
   ],
   "source": [
    "display(kd.info())\n",
    "kd.describe()"
   ]
  },
  {
   "cell_type": "markdown",
   "metadata": {},
   "source": [
    "What Changed?\n",
    "* We now have a dataset with `19` columns and `19,606` records. \n",
    "* We lost two columns, and lost almost 10% of `21,597` . \n",
    "\n",
    "What does that mean?\n",
    "* This proves our assumtion, showing that **90% of homes sold were under 5 bedrooms!**\n",
    "\n",
    "What's next?\n",
    "* Let's create a better dataset to focus on features with a more normal distribution."
   ]
  },
  {
   "cell_type": "code",
   "execution_count": 35,
   "metadata": {},
   "outputs": [],
   "source": [
    "columns_to_keep = ['date','price', 'bedrooms', 'bathrooms',\n",
    "                   'sqft_living','floors', 'view', 'condition', \n",
    "                   'grade', 'yr_built', 'zipcode','lat', 'long']"
   ]
  },
  {
   "cell_type": "markdown",
   "metadata": {},
   "source": [
    "Our focus:\n",
    "* Let's focus on `13` features to start. \n",
    "* We'll create a new dataset that only includes these more tailored features\n",
    "\n",
    "The new dataset will contain: \n",
    "* ['dates'] as `datetime64`\n",
    "* ['price', 'bathrooms', 'floors', 'view', 'lat' and 'long'] as `float64`\n",
    "* ['bedrooms', 'sqft_living', 'condition', 'grade', 'yr_built' and 'zipcode'] as `int64`"
   ]
  },
  {
   "cell_type": "code",
   "execution_count": 36,
   "metadata": {},
   "outputs": [],
   "source": [
    "new_kd = kd[columns_to_keep].copy() # making a copy of the DataFrame"
   ]
  },
  {
   "cell_type": "markdown",
   "metadata": {},
   "source": [
    "Now, let's view the distribution using a histogram plot."
   ]
  },
  {
   "cell_type": "markdown",
   "metadata": {},
   "source": [
    "## Investigating Distributions"
   ]
  },
  {
   "cell_type": "code",
   "execution_count": 37,
   "metadata": {
    "scrolled": true
   },
   "outputs": [
    {
     "data": {
      "image/png": "[encoded data removed]",
      "text/plain": [
       "<Figure size 1152x648 with 12 Axes>"
      ]
     },
     "metadata": {
      "needs_background": "light"
     },
     "output_type": "display_data"
    }
   ],
   "source": [
    "import matplotlib.pyplot as plt\n",
    "plt.style.use('seaborn')\n",
    "%matplotlib inline\n",
    "new_kd.hist(figsize=(16,9));"
   ]
  },
  {
   "cell_type": "markdown",
   "metadata": {},
   "source": [
    "We can see here that someof the features we selected are categorical in nature. Let's determine which `features` to convert into `categories`, and which `features` are continous and need to be `normalized & scaled`."
   ]
  },
  {
   "cell_type": "markdown",
   "metadata": {},
   "source": [
    "* categoricals = ['bedrooms', 'floors', 'condition', 'view']\n",
    "* categories_to_bin = ['bathrooms', 'zipcode', 'yr_built']\n",
    "* continuous = ['price', lat', 'long', 'sqft_living']"
   ]
  },
  {
   "cell_type": "markdown",
   "metadata": {},
   "source": [
    "## Investigation Correlations\n",
    "* Here I will use a Correlation Matrix to determine the correlation amongst the features. "
   ]
  },
  {
   "cell_type": "code",
   "execution_count": 38,
   "metadata": {
    "scrolled": true
   },
   "outputs": [
    {
     "data": {
      "text/html": [
       "<div>\n",
       "<style scoped>\n",
       "    .dataframe tbody tr th:only-of-type {\n",
       "        vertical-align: middle;\n",
       "    }\n",
       "\n",
       "    .dataframe tbody tr th {\n",
       "        vertical-align: top;\n",
       "    }\n",
       "\n",
       "    .dataframe thead th {\n",
       "        text-align: right;\n",
       "    }\n",
       "</style>\n",
       "<table border=\"1\" class=\"dataframe\">\n",
       "  <thead>\n",
       "    <tr style=\"text-align: right;\">\n",
       "      <th></th>\n",
       "      <th>price</th>\n",
       "      <th>bedrooms</th>\n",
       "      <th>bathrooms</th>\n",
       "      <th>sqft_living</th>\n",
       "      <th>floors</th>\n",
       "      <th>view</th>\n",
       "      <th>condition</th>\n",
       "      <th>grade</th>\n",
       "      <th>yr_built</th>\n",
       "      <th>zipcode</th>\n",
       "      <th>lat</th>\n",
       "      <th>long</th>\n",
       "    </tr>\n",
       "  </thead>\n",
       "  <tbody>\n",
       "    <tr>\n",
       "      <th>price</th>\n",
       "      <td>1.000000</td>\n",
       "      <td>0.276682</td>\n",
       "      <td>0.491460</td>\n",
       "      <td>0.679758</td>\n",
       "      <td>0.250129</td>\n",
       "      <td>0.388179</td>\n",
       "      <td>0.039723</td>\n",
       "      <td>0.665199</td>\n",
       "      <td>0.055127</td>\n",
       "      <td>-0.034627</td>\n",
       "      <td>0.332299</td>\n",
       "      <td>0.025473</td>\n",
       "    </tr>\n",
       "    <tr>\n",
       "      <th>bedrooms</th>\n",
       "      <td>0.276682</td>\n",
       "      <td>1.000000</td>\n",
       "      <td>0.491233</td>\n",
       "      <td>0.562677</td>\n",
       "      <td>0.202992</td>\n",
       "      <td>0.043547</td>\n",
       "      <td>0.015153</td>\n",
       "      <td>0.390289</td>\n",
       "      <td>0.229728</td>\n",
       "      <td>-0.197951</td>\n",
       "      <td>-0.053820</td>\n",
       "      <td>0.188245</td>\n",
       "    </tr>\n",
       "    <tr>\n",
       "      <th>bathrooms</th>\n",
       "      <td>0.491460</td>\n",
       "      <td>0.491233</td>\n",
       "      <td>1.000000</td>\n",
       "      <td>0.727288</td>\n",
       "      <td>0.522507</td>\n",
       "      <td>0.158372</td>\n",
       "      <td>-0.134089</td>\n",
       "      <td>0.663960</td>\n",
       "      <td>0.544270</td>\n",
       "      <td>-0.214802</td>\n",
       "      <td>0.008439</td>\n",
       "      <td>0.240924</td>\n",
       "    </tr>\n",
       "    <tr>\n",
       "      <th>sqft_living</th>\n",
       "      <td>0.679758</td>\n",
       "      <td>0.562677</td>\n",
       "      <td>0.727288</td>\n",
       "      <td>1.000000</td>\n",
       "      <td>0.352717</td>\n",
       "      <td>0.257766</td>\n",
       "      <td>-0.066887</td>\n",
       "      <td>0.763788</td>\n",
       "      <td>0.341850</td>\n",
       "      <td>-0.204610</td>\n",
       "      <td>0.037495</td>\n",
       "      <td>0.261262</td>\n",
       "    </tr>\n",
       "    <tr>\n",
       "      <th>floors</th>\n",
       "      <td>0.250129</td>\n",
       "      <td>0.202992</td>\n",
       "      <td>0.522507</td>\n",
       "      <td>0.352717</td>\n",
       "      <td>1.000000</td>\n",
       "      <td>0.016424</td>\n",
       "      <td>-0.267615</td>\n",
       "      <td>0.457438</td>\n",
       "      <td>0.511445</td>\n",
       "      <td>-0.061703</td>\n",
       "      <td>0.049748</td>\n",
       "      <td>0.121526</td>\n",
       "    </tr>\n",
       "    <tr>\n",
       "      <th>view</th>\n",
       "      <td>0.388179</td>\n",
       "      <td>0.043547</td>\n",
       "      <td>0.158372</td>\n",
       "      <td>0.257766</td>\n",
       "      <td>0.016424</td>\n",
       "      <td>1.000000</td>\n",
       "      <td>0.045617</td>\n",
       "      <td>0.227610</td>\n",
       "      <td>-0.063334</td>\n",
       "      <td>0.095633</td>\n",
       "      <td>0.002225</td>\n",
       "      <td>-0.084826</td>\n",
       "    </tr>\n",
       "    <tr>\n",
       "      <th>condition</th>\n",
       "      <td>0.039723</td>\n",
       "      <td>0.015153</td>\n",
       "      <td>-0.134089</td>\n",
       "      <td>-0.066887</td>\n",
       "      <td>-0.267615</td>\n",
       "      <td>0.045617</td>\n",
       "      <td>1.000000</td>\n",
       "      <td>-0.152736</td>\n",
       "      <td>-0.358805</td>\n",
       "      <td>0.002241</td>\n",
       "      <td>-0.016064</td>\n",
       "      <td>-0.103776</td>\n",
       "    </tr>\n",
       "    <tr>\n",
       "      <th>grade</th>\n",
       "      <td>0.665199</td>\n",
       "      <td>0.390289</td>\n",
       "      <td>0.663960</td>\n",
       "      <td>0.763788</td>\n",
       "      <td>0.457438</td>\n",
       "      <td>0.227610</td>\n",
       "      <td>-0.152736</td>\n",
       "      <td>1.000000</td>\n",
       "      <td>0.460758</td>\n",
       "      <td>-0.178718</td>\n",
       "      <td>0.110770</td>\n",
       "      <td>0.202054</td>\n",
       "    </tr>\n",
       "    <tr>\n",
       "      <th>yr_built</th>\n",
       "      <td>0.055127</td>\n",
       "      <td>0.229728</td>\n",
       "      <td>0.544270</td>\n",
       "      <td>0.341850</td>\n",
       "      <td>0.511445</td>\n",
       "      <td>-0.063334</td>\n",
       "      <td>-0.358805</td>\n",
       "      <td>0.460758</td>\n",
       "      <td>1.000000</td>\n",
       "      <td>-0.349364</td>\n",
       "      <td>-0.148446</td>\n",
       "      <td>0.406314</td>\n",
       "    </tr>\n",
       "    <tr>\n",
       "      <th>zipcode</th>\n",
       "      <td>-0.034627</td>\n",
       "      <td>-0.197951</td>\n",
       "      <td>-0.214802</td>\n",
       "      <td>-0.204610</td>\n",
       "      <td>-0.061703</td>\n",
       "      <td>0.095633</td>\n",
       "      <td>0.002241</td>\n",
       "      <td>-0.178718</td>\n",
       "      <td>-0.349364</td>\n",
       "      <td>1.000000</td>\n",
       "      <td>0.277015</td>\n",
       "      <td>-0.565103</td>\n",
       "    </tr>\n",
       "    <tr>\n",
       "      <th>lat</th>\n",
       "      <td>0.332299</td>\n",
       "      <td>-0.053820</td>\n",
       "      <td>0.008439</td>\n",
       "      <td>0.037495</td>\n",
       "      <td>0.049748</td>\n",
       "      <td>0.002225</td>\n",
       "      <td>-0.016064</td>\n",
       "      <td>0.110770</td>\n",
       "      <td>-0.148446</td>\n",
       "      <td>0.277015</td>\n",
       "      <td>1.000000</td>\n",
       "      <td>-0.135890</td>\n",
       "    </tr>\n",
       "    <tr>\n",
       "      <th>long</th>\n",
       "      <td>0.025473</td>\n",
       "      <td>0.188245</td>\n",
       "      <td>0.240924</td>\n",
       "      <td>0.261262</td>\n",
       "      <td>0.121526</td>\n",
       "      <td>-0.084826</td>\n",
       "      <td>-0.103776</td>\n",
       "      <td>0.202054</td>\n",
       "      <td>0.406314</td>\n",
       "      <td>-0.565103</td>\n",
       "      <td>-0.135890</td>\n",
       "      <td>1.000000</td>\n",
       "    </tr>\n",
       "  </tbody>\n",
       "</table>\n",
       "</div>"
      ],
      "text/plain": [
       "                price  bedrooms  bathrooms  sqft_living    floors      view  \\\n",
       "price        1.000000  0.276682   0.491460     0.679758  0.250129  0.388179   \n",
       "bedrooms     0.276682  1.000000   0.491233     0.562677  0.202992  0.043547   \n",
       "bathrooms    0.491460  0.491233   1.000000     0.727288  0.522507  0.158372   \n",
       "sqft_living  0.679758  0.562677   0.727288     1.000000  0.352717  0.257766   \n",
       "floors       0.250129  0.202992   0.522507     0.352717  1.000000  0.016424   \n",
       "view         0.388179  0.043547   0.158372     0.257766  0.016424  1.000000   \n",
       "condition    0.039723  0.015153  -0.134089    -0.066887 -0.267615  0.045617   \n",
       "grade        0.665199  0.390289   0.663960     0.763788  0.457438  0.227610   \n",
       "yr_built     0.055127  0.229728   0.544270     0.341850  0.511445 -0.063334   \n",
       "zipcode     -0.034627 -0.197951  -0.214802    -0.204610 -0.061703  0.095633   \n",
       "lat          0.332299 -0.053820   0.008439     0.037495  0.049748  0.002225   \n",
       "long         0.025473  0.188245   0.240924     0.261262  0.121526 -0.084826   \n",
       "\n",
       "             condition     grade  yr_built   zipcode       lat      long  \n",
       "price         0.039723  0.665199  0.055127 -0.034627  0.332299  0.025473  \n",
       "bedrooms      0.015153  0.390289  0.229728 -0.197951 -0.053820  0.188245  \n",
       "bathrooms    -0.134089  0.663960  0.544270 -0.214802  0.008439  0.240924  \n",
       "sqft_living  -0.066887  0.763788  0.341850 -0.204610  0.037495  0.261262  \n",
       "floors       -0.267615  0.457438  0.511445 -0.061703  0.049748  0.121526  \n",
       "view          0.045617  0.227610 -0.063334  0.095633  0.002225 -0.084826  \n",
       "condition     1.000000 -0.152736 -0.358805  0.002241 -0.016064 -0.103776  \n",
       "grade        -0.152736  1.000000  0.460758 -0.178718  0.110770  0.202054  \n",
       "yr_built     -0.358805  0.460758  1.000000 -0.349364 -0.148446  0.406314  \n",
       "zipcode       0.002241 -0.178718 -0.349364  1.000000  0.277015 -0.565103  \n",
       "lat          -0.016064  0.110770 -0.148446  0.277015  1.000000 -0.135890  \n",
       "long         -0.103776  0.202054  0.406314 -0.565103 -0.135890  1.000000  "
      ]
     },
     "execution_count": 38,
     "metadata": {},
     "output_type": "execute_result"
    }
   ],
   "source": [
    "new_kd.corr()"
   ]
  },
  {
   "cell_type": "markdown",
   "metadata": {},
   "source": [
    "* Here I will use a Correlation Matrix to determine which features have a correlation over 75%."
   ]
  },
  {
   "cell_type": "code",
   "execution_count": 39,
   "metadata": {},
   "outputs": [
    {
     "data": {
      "text/html": [
       "<div>\n",
       "<style scoped>\n",
       "    .dataframe tbody tr th:only-of-type {\n",
       "        vertical-align: middle;\n",
       "    }\n",
       "\n",
       "    .dataframe tbody tr th {\n",
       "        vertical-align: top;\n",
       "    }\n",
       "\n",
       "    .dataframe thead th {\n",
       "        text-align: right;\n",
       "    }\n",
       "</style>\n",
       "<table border=\"1\" class=\"dataframe\">\n",
       "  <thead>\n",
       "    <tr style=\"text-align: right;\">\n",
       "      <th></th>\n",
       "      <th>price</th>\n",
       "      <th>bedrooms</th>\n",
       "      <th>bathrooms</th>\n",
       "      <th>sqft_living</th>\n",
       "      <th>floors</th>\n",
       "      <th>view</th>\n",
       "      <th>condition</th>\n",
       "      <th>grade</th>\n",
       "      <th>yr_built</th>\n",
       "      <th>zipcode</th>\n",
       "      <th>lat</th>\n",
       "      <th>long</th>\n",
       "    </tr>\n",
       "  </thead>\n",
       "  <tbody>\n",
       "    <tr>\n",
       "      <th>price</th>\n",
       "      <td>1.0</td>\n",
       "      <td>NaN</td>\n",
       "      <td>NaN</td>\n",
       "      <td>NaN</td>\n",
       "      <td>NaN</td>\n",
       "      <td>NaN</td>\n",
       "      <td>NaN</td>\n",
       "      <td>NaN</td>\n",
       "      <td>NaN</td>\n",
       "      <td>NaN</td>\n",
       "      <td>NaN</td>\n",
       "      <td>NaN</td>\n",
       "    </tr>\n",
       "    <tr>\n",
       "      <th>bedrooms</th>\n",
       "      <td>NaN</td>\n",
       "      <td>1.0</td>\n",
       "      <td>NaN</td>\n",
       "      <td>NaN</td>\n",
       "      <td>NaN</td>\n",
       "      <td>NaN</td>\n",
       "      <td>NaN</td>\n",
       "      <td>NaN</td>\n",
       "      <td>NaN</td>\n",
       "      <td>NaN</td>\n",
       "      <td>NaN</td>\n",
       "      <td>NaN</td>\n",
       "    </tr>\n",
       "    <tr>\n",
       "      <th>bathrooms</th>\n",
       "      <td>NaN</td>\n",
       "      <td>NaN</td>\n",
       "      <td>1.0</td>\n",
       "      <td>NaN</td>\n",
       "      <td>NaN</td>\n",
       "      <td>NaN</td>\n",
       "      <td>NaN</td>\n",
       "      <td>NaN</td>\n",
       "      <td>NaN</td>\n",
       "      <td>NaN</td>\n",
       "      <td>NaN</td>\n",
       "      <td>NaN</td>\n",
       "    </tr>\n",
       "    <tr>\n",
       "      <th>sqft_living</th>\n",
       "      <td>NaN</td>\n",
       "      <td>NaN</td>\n",
       "      <td>NaN</td>\n",
       "      <td>1.000000</td>\n",
       "      <td>NaN</td>\n",
       "      <td>NaN</td>\n",
       "      <td>NaN</td>\n",
       "      <td>0.763788</td>\n",
       "      <td>NaN</td>\n",
       "      <td>NaN</td>\n",
       "      <td>NaN</td>\n",
       "      <td>NaN</td>\n",
       "    </tr>\n",
       "    <tr>\n",
       "      <th>floors</th>\n",
       "      <td>NaN</td>\n",
       "      <td>NaN</td>\n",
       "      <td>NaN</td>\n",
       "      <td>NaN</td>\n",
       "      <td>1.0</td>\n",
       "      <td>NaN</td>\n",
       "      <td>NaN</td>\n",
       "      <td>NaN</td>\n",
       "      <td>NaN</td>\n",
       "      <td>NaN</td>\n",
       "      <td>NaN</td>\n",
       "      <td>NaN</td>\n",
       "    </tr>\n",
       "    <tr>\n",
       "      <th>view</th>\n",
       "      <td>NaN</td>\n",
       "      <td>NaN</td>\n",
       "      <td>NaN</td>\n",
       "      <td>NaN</td>\n",
       "      <td>NaN</td>\n",
       "      <td>1.0</td>\n",
       "      <td>NaN</td>\n",
       "      <td>NaN</td>\n",
       "      <td>NaN</td>\n",
       "      <td>NaN</td>\n",
       "      <td>NaN</td>\n",
       "      <td>NaN</td>\n",
       "    </tr>\n",
       "    <tr>\n",
       "      <th>condition</th>\n",
       "      <td>NaN</td>\n",
       "      <td>NaN</td>\n",
       "      <td>NaN</td>\n",
       "      <td>NaN</td>\n",
       "      <td>NaN</td>\n",
       "      <td>NaN</td>\n",
       "      <td>1.0</td>\n",
       "      <td>NaN</td>\n",
       "      <td>NaN</td>\n",
       "      <td>NaN</td>\n",
       "      <td>NaN</td>\n",
       "      <td>NaN</td>\n",
       "    </tr>\n",
       "    <tr>\n",
       "      <th>grade</th>\n",
       "      <td>NaN</td>\n",
       "      <td>NaN</td>\n",
       "      <td>NaN</td>\n",
       "      <td>0.763788</td>\n",
       "      <td>NaN</td>\n",
       "      <td>NaN</td>\n",
       "      <td>NaN</td>\n",
       "      <td>1.000000</td>\n",
       "      <td>NaN</td>\n",
       "      <td>NaN</td>\n",
       "      <td>NaN</td>\n",
       "      <td>NaN</td>\n",
       "    </tr>\n",
       "    <tr>\n",
       "      <th>yr_built</th>\n",
       "      <td>NaN</td>\n",
       "      <td>NaN</td>\n",
       "      <td>NaN</td>\n",
       "      <td>NaN</td>\n",
       "      <td>NaN</td>\n",
       "      <td>NaN</td>\n",
       "      <td>NaN</td>\n",
       "      <td>NaN</td>\n",
       "      <td>1.0</td>\n",
       "      <td>NaN</td>\n",
       "      <td>NaN</td>\n",
       "      <td>NaN</td>\n",
       "    </tr>\n",
       "    <tr>\n",
       "      <th>zipcode</th>\n",
       "      <td>NaN</td>\n",
       "      <td>NaN</td>\n",
       "      <td>NaN</td>\n",
       "      <td>NaN</td>\n",
       "      <td>NaN</td>\n",
       "      <td>NaN</td>\n",
       "      <td>NaN</td>\n",
       "      <td>NaN</td>\n",
       "      <td>NaN</td>\n",
       "      <td>1.0</td>\n",
       "      <td>NaN</td>\n",
       "      <td>NaN</td>\n",
       "    </tr>\n",
       "    <tr>\n",
       "      <th>lat</th>\n",
       "      <td>NaN</td>\n",
       "      <td>NaN</td>\n",
       "      <td>NaN</td>\n",
       "      <td>NaN</td>\n",
       "      <td>NaN</td>\n",
       "      <td>NaN</td>\n",
       "      <td>NaN</td>\n",
       "      <td>NaN</td>\n",
       "      <td>NaN</td>\n",
       "      <td>NaN</td>\n",
       "      <td>1.0</td>\n",
       "      <td>NaN</td>\n",
       "    </tr>\n",
       "    <tr>\n",
       "      <th>long</th>\n",
       "      <td>NaN</td>\n",
       "      <td>NaN</td>\n",
       "      <td>NaN</td>\n",
       "      <td>NaN</td>\n",
       "      <td>NaN</td>\n",
       "      <td>NaN</td>\n",
       "      <td>NaN</td>\n",
       "      <td>NaN</td>\n",
       "      <td>NaN</td>\n",
       "      <td>NaN</td>\n",
       "      <td>NaN</td>\n",
       "      <td>1.0</td>\n",
       "    </tr>\n",
       "  </tbody>\n",
       "</table>\n",
       "</div>"
      ],
      "text/plain": [
       "             price  bedrooms  bathrooms  sqft_living  floors  view  condition  \\\n",
       "price          1.0       NaN        NaN          NaN     NaN   NaN        NaN   \n",
       "bedrooms       NaN       1.0        NaN          NaN     NaN   NaN        NaN   \n",
       "bathrooms      NaN       NaN        1.0          NaN     NaN   NaN        NaN   \n",
       "sqft_living    NaN       NaN        NaN     1.000000     NaN   NaN        NaN   \n",
       "floors         NaN       NaN        NaN          NaN     1.0   NaN        NaN   \n",
       "view           NaN       NaN        NaN          NaN     NaN   1.0        NaN   \n",
       "condition      NaN       NaN        NaN          NaN     NaN   NaN        1.0   \n",
       "grade          NaN       NaN        NaN     0.763788     NaN   NaN        NaN   \n",
       "yr_built       NaN       NaN        NaN          NaN     NaN   NaN        NaN   \n",
       "zipcode        NaN       NaN        NaN          NaN     NaN   NaN        NaN   \n",
       "lat            NaN       NaN        NaN          NaN     NaN   NaN        NaN   \n",
       "long           NaN       NaN        NaN          NaN     NaN   NaN        NaN   \n",
       "\n",
       "                grade  yr_built  zipcode  lat  long  \n",
       "price             NaN       NaN      NaN  NaN   NaN  \n",
       "bedrooms          NaN       NaN      NaN  NaN   NaN  \n",
       "bathrooms         NaN       NaN      NaN  NaN   NaN  \n",
       "sqft_living  0.763788       NaN      NaN  NaN   NaN  \n",
       "floors            NaN       NaN      NaN  NaN   NaN  \n",
       "view              NaN       NaN      NaN  NaN   NaN  \n",
       "condition         NaN       NaN      NaN  NaN   NaN  \n",
       "grade        1.000000       NaN      NaN  NaN   NaN  \n",
       "yr_built          NaN       1.0      NaN  NaN   NaN  \n",
       "zipcode           NaN       NaN      1.0  NaN   NaN  \n",
       "lat               NaN       NaN      NaN  1.0   NaN  \n",
       "long              NaN       NaN      NaN  NaN   1.0  "
      ]
     },
     "execution_count": 39,
     "metadata": {},
     "output_type": "execute_result"
    }
   ],
   "source": [
    "new_kd.corr()[new_kd.corr() > 0.75]"
   ]
  },
  {
   "cell_type": "markdown",
   "metadata": {},
   "source": [
    "* We can see a high correlation amongst `grade`, `sqft_living`, and `bathrooms`. \n",
    "* We see the correlation is highest between `sqft_living` and both `grade & bathrooms`"
   ]
  },
  {
   "cell_type": "markdown",
   "metadata": {},
   "source": [
    "## Visualizing feature correlation. "
   ]
  },
  {
   "cell_type": "markdown",
   "metadata": {},
   "source": [
    "* Here is a visual representation multicolinearity.\n",
    "* You can se the lighter the color the higher the colinearity between features."
   ]
  },
  {
   "cell_type": "code",
   "execution_count": 40,
   "metadata": {
    "scrolled": true
   },
   "outputs": [
    {
     "data": {
      "image/png": "[encoded data removed]",
      "text/plain": [
       "<Figure size 432x288 with 2 Axes>"
      ]
     },
     "metadata": {
      "needs_background": "light"
     },
     "output_type": "display_data"
    }
   ],
   "source": [
    "import seaborn as sns\n",
    "sns.heatmap(new_kd.corr(), center=0, fmt='.2g', annot=True);"
   ]
  },
  {
   "cell_type": "markdown",
   "metadata": {},
   "source": [
    "But how do we handle this?\n",
    "* since `sqft_living` has a higher correlation to `price` \n",
    "* we can remove the feature `grade` \n",
    "\n",
    "We'll assume that the remaining features will act independently in our prediction model."
   ]
  },
  {
   "cell_type": "code",
   "execution_count": 41,
   "metadata": {},
   "outputs": [],
   "source": [
    "new_kd = new_kd.drop(axis=1,labels=['grade']) # dropping 'grade' feature"
   ]
  },
  {
   "cell_type": "code",
   "execution_count": 42,
   "metadata": {},
   "outputs": [
    {
     "data": {
      "text/html": [
       "<div>\n",
       "<style scoped>\n",
       "    .dataframe tbody tr th:only-of-type {\n",
       "        vertical-align: middle;\n",
       "    }\n",
       "\n",
       "    .dataframe tbody tr th {\n",
       "        vertical-align: top;\n",
       "    }\n",
       "\n",
       "    .dataframe thead th {\n",
       "        text-align: right;\n",
       "    }\n",
       "</style>\n",
       "<table border=\"1\" class=\"dataframe\">\n",
       "  <thead>\n",
       "    <tr style=\"text-align: right;\">\n",
       "      <th></th>\n",
       "      <th>price</th>\n",
       "      <th>bedrooms</th>\n",
       "      <th>bathrooms</th>\n",
       "      <th>sqft_living</th>\n",
       "      <th>floors</th>\n",
       "      <th>view</th>\n",
       "      <th>condition</th>\n",
       "      <th>yr_built</th>\n",
       "      <th>zipcode</th>\n",
       "      <th>lat</th>\n",
       "      <th>long</th>\n",
       "    </tr>\n",
       "  </thead>\n",
       "  <tbody>\n",
       "    <tr>\n",
       "      <th>price</th>\n",
       "      <td>1.0</td>\n",
       "      <td>NaN</td>\n",
       "      <td>NaN</td>\n",
       "      <td>NaN</td>\n",
       "      <td>NaN</td>\n",
       "      <td>NaN</td>\n",
       "      <td>NaN</td>\n",
       "      <td>NaN</td>\n",
       "      <td>NaN</td>\n",
       "      <td>NaN</td>\n",
       "      <td>NaN</td>\n",
       "    </tr>\n",
       "    <tr>\n",
       "      <th>bedrooms</th>\n",
       "      <td>NaN</td>\n",
       "      <td>1.0</td>\n",
       "      <td>NaN</td>\n",
       "      <td>NaN</td>\n",
       "      <td>NaN</td>\n",
       "      <td>NaN</td>\n",
       "      <td>NaN</td>\n",
       "      <td>NaN</td>\n",
       "      <td>NaN</td>\n",
       "      <td>NaN</td>\n",
       "      <td>NaN</td>\n",
       "    </tr>\n",
       "    <tr>\n",
       "      <th>bathrooms</th>\n",
       "      <td>NaN</td>\n",
       "      <td>NaN</td>\n",
       "      <td>1.0</td>\n",
       "      <td>NaN</td>\n",
       "      <td>NaN</td>\n",
       "      <td>NaN</td>\n",
       "      <td>NaN</td>\n",
       "      <td>NaN</td>\n",
       "      <td>NaN</td>\n",
       "      <td>NaN</td>\n",
       "      <td>NaN</td>\n",
       "    </tr>\n",
       "    <tr>\n",
       "      <th>sqft_living</th>\n",
       "      <td>NaN</td>\n",
       "      <td>NaN</td>\n",
       "      <td>NaN</td>\n",
       "      <td>1.0</td>\n",
       "      <td>NaN</td>\n",
       "      <td>NaN</td>\n",
       "      <td>NaN</td>\n",
       "      <td>NaN</td>\n",
       "      <td>NaN</td>\n",
       "      <td>NaN</td>\n",
       "      <td>NaN</td>\n",
       "    </tr>\n",
       "    <tr>\n",
       "      <th>floors</th>\n",
       "      <td>NaN</td>\n",
       "      <td>NaN</td>\n",
       "      <td>NaN</td>\n",
       "      <td>NaN</td>\n",
       "      <td>1.0</td>\n",
       "      <td>NaN</td>\n",
       "      <td>NaN</td>\n",
       "      <td>NaN</td>\n",
       "      <td>NaN</td>\n",
       "      <td>NaN</td>\n",
       "      <td>NaN</td>\n",
       "    </tr>\n",
       "    <tr>\n",
       "      <th>view</th>\n",
       "      <td>NaN</td>\n",
       "      <td>NaN</td>\n",
       "      <td>NaN</td>\n",
       "      <td>NaN</td>\n",
       "      <td>NaN</td>\n",
       "      <td>1.0</td>\n",
       "      <td>NaN</td>\n",
       "      <td>NaN</td>\n",
       "      <td>NaN</td>\n",
       "      <td>NaN</td>\n",
       "      <td>NaN</td>\n",
       "    </tr>\n",
       "    <tr>\n",
       "      <th>condition</th>\n",
       "      <td>NaN</td>\n",
       "      <td>NaN</td>\n",
       "      <td>NaN</td>\n",
       "      <td>NaN</td>\n",
       "      <td>NaN</td>\n",
       "      <td>NaN</td>\n",
       "      <td>1.0</td>\n",
       "      <td>NaN</td>\n",
       "      <td>NaN</td>\n",
       "      <td>NaN</td>\n",
       "      <td>NaN</td>\n",
       "    </tr>\n",
       "    <tr>\n",
       "      <th>yr_built</th>\n",
       "      <td>NaN</td>\n",
       "      <td>NaN</td>\n",
       "      <td>NaN</td>\n",
       "      <td>NaN</td>\n",
       "      <td>NaN</td>\n",
       "      <td>NaN</td>\n",
       "      <td>NaN</td>\n",
       "      <td>1.0</td>\n",
       "      <td>NaN</td>\n",
       "      <td>NaN</td>\n",
       "      <td>NaN</td>\n",
       "    </tr>\n",
       "    <tr>\n",
       "      <th>zipcode</th>\n",
       "      <td>NaN</td>\n",
       "      <td>NaN</td>\n",
       "      <td>NaN</td>\n",
       "      <td>NaN</td>\n",
       "      <td>NaN</td>\n",
       "      <td>NaN</td>\n",
       "      <td>NaN</td>\n",
       "      <td>NaN</td>\n",
       "      <td>1.0</td>\n",
       "      <td>NaN</td>\n",
       "      <td>NaN</td>\n",
       "    </tr>\n",
       "    <tr>\n",
       "      <th>lat</th>\n",
       "      <td>NaN</td>\n",
       "      <td>NaN</td>\n",
       "      <td>NaN</td>\n",
       "      <td>NaN</td>\n",
       "      <td>NaN</td>\n",
       "      <td>NaN</td>\n",
       "      <td>NaN</td>\n",
       "      <td>NaN</td>\n",
       "      <td>NaN</td>\n",
       "      <td>1.0</td>\n",
       "      <td>NaN</td>\n",
       "    </tr>\n",
       "    <tr>\n",
       "      <th>long</th>\n",
       "      <td>NaN</td>\n",
       "      <td>NaN</td>\n",
       "      <td>NaN</td>\n",
       "      <td>NaN</td>\n",
       "      <td>NaN</td>\n",
       "      <td>NaN</td>\n",
       "      <td>NaN</td>\n",
       "      <td>NaN</td>\n",
       "      <td>NaN</td>\n",
       "      <td>NaN</td>\n",
       "      <td>1.0</td>\n",
       "    </tr>\n",
       "  </tbody>\n",
       "</table>\n",
       "</div>"
      ],
      "text/plain": [
       "             price  bedrooms  bathrooms  sqft_living  floors  view  condition  \\\n",
       "price          1.0       NaN        NaN          NaN     NaN   NaN        NaN   \n",
       "bedrooms       NaN       1.0        NaN          NaN     NaN   NaN        NaN   \n",
       "bathrooms      NaN       NaN        1.0          NaN     NaN   NaN        NaN   \n",
       "sqft_living    NaN       NaN        NaN          1.0     NaN   NaN        NaN   \n",
       "floors         NaN       NaN        NaN          NaN     1.0   NaN        NaN   \n",
       "view           NaN       NaN        NaN          NaN     NaN   1.0        NaN   \n",
       "condition      NaN       NaN        NaN          NaN     NaN   NaN        1.0   \n",
       "yr_built       NaN       NaN        NaN          NaN     NaN   NaN        NaN   \n",
       "zipcode        NaN       NaN        NaN          NaN     NaN   NaN        NaN   \n",
       "lat            NaN       NaN        NaN          NaN     NaN   NaN        NaN   \n",
       "long           NaN       NaN        NaN          NaN     NaN   NaN        NaN   \n",
       "\n",
       "             yr_built  zipcode  lat  long  \n",
       "price             NaN      NaN  NaN   NaN  \n",
       "bedrooms          NaN      NaN  NaN   NaN  \n",
       "bathrooms         NaN      NaN  NaN   NaN  \n",
       "sqft_living       NaN      NaN  NaN   NaN  \n",
       "floors            NaN      NaN  NaN   NaN  \n",
       "view              NaN      NaN  NaN   NaN  \n",
       "condition         NaN      NaN  NaN   NaN  \n",
       "yr_built          1.0      NaN  NaN   NaN  \n",
       "zipcode           NaN      1.0  NaN   NaN  \n",
       "lat               NaN      NaN  1.0   NaN  \n",
       "long              NaN      NaN  NaN   1.0  "
      ]
     },
     "execution_count": 42,
     "metadata": {},
     "output_type": "execute_result"
    }
   ],
   "source": [
    "new_kd.corr()[new_kd.corr() > 0.75] # checking for multicolinearity"
   ]
  },
  {
   "cell_type": "markdown",
   "metadata": {},
   "source": [
    "## Linearity Assumption Check \n",
    "* In case the table and heatmap are not easily read, we will check linearity for all chosen features\n",
    "* We will use scatter plots to plot each `feature` against the `price`"
   ]
  },
  {
   "cell_type": "code",
   "execution_count": 43,
   "metadata": {},
   "outputs": [],
   "source": [
    "# setting variable for features to check using .columns\n",
    "lin_check = new_kd.columns "
   ]
  },
  {
   "cell_type": "code",
   "execution_count": 44,
   "metadata": {
    "scrolled": false
   },
   "outputs": [
    {
     "data": {
      "image/png": "[encoded data removed]",
      "text/plain": [
       "<Figure size 432x288 with 1 Axes>"
      ]
     },
     "metadata": {
      "needs_background": "light"
     },
     "output_type": "display_data"
    },
    {
     "data": {
      "image/png": "[encoded data removed]",
      "text/plain": [
       "<Figure size 432x288 with 1 Axes>"
      ]
     },
     "metadata": {
      "needs_background": "light"
     },
     "output_type": "display_data"
    },
    {
     "data": {
      "image/png": "[encoded data removed]",
      "text/plain": [
       "<Figure size 432x288 with 1 Axes>"
      ]
     },
     "metadata": {
      "needs_background": "light"
     },
     "output_type": "display_data"
    },
    {
     "data": {
      "image/png": "[encoded data removed]",
      "text/plain": [
       "<Figure size 432x288 with 1 Axes>"
      ]
     },
     "metadata": {
      "needs_background": "light"
     },
     "output_type": "display_data"
    },
    {
     "data": {
      "image/png": "[encoded data removed]",
      "text/plain": [
       "<Figure size 432x288 with 1 Axes>"
      ]
     },
     "metadata": {
      "needs_background": "light"
     },
     "output_type": "display_data"
    },
    {
     "data": {
      "image/png": "[encoded data removed]",
      "text/plain": [
       "<Figure size 432x288 with 1 Axes>"
      ]
     },
     "metadata": {
      "needs_background": "light"
     },
     "output_type": "display_data"
    },
    {
     "data": {
      "image/png": "[encoded data removed]",
      "text/plain": [
       "<Figure size 432x288 with 1 Axes>"
      ]
     },
     "metadata": {
      "needs_background": "light"
     },
     "output_type": "display_data"
    },
    {
     "data": {
      "image/png": "[encoded data removed]",
      "text/plain": [
       "<Figure size 432x288 with 1 Axes>"
      ]
     },
     "metadata": {
      "needs_background": "light"
     },
     "output_type": "display_data"
    },
    {
     "data": {
      "image/png": "[encoded data removed]",
      "text/plain": [
       "<Figure size 432x288 with 1 Axes>"
      ]
     },
     "metadata": {
      "needs_background": "light"
     },
     "output_type": "display_data"
    },
    {
     "data": {
      "image/png": "[encoded data removed]",
      "text/plain": [
       "<Figure size 432x288 with 1 Axes>"
      ]
     },
     "metadata": {
      "needs_background": "light"
     },
     "output_type": "display_data"
    },
    {
     "data": {
      "image/png": "[encoded data removed]",
      "text/plain": [
       "<Figure size 432x288 with 1 Axes>"
      ]
     },
     "metadata": {
      "needs_background": "light"
     },
     "output_type": "display_data"
    },
    {
     "data": {
      "image/png": "[encoded data removed]",
      "text/plain": [
       "<Figure size 432x288 with 1 Axes>"
      ]
     },
     "metadata": {
      "needs_background": "light"
     },
     "output_type": "display_data"
    }
   ],
   "source": [
    "# using a for loop with enumerate to plot/name each feature against price\n",
    "for i, column in enumerate(lin_check):\n",
    "    plt.scatter(new_kd[column], new_kd.price, label=column)\n",
    "    plt.legend()\n",
    "    plt.title(label='Price by {}'.format(lin_check[i]).title())\n",
    "    plt.xlabel(column.title())\n",
    "    plt.ylabel('Price')\n",
    "    plt.show()"
   ]
  },
  {
   "cell_type": "markdown",
   "metadata": {},
   "source": [
    "* Notice here we also see the catagorical features and continuous features. "
   ]
  },
  {
   "cell_type": "markdown",
   "metadata": {},
   "source": [
    "# Linear model in Statsmodels"
   ]
  },
  {
   "cell_type": "markdown",
   "metadata": {},
   "source": [
    "* We'll first start by running an `OLS` model on our RAW Data using `statsmodels`"
   ]
  },
  {
   "cell_type": "code",
   "execution_count": 45,
   "metadata": {
    "scrolled": false
   },
   "outputs": [
    {
     "data": {
      "text/html": [
       "<table class=\"simpletable\">\n",
       "<caption>OLS Regression Results</caption>\n",
       "<tr>\n",
       "  <th>Dep. Variable:</th>          <td>price</td>      <th>  R-squared:         </th>  <td>   0.641</td>  \n",
       "</tr>\n",
       "<tr>\n",
       "  <th>Model:</th>                   <td>OLS</td>       <th>  Adj. R-squared:    </th>  <td>   0.641</td>  \n",
       "</tr>\n",
       "<tr>\n",
       "  <th>Method:</th>             <td>Least Squares</td>  <th>  F-statistic:       </th>  <td>   3495.</td>  \n",
       "</tr>\n",
       "<tr>\n",
       "  <th>Date:</th>             <td>Sun, 06 Oct 2019</td> <th>  Prob (F-statistic):</th>   <td>  0.00</td>   \n",
       "</tr>\n",
       "<tr>\n",
       "  <th>Time:</th>                 <td>19:32:22</td>     <th>  Log-Likelihood:    </th> <td>-2.6624e+05</td>\n",
       "</tr>\n",
       "<tr>\n",
       "  <th>No. Observations:</th>      <td> 19606</td>      <th>  AIC:               </th>  <td>5.325e+05</td> \n",
       "</tr>\n",
       "<tr>\n",
       "  <th>Df Residuals:</th>          <td> 19595</td>      <th>  BIC:               </th>  <td>5.326e+05</td> \n",
       "</tr>\n",
       "<tr>\n",
       "  <th>Df Model:</th>              <td>    10</td>      <th>                     </th>      <td> </td>     \n",
       "</tr>\n",
       "<tr>\n",
       "  <th>Covariance Type:</th>      <td>nonrobust</td>    <th>                     </th>      <td> </td>     \n",
       "</tr>\n",
       "</table>\n",
       "<table class=\"simpletable\">\n",
       "<tr>\n",
       "       <td></td>          <th>coef</th>     <th>std err</th>      <th>t</th>      <th>P>|t|</th>  <th>[0.025</th>    <th>0.975]</th>  \n",
       "</tr>\n",
       "<tr>\n",
       "  <th>Intercept</th>   <td> 8.989e+06</td> <td> 2.82e+06</td> <td>    3.184</td> <td> 0.001</td> <td> 3.45e+06</td> <td> 1.45e+07</td>\n",
       "</tr>\n",
       "<tr>\n",
       "  <th>sqft_living</th> <td>  246.5397</td> <td>    2.690</td> <td>   91.651</td> <td> 0.000</td> <td>  241.267</td> <td>  251.812</td>\n",
       "</tr>\n",
       "<tr>\n",
       "  <th>bedrooms</th>    <td>-4.868e+04</td> <td> 2416.683</td> <td>  -20.142</td> <td> 0.000</td> <td>-5.34e+04</td> <td>-4.39e+04</td>\n",
       "</tr>\n",
       "<tr>\n",
       "  <th>bathrooms</th>   <td> 4.292e+04</td> <td> 3308.354</td> <td>   12.974</td> <td> 0.000</td> <td> 3.64e+04</td> <td> 4.94e+04</td>\n",
       "</tr>\n",
       "<tr>\n",
       "  <th>floors</th>      <td> 4.467e+04</td> <td> 3196.967</td> <td>   13.973</td> <td> 0.000</td> <td> 3.84e+04</td> <td> 5.09e+04</td>\n",
       "</tr>\n",
       "<tr>\n",
       "  <th>condition</th>   <td> 2.328e+04</td> <td> 2307.129</td> <td>   10.091</td> <td> 0.000</td> <td> 1.88e+04</td> <td> 2.78e+04</td>\n",
       "</tr>\n",
       "<tr>\n",
       "  <th>view</th>        <td> 8.748e+04</td> <td> 1991.286</td> <td>   43.930</td> <td> 0.000</td> <td> 8.36e+04</td> <td> 9.14e+04</td>\n",
       "</tr>\n",
       "<tr>\n",
       "  <th>yr_built</th>    <td>-1719.6142</td> <td>   68.177</td> <td>  -25.223</td> <td> 0.000</td> <td>-1853.247</td> <td>-1585.981</td>\n",
       "</tr>\n",
       "<tr>\n",
       "  <th>zipcode</th>     <td> -621.6336</td> <td>   32.795</td> <td>  -18.955</td> <td> 0.000</td> <td> -685.915</td> <td> -557.352</td>\n",
       "</tr>\n",
       "<tr>\n",
       "  <th>lat</th>         <td> 6.641e+05</td> <td> 1.03e+04</td> <td>   64.199</td> <td> 0.000</td> <td> 6.44e+05</td> <td> 6.84e+05</td>\n",
       "</tr>\n",
       "<tr>\n",
       "  <th>long</th>        <td> -1.94e+05</td> <td> 1.22e+04</td> <td>  -15.853</td> <td> 0.000</td> <td>-2.18e+05</td> <td> -1.7e+05</td>\n",
       "</tr>\n",
       "</table>\n",
       "<table class=\"simpletable\">\n",
       "<tr>\n",
       "  <th>Omnibus:</th>       <td>11820.344</td> <th>  Durbin-Watson:     </th>  <td>   1.980</td> \n",
       "</tr>\n",
       "<tr>\n",
       "  <th>Prob(Omnibus):</th>  <td> 0.000</td>   <th>  Jarque-Bera (JB):  </th> <td>292815.613</td>\n",
       "</tr>\n",
       "<tr>\n",
       "  <th>Skew:</th>           <td> 2.453</td>   <th>  Prob(JB):          </th>  <td>    0.00</td> \n",
       "</tr>\n",
       "<tr>\n",
       "  <th>Kurtosis:</th>       <td>21.286</td>   <th>  Cond. No.          </th>  <td>2.03e+08</td> \n",
       "</tr>\n",
       "</table><br/><br/>Warnings:<br/>[1] Standard Errors assume that the covariance matrix of the errors is correctly specified.<br/>[2] The condition number is large, 2.03e+08. This might indicate that there are<br/>strong multicollinearity or other numerical problems."
      ],
      "text/plain": [
       "<class 'statsmodels.iolib.summary.Summary'>\n",
       "\"\"\"\n",
       "                            OLS Regression Results                            \n",
       "==============================================================================\n",
       "Dep. Variable:                  price   R-squared:                       0.641\n",
       "Model:                            OLS   Adj. R-squared:                  0.641\n",
       "Method:                 Least Squares   F-statistic:                     3495.\n",
       "Date:                Sun, 06 Oct 2019   Prob (F-statistic):               0.00\n",
       "Time:                        19:32:22   Log-Likelihood:            -2.6624e+05\n",
       "No. Observations:               19606   AIC:                         5.325e+05\n",
       "Df Residuals:                   19595   BIC:                         5.326e+05\n",
       "Df Model:                          10                                         \n",
       "Covariance Type:            nonrobust                                         \n",
       "===============================================================================\n",
       "                  coef    std err          t      P>|t|      [0.025      0.975]\n",
       "-------------------------------------------------------------------------------\n",
       "Intercept    8.989e+06   2.82e+06      3.184      0.001    3.45e+06    1.45e+07\n",
       "sqft_living   246.5397      2.690     91.651      0.000     241.267     251.812\n",
       "bedrooms    -4.868e+04   2416.683    -20.142      0.000   -5.34e+04   -4.39e+04\n",
       "bathrooms    4.292e+04   3308.354     12.974      0.000    3.64e+04    4.94e+04\n",
       "floors       4.467e+04   3196.967     13.973      0.000    3.84e+04    5.09e+04\n",
       "condition    2.328e+04   2307.129     10.091      0.000    1.88e+04    2.78e+04\n",
       "view         8.748e+04   1991.286     43.930      0.000    8.36e+04    9.14e+04\n",
       "yr_built    -1719.6142     68.177    -25.223      0.000   -1853.247   -1585.981\n",
       "zipcode      -621.6336     32.795    -18.955      0.000    -685.915    -557.352\n",
       "lat          6.641e+05   1.03e+04     64.199      0.000    6.44e+05    6.84e+05\n",
       "long         -1.94e+05   1.22e+04    -15.853      0.000   -2.18e+05    -1.7e+05\n",
       "==============================================================================\n",
       "Omnibus:                    11820.344   Durbin-Watson:                   1.980\n",
       "Prob(Omnibus):                  0.000   Jarque-Bera (JB):           292815.613\n",
       "Skew:                           2.453   Prob(JB):                         0.00\n",
       "Kurtosis:                      21.286   Cond. No.                     2.03e+08\n",
       "==============================================================================\n",
       "\n",
       "Warnings:\n",
       "[1] Standard Errors assume that the covariance matrix of the errors is correctly specified.\n",
       "[2] The condition number is large, 2.03e+08. This might indicate that there are\n",
       "strong multicollinearity or other numerical problems.\n",
       "\"\"\""
      ]
     },
     "execution_count": 45,
     "metadata": {},
     "output_type": "execute_result"
    }
   ],
   "source": [
    "from statsmodels.formula.api import ols\n",
    "\n",
    "outcome = 'price'\n",
    "features = ['sqft_living','bedrooms', 'bathrooms','floors', \n",
    "            'condition', 'view', 'yr_built',\n",
    "            'zipcode','lat', 'long'] \n",
    "predictors = '+'.join(features)\n",
    "formula = outcome + \"~\" + predictors\n",
    "model = ols(formula=formula, data=new_kd).fit()\n",
    "model.summary()"
   ]
  },
  {
   "cell_type": "markdown",
   "metadata": {},
   "source": [
    "# Preprocessing\n",
    "To get more meaningful results, we'll split our data between categorical and continous.\n",
    "* This will help us deal with outliers in categorical features\n",
    "* This will also help normalize and scale our continouse features"
   ]
  },
  {
   "cell_type": "markdown",
   "metadata": {},
   "source": [
    "# Dealing with Categorical Data"
   ]
  },
  {
   "cell_type": "markdown",
   "metadata": {},
   "source": [
    "Let's start with `yr_built`:\n",
    "* We break these years down by decade with more built-in Pandas' tools."
   ]
  },
  {
   "cell_type": "code",
   "execution_count": 46,
   "metadata": {},
   "outputs": [
    {
     "data": {
      "text/html": [
       "<div>\n",
       "<style scoped>\n",
       "    .dataframe tbody tr th:only-of-type {\n",
       "        vertical-align: middle;\n",
       "    }\n",
       "\n",
       "    .dataframe tbody tr th {\n",
       "        vertical-align: top;\n",
       "    }\n",
       "\n",
       "    .dataframe thead th {\n",
       "        text-align: right;\n",
       "    }\n",
       "</style>\n",
       "<table border=\"1\" class=\"dataframe\">\n",
       "  <thead>\n",
       "    <tr style=\"text-align: right;\">\n",
       "      <th></th>\n",
       "      <th>date</th>\n",
       "      <th>price</th>\n",
       "      <th>bedrooms</th>\n",
       "      <th>bathrooms</th>\n",
       "      <th>sqft_living</th>\n",
       "      <th>floors</th>\n",
       "      <th>view</th>\n",
       "      <th>condition</th>\n",
       "      <th>yr_built</th>\n",
       "      <th>zipcode</th>\n",
       "      <th>lat</th>\n",
       "      <th>long</th>\n",
       "      <th>yr_bin</th>\n",
       "    </tr>\n",
       "  </thead>\n",
       "  <tbody>\n",
       "    <tr>\n",
       "      <th>0</th>\n",
       "      <td>2014-10-13</td>\n",
       "      <td>221900.0</td>\n",
       "      <td>3</td>\n",
       "      <td>1.00</td>\n",
       "      <td>1180</td>\n",
       "      <td>1.0</td>\n",
       "      <td>0.0</td>\n",
       "      <td>3</td>\n",
       "      <td>1955</td>\n",
       "      <td>98178</td>\n",
       "      <td>47.5112</td>\n",
       "      <td>-122.257</td>\n",
       "      <td>50s</td>\n",
       "    </tr>\n",
       "    <tr>\n",
       "      <th>1</th>\n",
       "      <td>2014-12-09</td>\n",
       "      <td>538000.0</td>\n",
       "      <td>3</td>\n",
       "      <td>2.25</td>\n",
       "      <td>2570</td>\n",
       "      <td>2.0</td>\n",
       "      <td>0.0</td>\n",
       "      <td>3</td>\n",
       "      <td>1951</td>\n",
       "      <td>98125</td>\n",
       "      <td>47.7210</td>\n",
       "      <td>-122.319</td>\n",
       "      <td>50s</td>\n",
       "    </tr>\n",
       "    <tr>\n",
       "      <th>2</th>\n",
       "      <td>2015-02-25</td>\n",
       "      <td>180000.0</td>\n",
       "      <td>2</td>\n",
       "      <td>1.00</td>\n",
       "      <td>770</td>\n",
       "      <td>1.0</td>\n",
       "      <td>0.0</td>\n",
       "      <td>3</td>\n",
       "      <td>1933</td>\n",
       "      <td>98028</td>\n",
       "      <td>47.7379</td>\n",
       "      <td>-122.233</td>\n",
       "      <td>30s</td>\n",
       "    </tr>\n",
       "    <tr>\n",
       "      <th>3</th>\n",
       "      <td>2014-12-09</td>\n",
       "      <td>604000.0</td>\n",
       "      <td>4</td>\n",
       "      <td>3.00</td>\n",
       "      <td>1960</td>\n",
       "      <td>1.0</td>\n",
       "      <td>0.0</td>\n",
       "      <td>5</td>\n",
       "      <td>1965</td>\n",
       "      <td>98136</td>\n",
       "      <td>47.5208</td>\n",
       "      <td>-122.393</td>\n",
       "      <td>60s</td>\n",
       "    </tr>\n",
       "    <tr>\n",
       "      <th>4</th>\n",
       "      <td>2015-02-18</td>\n",
       "      <td>510000.0</td>\n",
       "      <td>3</td>\n",
       "      <td>2.00</td>\n",
       "      <td>1680</td>\n",
       "      <td>1.0</td>\n",
       "      <td>0.0</td>\n",
       "      <td>3</td>\n",
       "      <td>1987</td>\n",
       "      <td>98074</td>\n",
       "      <td>47.6168</td>\n",
       "      <td>-122.045</td>\n",
       "      <td>80s</td>\n",
       "    </tr>\n",
       "  </tbody>\n",
       "</table>\n",
       "</div>"
      ],
      "text/plain": [
       "        date     price  bedrooms  bathrooms  sqft_living  floors  view  \\\n",
       "0 2014-10-13  221900.0         3       1.00         1180     1.0   0.0   \n",
       "1 2014-12-09  538000.0         3       2.25         2570     2.0   0.0   \n",
       "2 2015-02-25  180000.0         2       1.00          770     1.0   0.0   \n",
       "3 2014-12-09  604000.0         4       3.00         1960     1.0   0.0   \n",
       "4 2015-02-18  510000.0         3       2.00         1680     1.0   0.0   \n",
       "\n",
       "   condition  yr_built  zipcode      lat     long yr_bin  \n",
       "0          3      1955    98178  47.5112 -122.257    50s  \n",
       "1          3      1951    98125  47.7210 -122.319    50s  \n",
       "2          3      1933    98028  47.7379 -122.233    30s  \n",
       "3          5      1965    98136  47.5208 -122.393    60s  \n",
       "4          3      1987    98074  47.6168 -122.045    80s  "
      ]
     },
     "execution_count": 46,
     "metadata": {},
     "output_type": "execute_result"
    }
   ],
   "source": [
    "new_kd['yr_bin'] = pd.cut(x = new_kd['yr_built'],\n",
    "                          bins=[0,1920,1930,1940, 1950, 1960, 1970, 1980, 1990, 2000, 2010, 2020], \n",
    "                          labels=['pre-20s','20s','30s','40s', '50s', '60s', '70s', '80s', '90s', '00s','10s'])\n",
    "new_kd.head()"
   ]
  },
  {
   "cell_type": "markdown",
   "metadata": {},
   "source": [
    "* We can see a new column added, `yr_bin` which tells us what decade the house was built.\n",
    "\n",
    "Now, let's take a deeper look at our `zipcode` feature to create a `zip_bin`."
   ]
  },
  {
   "cell_type": "code",
   "execution_count": 47,
   "metadata": {
    "scrolled": false
   },
   "outputs": [
    {
     "data": {
      "text/plain": [
       "count    19606.000000\n",
       "mean     98078.521728\n",
       "std         53.447763\n",
       "min      98001.000000\n",
       "25%      98033.000000\n",
       "50%      98070.000000\n",
       "75%      98118.000000\n",
       "max      98199.000000\n",
       "Name: zipcode, dtype: float64"
      ]
     },
     "execution_count": 47,
     "metadata": {},
     "output_type": "execute_result"
    }
   ],
   "source": [
    "new_kd.zipcode.describe() # Here we're looking at the zipcode stats"
   ]
  },
  {
   "cell_type": "code",
   "execution_count": 48,
   "metadata": {},
   "outputs": [
    {
     "name": "stdout",
     "output_type": "stream",
     "text": [
      "98199(max) - 98001(min) = 198(zipcodes)\n"
     ]
    }
   ],
   "source": [
    "lowest_zip = new_kd.zipcode.min() # This is the minimum zipcode\n",
    "highest_zip = new_kd.zipcode.max() # This is the maximum zipcode\n",
    "num_zips = highest_zip - lowest_zip # This is the total number of zipcodes\n",
    "print(\"{}(max) - {}(min) = {}(zipcodes)\".format(highest_zip, lowest_zip, num_zips))"
   ]
  },
  {
   "cell_type": "markdown",
   "metadata": {},
   "source": [
    "* Here we can see we have about 200 zipcodes in this features\n",
    "\n",
    "I will use a similar tool here to categorize our zipcodes by groups of 10 nearest."
   ]
  },
  {
   "cell_type": "code",
   "execution_count": 49,
   "metadata": {},
   "outputs": [],
   "source": [
    "new_kd['zip_bin'] = pd.qcut(x = new_kd['zipcode'],q=20)"
   ]
  },
  {
   "cell_type": "markdown",
   "metadata": {},
   "source": [
    "* Below you can see the new column and the categories we have defined."
   ]
  },
  {
   "cell_type": "code",
   "execution_count": 50,
   "metadata": {
    "scrolled": true
   },
   "outputs": [
    {
     "data": {
      "text/plain": [
       "0    (98177.0, 98199.0]\n",
       "1    (98118.0, 98125.0]\n",
       "2    (98023.0, 98029.0]\n",
       "3    (98133.0, 98155.0]\n",
       "4    (98070.0, 98075.0]\n",
       "Name: zip_bin, dtype: category\n",
       "Categories (20, interval[float64]): [(98000.999, 98004.0] < (98004.0, 98010.0] < (98010.0, 98023.0] < (98023.0, 98029.0] ... (98125.0, 98133.0] < (98133.0, 98155.0] < (98155.0, 98177.0] < (98177.0, 98199.0]]"
      ]
     },
     "execution_count": 50,
     "metadata": {},
     "output_type": "execute_result"
    }
   ],
   "source": [
    "new_kd['zip_bin'].head()"
   ]
  },
  {
   "cell_type": "markdown",
   "metadata": {},
   "source": [
    "* Here I will convert `bedrooms`, `floors`, `condition`, and `view` into the category types as follows:  "
   ]
  },
  {
   "cell_type": "code",
   "execution_count": 51,
   "metadata": {},
   "outputs": [],
   "source": [
    "new_kd['bed_cat'] = new_kd['bedrooms'].astype('category')\n",
    "new_kd['floor_cat'] = new_kd['floors'].astype('category')\n",
    "new_kd['condition_cat'] = new_kd['condition'].astype('category')\n",
    "new_kd['view_cat'] = new_kd['view'].astype('category')"
   ]
  },
  {
   "cell_type": "markdown",
   "metadata": {},
   "source": [
    "Now let's look at bathrooms. I noticed about that one bathroom was listed as 2.25."
   ]
  },
  {
   "cell_type": "code",
   "execution_count": 52,
   "metadata": {
    "scrolled": true
   },
   "outputs": [
    {
     "data": {
      "text/plain": [
       "array([1.  , 2.25, 3.  , 2.  , 4.5 , 2.5 , 1.75, 2.75, 1.5 , 4.  , 3.25,\n",
       "       3.5 , 0.75, 4.75, 5.  , 4.25, 3.75, 1.25, 0.5 , 5.5 , 5.25, 5.75])"
      ]
     },
     "execution_count": 52,
     "metadata": {},
     "output_type": "execute_result"
    }
   ],
   "source": [
    "new_kd.bathrooms.unique()"
   ]
  },
  {
   "cell_type": "markdown",
   "metadata": {},
   "source": [
    "* I'll make categories for ranges of bathrooms, ie: *'0-1', '1-2', 2-3, '4-5', and '5+'*."
   ]
  },
  {
   "cell_type": "code",
   "execution_count": 53,
   "metadata": {
    "scrolled": false
   },
   "outputs": [],
   "source": [
    "new_kd['baths'] = pd.cut(x = new_kd['bathrooms'],\n",
    "                          bins=[0,1, 2, 3, 4, 5, 6], \n",
    "                          labels=['0-1','1-2', '2-3', '3-4', '4-5', '5+'])"
   ]
  },
  {
   "cell_type": "markdown",
   "metadata": {},
   "source": [
    "# Categorical Data Visualizations"
   ]
  },
  {
   "cell_type": "markdown",
   "metadata": {},
   "source": [
    "Now we will take a visual look at our categories, as they compare to home sale prices."
   ]
  },
  {
   "cell_type": "code",
   "execution_count": 54,
   "metadata": {
    "scrolled": false
   },
   "outputs": [
    {
     "data": {
      "image/png": "[encoded data removed]",
      "text/plain": [
       "<Figure size 432x288 with 1 Axes>"
      ]
     },
     "metadata": {
      "needs_background": "light"
     },
     "output_type": "display_data"
    },
    {
     "data": {
      "image/png": "[encoded data removed]",
      "text/plain": [
       "<Figure size 432x288 with 1 Axes>"
      ]
     },
     "metadata": {
      "needs_background": "light"
     },
     "output_type": "display_data"
    },
    {
     "data": {
      "image/png": "[encoded data removed]",
      "text/plain": [
       "<Figure size 432x288 with 1 Axes>"
      ]
     },
     "metadata": {
      "needs_background": "light"
     },
     "output_type": "display_data"
    },
    {
     "data": {
      "image/png": "[encoded data removed]",
      "text/plain": [
       "<Figure size 432x288 with 1 Axes>"
      ]
     },
     "metadata": {
      "needs_background": "light"
     },
     "output_type": "display_data"
    },
    {
     "data": {
      "image/png": "[encoded data removed]",
      "text/plain": [
       "<Figure size 432x288 with 1 Axes>"
      ]
     },
     "metadata": {
      "needs_background": "light"
     },
     "output_type": "display_data"
    },
    {
     "data": {
      "image/png": "[encoded data removed]",
      "text/plain": [
       "<Figure size 432x288 with 1 Axes>"
      ]
     },
     "metadata": {
      "needs_background": "light"
     },
     "output_type": "display_data"
    },
    {
     "data": {
      "image/png": "[encoded data removed]",
      "text/plain": [
       "<Figure size 432x288 with 1 Axes>"
      ]
     },
     "metadata": {
      "needs_background": "light"
     },
     "output_type": "display_data"
    }
   ],
   "source": [
    "categoricals = ['yr_bin', 'zip_bin', 'bed_cat', 'floor_cat', 'condition_cat', 'view_cat', 'baths' ]\n",
    "for i, cat in enumerate(categoricals):\n",
    "    ax = sns.boxplot(x =cat, y = 'price', data=new_kd, showfliers=False)\n",
    "    plt.title(label='Price by {}'.format(categoricals[i]).title())\n",
    "    plt.show()"
   ]
  },
  {
   "cell_type": "markdown",
   "metadata": {},
   "source": [
    "# Countinuous Data Visualizations"
   ]
  },
  {
   "cell_type": "markdown",
   "metadata": {},
   "source": [
    "* Let's also take a look at how our continuous features compare to home sale prices."
   ]
  },
  {
   "cell_type": "code",
   "execution_count": 55,
   "metadata": {
    "scrolled": true
   },
   "outputs": [
    {
     "data": {
      "image/png": "[encoded data removed]",
      "text/plain": [
       "<Figure size 1152x216 with 4 Axes>"
      ]
     },
     "metadata": {
      "needs_background": "light"
     },
     "output_type": "display_data"
    }
   ],
   "source": [
    "fig, axes = plt.subplots(nrows=1, ncols=4, figsize=(16,3))\n",
    "\n",
    "for xcol, ax in zip(['price', 'sqft_living','lat','long'], axes):\n",
    "    new_kd.plot(kind='scatter', x=xcol, y='price', ax=ax, alpha=0.4)"
   ]
  },
  {
   "cell_type": "markdown",
   "metadata": {},
   "source": [
    "# Creating a Better Dataset"
   ]
  },
  {
   "cell_type": "markdown",
   "metadata": {},
   "source": [
    "Here I will copy some old and new features into a new dataset called, called better_kd."
   ]
  },
  {
   "cell_type": "code",
   "execution_count": 56,
   "metadata": {
    "scrolled": true
   },
   "outputs": [
    {
     "name": "stdout",
     "output_type": "stream",
     "text": [
      "<class 'pandas.core.frame.DataFrame'>\n",
      "Int64Index: 19606 entries, 0 to 21596\n",
      "Data columns (total 18 columns):\n",
      "price            19606 non-null float64\n",
      "sqft_living      19606 non-null int64\n",
      "bedrooms         19606 non-null int64\n",
      "bathrooms        19606 non-null float64\n",
      "floors           19606 non-null float64\n",
      "condition        19606 non-null int64\n",
      "view             19606 non-null float64\n",
      "yr_built         19606 non-null int64\n",
      "zipcode          19606 non-null int64\n",
      "yr_bin           19606 non-null category\n",
      "zip_bin          19606 non-null category\n",
      "baths            19606 non-null category\n",
      "bed_cat          19606 non-null category\n",
      "floor_cat        19606 non-null category\n",
      "condition_cat    19606 non-null category\n",
      "view_cat         19606 non-null category\n",
      "lat              19606 non-null float64\n",
      "long             19606 non-null float64\n",
      "dtypes: category(7), float64(6), int64(5)\n",
      "memory usage: 1.9 MB\n"
     ]
    }
   ],
   "source": [
    "better_kd = new_kd[['price', 'sqft_living','bedrooms', 'bathrooms','floors', \n",
    "                    'condition', 'view', 'yr_built','zipcode','yr_bin','zip_bin',\n",
    "                    'baths','bed_cat','floor_cat','condition_cat','view_cat', \n",
    "                    'lat', 'long']].copy()\n",
    "better_kd.info() "
   ]
  },
  {
   "cell_type": "code",
   "execution_count": 93,
   "metadata": {},
   "outputs": [],
   "source": [
    "yr_dummies = pd.get_dummies(better_kd['yr_bin'], prefix=\"yr\", drop_first=True)\n",
    "zip_dummies = pd.get_dummies(better_kd['zip_bin'], prefix=\"zip\", drop_first=True)\n",
    "bath_dummies = pd.get_dummies(better_kd['baths'], prefix=\"bath\", drop_first=True)\n",
    "bed_dummies = pd.get_dummies(better_kd['bed_cat'], prefix=\"bed\", drop_first=True)\n",
    "flr_dummies = pd.get_dummies(better_kd['floor_cat'], prefix=\"flr\", drop_first=True)\n",
    "cond_dummies = pd.get_dummies(better_kd['condition_cat'], prefix=\"cond\", drop_first=True)\n",
    "view_dummies = pd.get_dummies(better_kd['view_cat'], prefix=\"view\", drop_first=True)"
   ]
  },
  {
   "cell_type": "code",
   "execution_count": 98,
   "metadata": {},
   "outputs": [
    {
     "data": {
      "text/html": [
       "<div>\n",
       "<style scoped>\n",
       "    .dataframe tbody tr th:only-of-type {\n",
       "        vertical-align: middle;\n",
       "    }\n",
       "\n",
       "    .dataframe tbody tr th {\n",
       "        vertical-align: top;\n",
       "    }\n",
       "\n",
       "    .dataframe thead th {\n",
       "        text-align: right;\n",
       "    }\n",
       "</style>\n",
       "<table border=\"1\" class=\"dataframe\">\n",
       "  <thead>\n",
       "    <tr style=\"text-align: right;\">\n",
       "      <th></th>\n",
       "      <th>price</th>\n",
       "      <th>sqft_living</th>\n",
       "      <th>bedrooms</th>\n",
       "      <th>bathrooms</th>\n",
       "      <th>floors</th>\n",
       "      <th>condition</th>\n",
       "      <th>view</th>\n",
       "      <th>yr_built</th>\n",
       "      <th>zipcode</th>\n",
       "      <th>lat</th>\n",
       "      <th>...</th>\n",
       "      <th>flr_3.0</th>\n",
       "      <th>flr_3.5</th>\n",
       "      <th>cond_2</th>\n",
       "      <th>cond_3</th>\n",
       "      <th>cond_4</th>\n",
       "      <th>cond_5</th>\n",
       "      <th>view_1.0</th>\n",
       "      <th>view_2.0</th>\n",
       "      <th>view_3.0</th>\n",
       "      <th>view_4.0</th>\n",
       "    </tr>\n",
       "  </thead>\n",
       "  <tbody>\n",
       "    <tr>\n",
       "      <th>0</th>\n",
       "      <td>221900.0</td>\n",
       "      <td>1180</td>\n",
       "      <td>3</td>\n",
       "      <td>1.00</td>\n",
       "      <td>1.0</td>\n",
       "      <td>3</td>\n",
       "      <td>0.0</td>\n",
       "      <td>1955</td>\n",
       "      <td>98178</td>\n",
       "      <td>47.5112</td>\n",
       "      <td>...</td>\n",
       "      <td>0</td>\n",
       "      <td>0</td>\n",
       "      <td>0</td>\n",
       "      <td>1</td>\n",
       "      <td>0</td>\n",
       "      <td>0</td>\n",
       "      <td>0</td>\n",
       "      <td>0</td>\n",
       "      <td>0</td>\n",
       "      <td>0</td>\n",
       "    </tr>\n",
       "    <tr>\n",
       "      <th>1</th>\n",
       "      <td>538000.0</td>\n",
       "      <td>2570</td>\n",
       "      <td>3</td>\n",
       "      <td>2.25</td>\n",
       "      <td>2.0</td>\n",
       "      <td>3</td>\n",
       "      <td>0.0</td>\n",
       "      <td>1951</td>\n",
       "      <td>98125</td>\n",
       "      <td>47.7210</td>\n",
       "      <td>...</td>\n",
       "      <td>0</td>\n",
       "      <td>0</td>\n",
       "      <td>0</td>\n",
       "      <td>1</td>\n",
       "      <td>0</td>\n",
       "      <td>0</td>\n",
       "      <td>0</td>\n",
       "      <td>0</td>\n",
       "      <td>0</td>\n",
       "      <td>0</td>\n",
       "    </tr>\n",
       "    <tr>\n",
       "      <th>2</th>\n",
       "      <td>180000.0</td>\n",
       "      <td>770</td>\n",
       "      <td>2</td>\n",
       "      <td>1.00</td>\n",
       "      <td>1.0</td>\n",
       "      <td>3</td>\n",
       "      <td>0.0</td>\n",
       "      <td>1933</td>\n",
       "      <td>98028</td>\n",
       "      <td>47.7379</td>\n",
       "      <td>...</td>\n",
       "      <td>0</td>\n",
       "      <td>0</td>\n",
       "      <td>0</td>\n",
       "      <td>1</td>\n",
       "      <td>0</td>\n",
       "      <td>0</td>\n",
       "      <td>0</td>\n",
       "      <td>0</td>\n",
       "      <td>0</td>\n",
       "      <td>0</td>\n",
       "    </tr>\n",
       "    <tr>\n",
       "      <th>3</th>\n",
       "      <td>604000.0</td>\n",
       "      <td>1960</td>\n",
       "      <td>4</td>\n",
       "      <td>3.00</td>\n",
       "      <td>1.0</td>\n",
       "      <td>5</td>\n",
       "      <td>0.0</td>\n",
       "      <td>1965</td>\n",
       "      <td>98136</td>\n",
       "      <td>47.5208</td>\n",
       "      <td>...</td>\n",
       "      <td>0</td>\n",
       "      <td>0</td>\n",
       "      <td>0</td>\n",
       "      <td>0</td>\n",
       "      <td>0</td>\n",
       "      <td>1</td>\n",
       "      <td>0</td>\n",
       "      <td>0</td>\n",
       "      <td>0</td>\n",
       "      <td>0</td>\n",
       "    </tr>\n",
       "    <tr>\n",
       "      <th>4</th>\n",
       "      <td>510000.0</td>\n",
       "      <td>1680</td>\n",
       "      <td>3</td>\n",
       "      <td>2.00</td>\n",
       "      <td>1.0</td>\n",
       "      <td>3</td>\n",
       "      <td>0.0</td>\n",
       "      <td>1987</td>\n",
       "      <td>98074</td>\n",
       "      <td>47.6168</td>\n",
       "      <td>...</td>\n",
       "      <td>0</td>\n",
       "      <td>0</td>\n",
       "      <td>0</td>\n",
       "      <td>1</td>\n",
       "      <td>0</td>\n",
       "      <td>0</td>\n",
       "      <td>0</td>\n",
       "      <td>0</td>\n",
       "      <td>0</td>\n",
       "      <td>0</td>\n",
       "    </tr>\n",
       "  </tbody>\n",
       "</table>\n",
       "<p>5 rows × 62 columns</p>\n",
       "</div>"
      ],
      "text/plain": [
       "      price  sqft_living  bedrooms  bathrooms  floors  condition  view  \\\n",
       "0  221900.0         1180         3       1.00     1.0          3   0.0   \n",
       "1  538000.0         2570         3       2.25     2.0          3   0.0   \n",
       "2  180000.0          770         2       1.00     1.0          3   0.0   \n",
       "3  604000.0         1960         4       3.00     1.0          5   0.0   \n",
       "4  510000.0         1680         3       2.00     1.0          3   0.0   \n",
       "\n",
       "   yr_built  zipcode      lat  ...  flr_3.0  flr_3.5  cond_2  cond_3  cond_4  \\\n",
       "0      1955    98178  47.5112  ...        0        0       0       1       0   \n",
       "1      1951    98125  47.7210  ...        0        0       0       1       0   \n",
       "2      1933    98028  47.7379  ...        0        0       0       1       0   \n",
       "3      1965    98136  47.5208  ...        0        0       0       0       0   \n",
       "4      1987    98074  47.6168  ...        0        0       0       1       0   \n",
       "\n",
       "   cond_5  view_1.0  view_2.0  view_3.0  view_4.0  \n",
       "0       0         0         0         0         0  \n",
       "1       0         0         0         0         0  \n",
       "2       0         0         0         0         0  \n",
       "3       1         0         0         0         0  \n",
       "4       0         0         0         0         0  \n",
       "\n",
       "[5 rows x 62 columns]"
      ]
     },
     "execution_count": 98,
     "metadata": {},
     "output_type": "execute_result"
    }
   ],
   "source": [
    "better_kd = pd.concat([better_kd, yr_dummies, zip_dummies, bath_dummies, \n",
    "                       flr_dummies, cond_dummies, view_dummies], axis=1)\n",
    "better_kd.head()"
   ]
  },
  {
   "cell_type": "code",
   "execution_count": 94,
   "metadata": {},
   "outputs": [],
   "source": [
    "better_kd = better_kd.drop(['yr_bin', 'zip_bin','baths','bed_cat','floor_cat',\n",
    "                       'condition_cat','view_cat'], axis=1)"
   ]
  },
  {
   "cell_type": "markdown",
   "metadata": {},
   "source": [
    "# Dealing with Continuous Features"
   ]
  },
  {
   "cell_type": "markdown",
   "metadata": {},
   "source": [
    "* Here I will normalize and standardize the continuous features using the preprocessing tool, \"PowerTransformer\", from sklearn library. I will also import numpy to help with the math. . "
   ]
  },
  {
   "cell_type": "markdown",
   "metadata": {},
   "source": [
    "Creating a variable to storte a dataframe with continuous features."
   ]
  },
  {
   "cell_type": "code",
   "execution_count": 57,
   "metadata": {},
   "outputs": [],
   "source": [
    "cont_feat = better_kd[['price','sqft_living', 'bedrooms', 'bathrooms','floors', \n",
    "                    'condition', 'view', 'yr_built','zipcode','lat', 'long']]"
   ]
  },
  {
   "cell_type": "code",
   "execution_count": 58,
   "metadata": {},
   "outputs": [],
   "source": [
    "# importing numpy to help with math\n",
    "import numpy as np"
   ]
  },
  {
   "cell_type": "code",
   "execution_count": 59,
   "metadata": {},
   "outputs": [
    {
     "name": "stderr",
     "output_type": "stream",
     "text": [
      "/Users/jacobtadesse/anaconda3/lib/python3.7/site-packages/sklearn/preprocessing/data.py:2828: RuntimeWarning: overflow encountered in power\n",
      "  out[pos] = (np.power(x[pos] + 1, lmbda) - 1) / lmbda\n",
      "/Users/jacobtadesse/anaconda3/lib/python3.7/site-packages/numpy/core/_methods.py:121: RuntimeWarning: overflow encountered in multiply\n",
      "  x = um.multiply(x, x, out=x)\n",
      "/Users/jacobtadesse/anaconda3/lib/python3.7/site-packages/sklearn/preprocessing/data.py:2832: RuntimeWarning: overflow encountered in power\n",
      "  out[~pos] = -(np.power(-x[~pos] + 1, 2 - lmbda) - 1) / (2 - lmbda)\n",
      "/Users/jacobtadesse/anaconda3/lib/python3.7/site-packages/numpy/core/_methods.py:122: RuntimeWarning: overflow encountered in reduce\n",
      "  ret = umr_sum(x, axis, dtype, out, keepdims)\n"
     ]
    },
    {
     "data": {
      "image/png": "[encoded data removed]",
      "text/plain": [
       "<Figure size 1152x648 with 12 Axes>"
      ]
     },
     "metadata": {
      "needs_background": "light"
     },
     "output_type": "display_data"
    }
   ],
   "source": [
    "# importing scikit learn's preprocessing tool\n",
    "\n",
    "from sklearn import preprocessing\n",
    "\n",
    "# normalizing and scaling data with the power transformer\n",
    "\n",
    "pt = preprocessing.PowerTransformer(method='yeo-johnson', \n",
    "                                    standardize=True)\n",
    "kd_pt = pt.fit_transform(cont_feat) # # power transformer turns pandas series in numpy arrays.\n",
    "kd_pt = pd.DataFrame(kd_pt, columns=cont_feat.columns) # Must convert back to DataFrame for .hist() \n",
    "\n",
    "kd_pt.hist(figsize=(16,9));"
   ]
  },
  {
   "cell_type": "markdown",
   "metadata": {},
   "source": [
    "# Model after standardization & normalization"
   ]
  },
  {
   "cell_type": "markdown",
   "metadata": {},
   "source": [
    "* Here I'll combine the new features and run an OLS model."
   ]
  },
  {
   "cell_type": "code",
   "execution_count": 60,
   "metadata": {
    "scrolled": true
   },
   "outputs": [
    {
     "data": {
      "text/html": [
       "<table class=\"simpletable\">\n",
       "<caption>OLS Regression Results</caption>\n",
       "<tr>\n",
       "  <th>Dep. Variable:</th>          <td>price</td>      <th>  R-squared:         </th>  <td>   0.691</td>  \n",
       "</tr>\n",
       "<tr>\n",
       "  <th>Model:</th>                   <td>OLS</td>       <th>  Adj. R-squared:    </th>  <td>   0.690</td>  \n",
       "</tr>\n",
       "<tr>\n",
       "  <th>Method:</th>             <td>Least Squares</td>  <th>  F-statistic:       </th>  <td>   781.7</td>  \n",
       "</tr>\n",
       "<tr>\n",
       "  <th>Date:</th>             <td>Sun, 06 Oct 2019</td> <th>  Prob (F-statistic):</th>   <td>  0.00</td>   \n",
       "</tr>\n",
       "<tr>\n",
       "  <th>Time:</th>                 <td>19:32:28</td>     <th>  Log-Likelihood:    </th> <td>-2.6475e+05</td>\n",
       "</tr>\n",
       "<tr>\n",
       "  <th>No. Observations:</th>      <td> 19606</td>      <th>  AIC:               </th>  <td>5.296e+05</td> \n",
       "</tr>\n",
       "<tr>\n",
       "  <th>Df Residuals:</th>          <td> 19549</td>      <th>  BIC:               </th>  <td>5.301e+05</td> \n",
       "</tr>\n",
       "<tr>\n",
       "  <th>Df Model:</th>              <td>    56</td>      <th>                     </th>      <td> </td>     \n",
       "</tr>\n",
       "<tr>\n",
       "  <th>Covariance Type:</th>      <td>nonrobust</td>    <th>                     </th>      <td> </td>     \n",
       "</tr>\n",
       "</table>\n",
       "<table class=\"simpletable\">\n",
       "<tr>\n",
       "                            <td></td>                               <th>coef</th>     <th>std err</th>      <th>t</th>      <th>P>|t|</th>  <th>[0.025</th>    <th>0.975]</th>  \n",
       "</tr>\n",
       "<tr>\n",
       "  <th>Intercept</th>                                             <td> -1.12e+08</td> <td> 2.67e+07</td> <td>   -4.197</td> <td> 0.000</td> <td>-1.64e+08</td> <td>-5.97e+07</td>\n",
       "</tr>\n",
       "<tr>\n",
       "  <th>yr_bin[T.20s]</th>                                         <td> 2.842e+04</td> <td> 9541.192</td> <td>    2.979</td> <td> 0.003</td> <td> 9722.263</td> <td> 4.71e+04</td>\n",
       "</tr>\n",
       "<tr>\n",
       "  <th>yr_bin[T.30s]</th>                                         <td> 2.941e+04</td> <td> 1.42e+04</td> <td>    2.073</td> <td> 0.038</td> <td> 1608.007</td> <td> 5.72e+04</td>\n",
       "</tr>\n",
       "<tr>\n",
       "  <th>yr_bin[T.40s]</th>                                         <td> 6169.0962</td> <td> 1.62e+04</td> <td>    0.382</td> <td> 0.703</td> <td>-2.55e+04</td> <td> 3.78e+04</td>\n",
       "</tr>\n",
       "<tr>\n",
       "  <th>yr_bin[T.50s]</th>                                         <td> 1.027e+04</td> <td> 1.99e+04</td> <td>    0.516</td> <td> 0.606</td> <td>-2.88e+04</td> <td> 4.93e+04</td>\n",
       "</tr>\n",
       "<tr>\n",
       "  <th>yr_bin[T.60s]</th>                                         <td> 4556.9494</td> <td> 2.39e+04</td> <td>    0.190</td> <td> 0.849</td> <td>-4.24e+04</td> <td> 5.15e+04</td>\n",
       "</tr>\n",
       "<tr>\n",
       "  <th>yr_bin[T.70s]</th>                                         <td> 7086.4775</td> <td> 2.83e+04</td> <td>    0.250</td> <td> 0.802</td> <td>-4.84e+04</td> <td> 6.26e+04</td>\n",
       "</tr>\n",
       "<tr>\n",
       "  <th>yr_bin[T.80s]</th>                                         <td> 3.904e+04</td> <td> 3.22e+04</td> <td>    1.213</td> <td> 0.225</td> <td> -2.4e+04</td> <td> 1.02e+05</td>\n",
       "</tr>\n",
       "<tr>\n",
       "  <th>yr_bin[T.90s]</th>                                         <td> 6.205e+04</td> <td> 3.61e+04</td> <td>    1.720</td> <td> 0.085</td> <td>-8672.205</td> <td> 1.33e+05</td>\n",
       "</tr>\n",
       "<tr>\n",
       "  <th>yr_bin[T.00s]</th>                                         <td> 6.648e+04</td> <td>    4e+04</td> <td>    1.663</td> <td> 0.096</td> <td>-1.19e+04</td> <td> 1.45e+05</td>\n",
       "</tr>\n",
       "<tr>\n",
       "  <th>yr_bin[T.10s]</th>                                         <td> 1.178e+05</td> <td> 4.35e+04</td> <td>    2.709</td> <td> 0.007</td> <td> 3.26e+04</td> <td> 2.03e+05</td>\n",
       "</tr>\n",
       "<tr>\n",
       "  <th>zip_bin[T.Interval(98004.0, 98010.0, closed='right')]</th> <td>-1.305e+04</td> <td> 8650.566</td> <td>   -1.508</td> <td> 0.132</td> <td>   -3e+04</td> <td> 3910.441</td>\n",
       "</tr>\n",
       "<tr>\n",
       "  <th>zip_bin[T.Interval(98010.0, 98023.0, closed='right')]</th> <td>-1.919e+05</td> <td> 9802.159</td> <td>  -19.574</td> <td> 0.000</td> <td>-2.11e+05</td> <td>-1.73e+05</td>\n",
       "</tr>\n",
       "<tr>\n",
       "  <th>zip_bin[T.Interval(98023.0, 98029.0, closed='right')]</th> <td>-1.462e+05</td> <td> 1.23e+04</td> <td>  -11.893</td> <td> 0.000</td> <td> -1.7e+05</td> <td>-1.22e+05</td>\n",
       "</tr>\n",
       "<tr>\n",
       "  <th>zip_bin[T.Interval(98029.0, 98033.0, closed='right')]</th> <td>-1.267e+05</td> <td> 1.25e+04</td> <td>  -10.126</td> <td> 0.000</td> <td>-1.51e+05</td> <td>-1.02e+05</td>\n",
       "</tr>\n",
       "<tr>\n",
       "  <th>zip_bin[T.Interval(98033.0, 98038.0, closed='right')]</th> <td>-1.689e+05</td> <td>  1.4e+04</td> <td>  -12.059</td> <td> 0.000</td> <td>-1.96e+05</td> <td>-1.41e+05</td>\n",
       "</tr>\n",
       "<tr>\n",
       "  <th>zip_bin[T.Interval(98038.0, 98042.0, closed='right')]</th> <td>-2.315e+04</td> <td> 1.56e+04</td> <td>   -1.488</td> <td> 0.137</td> <td>-5.36e+04</td> <td> 7347.074</td>\n",
       "</tr>\n",
       "<tr>\n",
       "  <th>zip_bin[T.Interval(98042.0, 98053.0, closed='right')]</th> <td>-1.455e+05</td> <td> 1.87e+04</td> <td>   -7.779</td> <td> 0.000</td> <td>-1.82e+05</td> <td>-1.09e+05</td>\n",
       "</tr>\n",
       "<tr>\n",
       "  <th>zip_bin[T.Interval(98053.0, 98058.0, closed='right')]</th> <td>-2.121e+05</td> <td> 1.94e+04</td> <td>  -10.942</td> <td> 0.000</td> <td> -2.5e+05</td> <td>-1.74e+05</td>\n",
       "</tr>\n",
       "<tr>\n",
       "  <th>zip_bin[T.Interval(98058.0, 98070.0, closed='right')]</th> <td>-2.017e+05</td> <td> 2.18e+04</td> <td>   -9.270</td> <td> 0.000</td> <td>-2.44e+05</td> <td>-1.59e+05</td>\n",
       "</tr>\n",
       "<tr>\n",
       "  <th>zip_bin[T.Interval(98070.0, 98075.0, closed='right')]</th> <td>-1.811e+05</td> <td> 2.53e+04</td> <td>   -7.159</td> <td> 0.000</td> <td>-2.31e+05</td> <td>-1.31e+05</td>\n",
       "</tr>\n",
       "<tr>\n",
       "  <th>zip_bin[T.Interval(98075.0, 98103.0, closed='right')]</th> <td>-2.004e+05</td> <td> 3.09e+04</td> <td>   -6.491</td> <td> 0.000</td> <td>-2.61e+05</td> <td> -1.4e+05</td>\n",
       "</tr>\n",
       "<tr>\n",
       "  <th>zip_bin[T.Interval(98103.0, 98107.0, closed='right')]</th> <td>-1.909e+05</td> <td>  3.4e+04</td> <td>   -5.621</td> <td> 0.000</td> <td>-2.57e+05</td> <td>-1.24e+05</td>\n",
       "</tr>\n",
       "<tr>\n",
       "  <th>zip_bin[T.Interval(98107.0, 98115.0, closed='right')]</th> <td>-1.363e+05</td> <td>  3.6e+04</td> <td>   -3.785</td> <td> 0.000</td> <td>-2.07e+05</td> <td>-6.57e+04</td>\n",
       "</tr>\n",
       "<tr>\n",
       "  <th>zip_bin[T.Interval(98115.0, 98118.0, closed='right')]</th> <td>-2.358e+05</td> <td> 3.72e+04</td> <td>   -6.342</td> <td> 0.000</td> <td>-3.09e+05</td> <td>-1.63e+05</td>\n",
       "</tr>\n",
       "<tr>\n",
       "  <th>zip_bin[T.Interval(98118.0, 98125.0, closed='right')]</th> <td>  -2.2e+05</td> <td> 3.92e+04</td> <td>   -5.606</td> <td> 0.000</td> <td>-2.97e+05</td> <td>-1.43e+05</td>\n",
       "</tr>\n",
       "<tr>\n",
       "  <th>zip_bin[T.Interval(98125.0, 98133.0, closed='right')]</th> <td>-3.407e+05</td> <td> 4.14e+04</td> <td>   -8.235</td> <td> 0.000</td> <td>-4.22e+05</td> <td> -2.6e+05</td>\n",
       "</tr>\n",
       "<tr>\n",
       "  <th>zip_bin[T.Interval(98133.0, 98155.0, closed='right')]</th> <td>-3.124e+05</td> <td> 4.65e+04</td> <td>   -6.714</td> <td> 0.000</td> <td>-4.04e+05</td> <td>-2.21e+05</td>\n",
       "</tr>\n",
       "<tr>\n",
       "  <th>zip_bin[T.Interval(98155.0, 98177.0, closed='right')]</th> <td>-3.579e+05</td> <td> 5.43e+04</td> <td>   -6.593</td> <td> 0.000</td> <td>-4.64e+05</td> <td>-2.51e+05</td>\n",
       "</tr>\n",
       "<tr>\n",
       "  <th>zip_bin[T.Interval(98177.0, 98199.0, closed='right')]</th> <td>-3.222e+05</td> <td> 6.11e+04</td> <td>   -5.269</td> <td> 0.000</td> <td>-4.42e+05</td> <td>-2.02e+05</td>\n",
       "</tr>\n",
       "<tr>\n",
       "  <th>baths[T.1-2]</th>                                          <td>-1.366e+04</td> <td> 7074.615</td> <td>   -1.931</td> <td> 0.053</td> <td>-2.75e+04</td> <td>  204.552</td>\n",
       "</tr>\n",
       "<tr>\n",
       "  <th>baths[T.2-3]</th>                                          <td>-1.204e+04</td> <td> 1.23e+04</td> <td>   -0.978</td> <td> 0.328</td> <td>-3.62e+04</td> <td> 1.21e+04</td>\n",
       "</tr>\n",
       "<tr>\n",
       "  <th>baths[T.3-4]</th>                                          <td> 1.207e+05</td> <td> 1.98e+04</td> <td>    6.093</td> <td> 0.000</td> <td> 8.19e+04</td> <td>  1.6e+05</td>\n",
       "</tr>\n",
       "<tr>\n",
       "  <th>baths[T.4-5]</th>                                          <td> 3.042e+05</td> <td> 3.21e+04</td> <td>    9.465</td> <td> 0.000</td> <td> 2.41e+05</td> <td> 3.67e+05</td>\n",
       "</tr>\n",
       "<tr>\n",
       "  <th>baths[T.5+]</th>                                           <td> 4.675e+05</td> <td> 6.34e+04</td> <td>    7.376</td> <td> 0.000</td> <td> 3.43e+05</td> <td> 5.92e+05</td>\n",
       "</tr>\n",
       "<tr>\n",
       "  <th>bed_cat[T.2]</th>                                          <td> 7.485e+06</td> <td> 1.78e+06</td> <td>    4.206</td> <td> 0.000</td> <td>    4e+06</td> <td>  1.1e+07</td>\n",
       "</tr>\n",
       "<tr>\n",
       "  <th>bed_cat[T.3]</th>                                          <td> 1.494e+07</td> <td> 3.56e+06</td> <td>    4.198</td> <td> 0.000</td> <td> 7.96e+06</td> <td> 2.19e+07</td>\n",
       "</tr>\n",
       "<tr>\n",
       "  <th>bed_cat[T.4]</th>                                          <td> 2.239e+07</td> <td> 5.34e+06</td> <td>    4.194</td> <td> 0.000</td> <td> 1.19e+07</td> <td> 3.29e+07</td>\n",
       "</tr>\n",
       "<tr>\n",
       "  <th>floor_cat[T.1.5]</th>                                      <td> 3.792e+06</td> <td> 9.05e+05</td> <td>    4.189</td> <td> 0.000</td> <td> 2.02e+06</td> <td> 5.57e+06</td>\n",
       "</tr>\n",
       "<tr>\n",
       "  <th>floor_cat[T.2.0]</th>                                      <td>  7.59e+06</td> <td> 1.81e+06</td> <td>    4.193</td> <td> 0.000</td> <td> 4.04e+06</td> <td> 1.11e+07</td>\n",
       "</tr>\n",
       "<tr>\n",
       "  <th>floor_cat[T.2.5]</th>                                      <td> 1.147e+07</td> <td> 2.72e+06</td> <td>    4.223</td> <td> 0.000</td> <td> 6.14e+06</td> <td> 1.68e+07</td>\n",
       "</tr>\n",
       "<tr>\n",
       "  <th>floor_cat[T.3.0]</th>                                      <td> 1.518e+07</td> <td> 3.62e+06</td> <td>    4.193</td> <td> 0.000</td> <td> 8.08e+06</td> <td> 2.23e+07</td>\n",
       "</tr>\n",
       "<tr>\n",
       "  <th>floor_cat[T.3.5]</th>                                      <td> 1.897e+07</td> <td> 4.52e+06</td> <td>    4.193</td> <td> 0.000</td> <td> 1.01e+07</td> <td> 2.78e+07</td>\n",
       "</tr>\n",
       "<tr>\n",
       "  <th>condition_cat[T.2]</th>                                    <td> 3.635e+06</td> <td> 8.62e+05</td> <td>    4.219</td> <td> 0.000</td> <td> 1.95e+06</td> <td> 5.32e+06</td>\n",
       "</tr>\n",
       "<tr>\n",
       "  <th>condition_cat[T.3]</th>                                    <td> 7.232e+06</td> <td> 1.72e+06</td> <td>    4.199</td> <td> 0.000</td> <td> 3.86e+06</td> <td> 1.06e+07</td>\n",
       "</tr>\n",
       "<tr>\n",
       "  <th>condition_cat[T.4]</th>                                    <td> 1.084e+07</td> <td> 2.58e+06</td> <td>    4.197</td> <td> 0.000</td> <td> 5.78e+06</td> <td> 1.59e+07</td>\n",
       "</tr>\n",
       "<tr>\n",
       "  <th>condition_cat[T.5]</th>                                    <td> 1.446e+07</td> <td> 3.44e+06</td> <td>    4.197</td> <td> 0.000</td> <td>  7.7e+06</td> <td> 2.12e+07</td>\n",
       "</tr>\n",
       "<tr>\n",
       "  <th>view_cat[T.1.0]</th>                                       <td>  2.47e+04</td> <td> 1.05e+04</td> <td>    2.362</td> <td> 0.018</td> <td> 4205.402</td> <td> 4.52e+04</td>\n",
       "</tr>\n",
       "<tr>\n",
       "  <th>view_cat[T.2.0]</th>                                       <td>-9.016e+04</td> <td> 6426.206</td> <td>  -14.030</td> <td> 0.000</td> <td>-1.03e+05</td> <td>-7.76e+04</td>\n",
       "</tr>\n",
       "<tr>\n",
       "  <th>view_cat[T.3.0]</th>                                       <td>-1.081e+05</td> <td> 7631.250</td> <td>  -14.167</td> <td> 0.000</td> <td>-1.23e+05</td> <td>-9.32e+04</td>\n",
       "</tr>\n",
       "<tr>\n",
       "  <th>view_cat[T.4.0]</th>                                       <td> 1.451e+05</td> <td> 6698.620</td> <td>   21.657</td> <td> 0.000</td> <td> 1.32e+05</td> <td> 1.58e+05</td>\n",
       "</tr>\n",
       "<tr>\n",
       "  <th>sqft_living</th>                                           <td>  229.6342</td> <td>    2.623</td> <td>   87.543</td> <td> 0.000</td> <td>  224.493</td> <td>  234.776</td>\n",
       "</tr>\n",
       "<tr>\n",
       "  <th>bedrooms</th>                                              <td>-7.487e+06</td> <td> 1.78e+06</td> <td>   -4.207</td> <td> 0.000</td> <td> -1.1e+07</td> <td>   -4e+06</td>\n",
       "</tr>\n",
       "<tr>\n",
       "  <th>bathrooms</th>                                             <td> 7383.6346</td> <td> 7800.054</td> <td>    0.947</td> <td> 0.344</td> <td>-7905.137</td> <td> 2.27e+04</td>\n",
       "</tr>\n",
       "<tr>\n",
       "  <th>floors</th>                                                <td>-7.567e+06</td> <td> 1.81e+06</td> <td>   -4.180</td> <td> 0.000</td> <td>-1.11e+07</td> <td>-4.02e+06</td>\n",
       "</tr>\n",
       "<tr>\n",
       "  <th>condition</th>                                             <td>-3.583e+06</td> <td> 8.61e+05</td> <td>   -4.160</td> <td> 0.000</td> <td>-5.27e+06</td> <td>-1.89e+06</td>\n",
       "</tr>\n",
       "<tr>\n",
       "  <th>view</th>                                                  <td> 1.003e+05</td> <td> 1924.855</td> <td>   52.128</td> <td> 0.000</td> <td> 9.66e+04</td> <td> 1.04e+05</td>\n",
       "</tr>\n",
       "<tr>\n",
       "  <th>yr_built</th>                                              <td>-1804.9566</td> <td>  421.081</td> <td>   -4.286</td> <td> 0.000</td> <td>-2630.312</td> <td> -979.602</td>\n",
       "</tr>\n",
       "<tr>\n",
       "  <th>zipcode</th>                                               <td>  898.5845</td> <td>  321.913</td> <td>    2.791</td> <td> 0.005</td> <td>  267.608</td> <td> 1529.561</td>\n",
       "</tr>\n",
       "<tr>\n",
       "  <th>lat</th>                                                   <td> 6.767e+05</td> <td> 1.14e+04</td> <td>   59.552</td> <td> 0.000</td> <td> 6.54e+05</td> <td> 6.99e+05</td>\n",
       "</tr>\n",
       "<tr>\n",
       "  <th>long</th>                                                  <td>-1.149e+05</td> <td> 1.48e+04</td> <td>   -7.743</td> <td> 0.000</td> <td>-1.44e+05</td> <td>-8.59e+04</td>\n",
       "</tr>\n",
       "</table>\n",
       "<table class=\"simpletable\">\n",
       "<tr>\n",
       "  <th>Omnibus:</th>       <td>10808.149</td> <th>  Durbin-Watson:     </th>  <td>   2.000</td> \n",
       "</tr>\n",
       "<tr>\n",
       "  <th>Prob(Omnibus):</th>  <td> 0.000</td>   <th>  Jarque-Bera (JB):  </th> <td>267227.090</td>\n",
       "</tr>\n",
       "<tr>\n",
       "  <th>Skew:</th>           <td> 2.156</td>   <th>  Prob(JB):          </th>  <td>    0.00</td> \n",
       "</tr>\n",
       "<tr>\n",
       "  <th>Kurtosis:</th>       <td>20.565</td>   <th>  Cond. No.          </th>  <td>1.00e+16</td> \n",
       "</tr>\n",
       "</table><br/><br/>Warnings:<br/>[1] Standard Errors assume that the covariance matrix of the errors is correctly specified.<br/>[2] The smallest eigenvalue is 1.88e-18. This might indicate that there are<br/>strong multicollinearity problems or that the design matrix is singular."
      ],
      "text/plain": [
       "<class 'statsmodels.iolib.summary.Summary'>\n",
       "\"\"\"\n",
       "                            OLS Regression Results                            \n",
       "==============================================================================\n",
       "Dep. Variable:                  price   R-squared:                       0.691\n",
       "Model:                            OLS   Adj. R-squared:                  0.690\n",
       "Method:                 Least Squares   F-statistic:                     781.7\n",
       "Date:                Sun, 06 Oct 2019   Prob (F-statistic):               0.00\n",
       "Time:                        19:32:28   Log-Likelihood:            -2.6475e+05\n",
       "No. Observations:               19606   AIC:                         5.296e+05\n",
       "Df Residuals:                   19549   BIC:                         5.301e+05\n",
       "Df Model:                          56                                         \n",
       "Covariance Type:            nonrobust                                         \n",
       "=========================================================================================================================\n",
       "                                                            coef    std err          t      P>|t|      [0.025      0.975]\n",
       "-------------------------------------------------------------------------------------------------------------------------\n",
       "Intercept                                              -1.12e+08   2.67e+07     -4.197      0.000   -1.64e+08   -5.97e+07\n",
       "yr_bin[T.20s]                                          2.842e+04   9541.192      2.979      0.003    9722.263    4.71e+04\n",
       "yr_bin[T.30s]                                          2.941e+04   1.42e+04      2.073      0.038    1608.007    5.72e+04\n",
       "yr_bin[T.40s]                                          6169.0962   1.62e+04      0.382      0.703   -2.55e+04    3.78e+04\n",
       "yr_bin[T.50s]                                          1.027e+04   1.99e+04      0.516      0.606   -2.88e+04    4.93e+04\n",
       "yr_bin[T.60s]                                          4556.9494   2.39e+04      0.190      0.849   -4.24e+04    5.15e+04\n",
       "yr_bin[T.70s]                                          7086.4775   2.83e+04      0.250      0.802   -4.84e+04    6.26e+04\n",
       "yr_bin[T.80s]                                          3.904e+04   3.22e+04      1.213      0.225    -2.4e+04    1.02e+05\n",
       "yr_bin[T.90s]                                          6.205e+04   3.61e+04      1.720      0.085   -8672.205    1.33e+05\n",
       "yr_bin[T.00s]                                          6.648e+04      4e+04      1.663      0.096   -1.19e+04    1.45e+05\n",
       "yr_bin[T.10s]                                          1.178e+05   4.35e+04      2.709      0.007    3.26e+04    2.03e+05\n",
       "zip_bin[T.Interval(98004.0, 98010.0, closed='right')] -1.305e+04   8650.566     -1.508      0.132      -3e+04    3910.441\n",
       "zip_bin[T.Interval(98010.0, 98023.0, closed='right')] -1.919e+05   9802.159    -19.574      0.000   -2.11e+05   -1.73e+05\n",
       "zip_bin[T.Interval(98023.0, 98029.0, closed='right')] -1.462e+05   1.23e+04    -11.893      0.000    -1.7e+05   -1.22e+05\n",
       "zip_bin[T.Interval(98029.0, 98033.0, closed='right')] -1.267e+05   1.25e+04    -10.126      0.000   -1.51e+05   -1.02e+05\n",
       "zip_bin[T.Interval(98033.0, 98038.0, closed='right')] -1.689e+05    1.4e+04    -12.059      0.000   -1.96e+05   -1.41e+05\n",
       "zip_bin[T.Interval(98038.0, 98042.0, closed='right')] -2.315e+04   1.56e+04     -1.488      0.137   -5.36e+04    7347.074\n",
       "zip_bin[T.Interval(98042.0, 98053.0, closed='right')] -1.455e+05   1.87e+04     -7.779      0.000   -1.82e+05   -1.09e+05\n",
       "zip_bin[T.Interval(98053.0, 98058.0, closed='right')] -2.121e+05   1.94e+04    -10.942      0.000    -2.5e+05   -1.74e+05\n",
       "zip_bin[T.Interval(98058.0, 98070.0, closed='right')] -2.017e+05   2.18e+04     -9.270      0.000   -2.44e+05   -1.59e+05\n",
       "zip_bin[T.Interval(98070.0, 98075.0, closed='right')] -1.811e+05   2.53e+04     -7.159      0.000   -2.31e+05   -1.31e+05\n",
       "zip_bin[T.Interval(98075.0, 98103.0, closed='right')] -2.004e+05   3.09e+04     -6.491      0.000   -2.61e+05    -1.4e+05\n",
       "zip_bin[T.Interval(98103.0, 98107.0, closed='right')] -1.909e+05    3.4e+04     -5.621      0.000   -2.57e+05   -1.24e+05\n",
       "zip_bin[T.Interval(98107.0, 98115.0, closed='right')] -1.363e+05    3.6e+04     -3.785      0.000   -2.07e+05   -6.57e+04\n",
       "zip_bin[T.Interval(98115.0, 98118.0, closed='right')] -2.358e+05   3.72e+04     -6.342      0.000   -3.09e+05   -1.63e+05\n",
       "zip_bin[T.Interval(98118.0, 98125.0, closed='right')]   -2.2e+05   3.92e+04     -5.606      0.000   -2.97e+05   -1.43e+05\n",
       "zip_bin[T.Interval(98125.0, 98133.0, closed='right')] -3.407e+05   4.14e+04     -8.235      0.000   -4.22e+05    -2.6e+05\n",
       "zip_bin[T.Interval(98133.0, 98155.0, closed='right')] -3.124e+05   4.65e+04     -6.714      0.000   -4.04e+05   -2.21e+05\n",
       "zip_bin[T.Interval(98155.0, 98177.0, closed='right')] -3.579e+05   5.43e+04     -6.593      0.000   -4.64e+05   -2.51e+05\n",
       "zip_bin[T.Interval(98177.0, 98199.0, closed='right')] -3.222e+05   6.11e+04     -5.269      0.000   -4.42e+05   -2.02e+05\n",
       "baths[T.1-2]                                          -1.366e+04   7074.615     -1.931      0.053   -2.75e+04     204.552\n",
       "baths[T.2-3]                                          -1.204e+04   1.23e+04     -0.978      0.328   -3.62e+04    1.21e+04\n",
       "baths[T.3-4]                                           1.207e+05   1.98e+04      6.093      0.000    8.19e+04     1.6e+05\n",
       "baths[T.4-5]                                           3.042e+05   3.21e+04      9.465      0.000    2.41e+05    3.67e+05\n",
       "baths[T.5+]                                            4.675e+05   6.34e+04      7.376      0.000    3.43e+05    5.92e+05\n",
       "bed_cat[T.2]                                           7.485e+06   1.78e+06      4.206      0.000       4e+06     1.1e+07\n",
       "bed_cat[T.3]                                           1.494e+07   3.56e+06      4.198      0.000    7.96e+06    2.19e+07\n",
       "bed_cat[T.4]                                           2.239e+07   5.34e+06      4.194      0.000    1.19e+07    3.29e+07\n",
       "floor_cat[T.1.5]                                       3.792e+06   9.05e+05      4.189      0.000    2.02e+06    5.57e+06\n",
       "floor_cat[T.2.0]                                        7.59e+06   1.81e+06      4.193      0.000    4.04e+06    1.11e+07\n",
       "floor_cat[T.2.5]                                       1.147e+07   2.72e+06      4.223      0.000    6.14e+06    1.68e+07\n",
       "floor_cat[T.3.0]                                       1.518e+07   3.62e+06      4.193      0.000    8.08e+06    2.23e+07\n",
       "floor_cat[T.3.5]                                       1.897e+07   4.52e+06      4.193      0.000    1.01e+07    2.78e+07\n",
       "condition_cat[T.2]                                     3.635e+06   8.62e+05      4.219      0.000    1.95e+06    5.32e+06\n",
       "condition_cat[T.3]                                     7.232e+06   1.72e+06      4.199      0.000    3.86e+06    1.06e+07\n",
       "condition_cat[T.4]                                     1.084e+07   2.58e+06      4.197      0.000    5.78e+06    1.59e+07\n",
       "condition_cat[T.5]                                     1.446e+07   3.44e+06      4.197      0.000     7.7e+06    2.12e+07\n",
       "view_cat[T.1.0]                                         2.47e+04   1.05e+04      2.362      0.018    4205.402    4.52e+04\n",
       "view_cat[T.2.0]                                       -9.016e+04   6426.206    -14.030      0.000   -1.03e+05   -7.76e+04\n",
       "view_cat[T.3.0]                                       -1.081e+05   7631.250    -14.167      0.000   -1.23e+05   -9.32e+04\n",
       "view_cat[T.4.0]                                        1.451e+05   6698.620     21.657      0.000    1.32e+05    1.58e+05\n",
       "sqft_living                                             229.6342      2.623     87.543      0.000     224.493     234.776\n",
       "bedrooms                                              -7.487e+06   1.78e+06     -4.207      0.000    -1.1e+07      -4e+06\n",
       "bathrooms                                              7383.6346   7800.054      0.947      0.344   -7905.137    2.27e+04\n",
       "floors                                                -7.567e+06   1.81e+06     -4.180      0.000   -1.11e+07   -4.02e+06\n",
       "condition                                             -3.583e+06   8.61e+05     -4.160      0.000   -5.27e+06   -1.89e+06\n",
       "view                                                   1.003e+05   1924.855     52.128      0.000    9.66e+04    1.04e+05\n",
       "yr_built                                              -1804.9566    421.081     -4.286      0.000   -2630.312    -979.602\n",
       "zipcode                                                 898.5845    321.913      2.791      0.005     267.608    1529.561\n",
       "lat                                                    6.767e+05   1.14e+04     59.552      0.000    6.54e+05    6.99e+05\n",
       "long                                                  -1.149e+05   1.48e+04     -7.743      0.000   -1.44e+05   -8.59e+04\n",
       "==============================================================================\n",
       "Omnibus:                    10808.149   Durbin-Watson:                   2.000\n",
       "Prob(Omnibus):                  0.000   Jarque-Bera (JB):           267227.090\n",
       "Skew:                           2.156   Prob(JB):                         0.00\n",
       "Kurtosis:                      20.565   Cond. No.                     1.00e+16\n",
       "==============================================================================\n",
       "\n",
       "Warnings:\n",
       "[1] Standard Errors assume that the covariance matrix of the errors is correctly specified.\n",
       "[2] The smallest eigenvalue is 1.88e-18. This might indicate that there are\n",
       "strong multicollinearity problems or that the design matrix is singular.\n",
       "\"\"\""
      ]
     },
     "execution_count": 60,
     "metadata": {},
     "output_type": "execute_result"
    }
   ],
   "source": [
    "outcome = 'price'\n",
    "features = ['sqft_living','bedrooms', 'bathrooms','floors', \n",
    "                    'condition', 'view', 'yr_built','zipcode','yr_bin','zip_bin',\n",
    "                    'baths','bed_cat','floor_cat','condition_cat','view_cat', \n",
    "                    'lat', 'long']\n",
    "predictors = '+'.join(features)\n",
    "formula = outcome + \"~\" + predictors\n",
    "model = ols(formula=formula, data=better_kd).fit()\n",
    "model.summary()"
   ]
  },
  {
   "cell_type": "markdown",
   "metadata": {},
   "source": [
    "# Feature engineering"
   ]
  },
  {
   "cell_type": "markdown",
   "metadata": {},
   "source": [
    "Here I will engineer some features that may help us predict the sales price:\n",
    "* $/sqft = Price per Square Foot\n",
    "* bath/bed = ratio of bathrooms to bedrooms\n",
    "* bath/sqft = bathrooms per square foot of living\n",
    "* bed/sqft = bedrooms per square foot of living"
   ]
  },
  {
   "cell_type": "code",
   "execution_count": 61,
   "metadata": {
    "scrolled": false
   },
   "outputs": [
    {
     "data": {
      "image/png": "[encoded data removed]",
      "text/plain": [
       "<Figure size 1152x648 with 4 Axes>"
      ]
     },
     "metadata": {
      "needs_background": "light"
     },
     "output_type": "display_data"
    }
   ],
   "source": [
    "# Feature engineering:\n",
    "\n",
    "better_kd['$/sqft'] = new_kd.price / new_kd.sqft_living\n",
    "better_kd['bath/bed'] = kd.bathrooms / new_kd.bedrooms\n",
    "better_kd['bath/sqft'] = new_kd.bathrooms / new_kd.sqft_living\n",
    "better_kd['bed/sqft'] = new_kd.bedrooms / new_kd.sqft_living\n",
    "\n",
    "cont_feat = better_kd[['$/sqft','bath/bed','bath/sqft','bed/sqft']]\n",
    "\n",
    "# normalizing and scaling data with power transform\n",
    "pt = preprocessing.PowerTransformer(method='yeo-johnson', \n",
    "                                    standardize=True)\n",
    "\n",
    "df_pt = pt.fit_transform(cont_feat) # power transformer turns pandas series in numpy arrays. \n",
    "df_pt = pd.DataFrame(df_pt, columns=cont_feat.columns) # Must convert back to DataFrame for df.hist()\n",
    "\n",
    "df_pt.hist(figsize=(16,9));"
   ]
  },
  {
   "cell_type": "markdown",
   "metadata": {},
   "source": [
    "# Stepwise selection with p-values"
   ]
  },
  {
   "cell_type": "code",
   "execution_count": 144,
   "metadata": {},
   "outputs": [
    {
     "data": {
      "text/plain": [
       "Index(['price', 'sqft_living', 'bedrooms', 'bathrooms', 'floors', 'condition',\n",
       "       'view', 'yr_built', 'zipcode', 'lat', 'long', '$/sqft', 'bath/bed',\n",
       "       'bath/sqft', 'bed/sqft', 'yr_20s', 'yr_30s', 'yr_40s', 'yr_50s',\n",
       "       'yr_60s', 'yr_70s', 'yr_80s', 'yr_90s', 'yr_00s', 'yr_10s',\n",
       "       'zip_(98004.0, 98010.0]', 'zip_(98010.0, 98023.0]',\n",
       "       'zip_(98023.0, 98029.0]', 'zip_(98029.0, 98033.0]',\n",
       "       'zip_(98033.0, 98038.0]', 'zip_(98038.0, 98042.0]',\n",
       "       'zip_(98042.0, 98053.0]', 'zip_(98053.0, 98058.0]',\n",
       "       'zip_(98058.0, 98070.0]', 'zip_(98070.0, 98075.0]',\n",
       "       'zip_(98075.0, 98103.0]', 'zip_(98103.0, 98107.0]',\n",
       "       'zip_(98107.0, 98115.0]', 'zip_(98115.0, 98118.0]',\n",
       "       'zip_(98118.0, 98125.0]', 'zip_(98125.0, 98133.0]',\n",
       "       'zip_(98133.0, 98155.0]', 'zip_(98155.0, 98177.0]',\n",
       "       'zip_(98177.0, 98199.0]', 'bath_1-2', 'bath_2-3', 'bath_3-4',\n",
       "       'bath_4-5', 'bath_5+', 'flr_1.5', 'flr_2.0', 'flr_2.5', 'flr_3.0',\n",
       "       'flr_3.5', 'cond_2', 'cond_3', 'cond_4', 'cond_5', 'view_1.0',\n",
       "       'view_2.0', 'view_3.0', 'view_4.0'],\n",
       "      dtype='object')"
      ]
     },
     "execution_count": 144,
     "metadata": {},
     "output_type": "execute_result"
    }
   ],
   "source": [
    "better_kd.columns"
   ]
  },
  {
   "cell_type": "code",
   "execution_count": 136,
   "metadata": {},
   "outputs": [],
   "source": [
    "features = ['sqft_living', 'bedrooms', 'bathrooms', 'floors', 'condition',\n",
    "       'view', 'yr_built', 'zipcode', '$/sqft', 'bath/bed',\n",
    "       'bath/sqft', 'bed/sqft', 'bath_1-2', 'bath_2-3', 'bath_3-4',\n",
    "       'bath_4-5', 'bath_5+', 'flr_1.5', 'flr_2.0', 'flr_2.5', 'flr_3.0',\n",
    "       'flr_3.5', 'cond_2', 'cond_3', 'cond_4', 'cond_5', 'view_1.0',\n",
    "       'view_2.0', 'view_3.0', 'view_4.0']\n"
   ]
  },
  {
   "cell_type": "code",
   "execution_count": 141,
   "metadata": {},
   "outputs": [],
   "source": [
    "import statsmodels.api as sm\n",
    "\n",
    "def stepwise_selection(X, y, \n",
    "                       initial_list=[], \n",
    "                       threshold_in=0.00, \n",
    "                       threshold_out = 0.05, \n",
    "                       verbose=True):\n",
    "    \"\"\" Perform a forward-backward feature selection \n",
    "    based on p-value from statsmodels.api.OLS\n",
    "    Arguments:\n",
    "        X - pandas.DataFrame with candidate features\n",
    "        y - list-like with the target\n",
    "        initial_list - list of features to start with (column names of X)\n",
    "        threshold_in - include a feature if its p-value < threshold_in\n",
    "        threshold_out - exclude a feature if its p-value > threshold_out\n",
    "        verbose - whether to print the sequence of inclusions and exclusions\n",
    "    Returns: list of selected features \n",
    "    Always set threshold_in < threshold_out to avoid infinite looping.\n",
    "    See https://en.wikipedia.org/wiki/Stepwise_regression for the details\n",
    "    \"\"\"\n",
    "    included = list(initial_list)\n",
    "    while True:\n",
    "        changed=False\n",
    "        # forward step\n",
    "        excluded = list(set(X.columns)-set(included))\n",
    "        new_pval = pd.Series(index=excluded)\n",
    "        for new_column in excluded:\n",
    "            model = sm.OLS(y, sm.add_constant(pd.DataFrame(X[included+[new_column]]))).fit()\n",
    "            new_pval[new_column] = model.pvalues[new_column]\n",
    "        best_pval = new_pval.min()\n",
    "        if best_pval < threshold_in:\n",
    "            best_feature = new_pval.idxmin()\n",
    "            included.append(best_feature)\n",
    "            changed=True\n",
    "            if verbose:\n",
    "                print('Add  {:30} with p-value {:.6}'.format(best_feature, best_pval))\n",
    "\n",
    "        # backward step\n",
    "        model = sm.OLS(y, sm.add_constant(pd.DataFrame(X[included]))).fit()\n",
    "        # use all coefs except intercept\n",
    "        pvalues = model.pvalues.iloc[1:]\n",
    "        worst_pval = pvalues.max() # null if pvalues is empty\n",
    "        if worst_pval > threshold_out:\n",
    "            changed=True\n",
    "            worst_feature = pvalues.idxmax()\n",
    "            included.remove(worst_feature)\n",
    "            if verbose:\n",
    "                print('Drop {:30} with p-value {:.6}'.format(worst_feature, worst_pval))\n",
    "        if not changed:\n",
    "            break\n",
    "    return included"
   ]
  },
  {
   "cell_type": "code",
   "execution_count": 164,
   "metadata": {
    "scrolled": false
   },
   "outputs": [
    {
     "name": "stdout",
     "output_type": "stream",
     "text": [
      "Add  bedrooms                       with p-value 0.0\n",
      "Add  $/sqft                         with p-value 0.0\n",
      "Add  bed/sqft                       with p-value 0.0\n",
      "Add  sqft_living                    with p-value 0.0\n",
      "Drop bedrooms                       with p-value 0.112401\n",
      "Add  view_4.0                       with p-value 2.98395e-181\n",
      "Add  bath_4-5                       with p-value 2.97653e-36\n",
      "Add  bath_1-2                       with p-value 1.14014e-28\n",
      "Add  bath_3-4                       with p-value 1.90946e-33\n",
      "Add  view                           with p-value 1.03691e-16\n",
      "Add  cond_3                         with p-value 2.3681e-12\n",
      "Add  bathrooms                      with p-value 3.74098e-12\n",
      "Add  bath/sqft                      with p-value 1.18336e-49\n",
      "Add  bath/bed                       with p-value 7.74161e-13\n",
      "Add  bath_5+                        with p-value 2.24696e-06\n",
      "Add  bath_2-3                       with p-value 1.19318e-09\n",
      "Add  cond_4                         with p-value 1.48961e-06\n",
      "Add  flr_2.5                        with p-value 9.20718e-06\n",
      "Add  zipcode                        with p-value 1.52372e-05\n",
      "Add  flr_2.0                        with p-value 0.00025567\n",
      "Add  view_2.0                       with p-value 0.000433633\n",
      "Add  bedrooms                       with p-value 0.000982618\n",
      "resulting features:\n",
      "['$/sqft', 'bed/sqft', 'sqft_living', 'view_4.0', 'bath_4-5', 'bath_1-2', 'bath_3-4', 'view', 'cond_3', 'bathrooms', 'bath/sqft', 'bath/bed', 'bath_5+', 'bath_2-3', 'cond_4', 'flr_2.5', 'zipcode', 'flr_2.0', 'view_2.0', 'bedrooms']\n",
      "top 5 features:\n",
      "# 1 Feature: $/sqft\n",
      "# 2 Feature: bed/sqft\n",
      "# 3 Feature: sqft_living\n",
      "# 4 Feature: view_4.0\n",
      "# 5 Feature: bath_4-5\n"
     ]
    }
   ],
   "source": [
    "result = stepwise_selection(better_kd[features], better_kd.price, \n",
    "                           initial_list=[], \n",
    "                           threshold_in=0.01, \n",
    "                           threshold_out = 0.05, \n",
    "                           verbose=True)\n",
    "print('resulting features:')\n",
    "print(result)\n",
    "print('top 5 features:')\n",
    "top_five(result)"
   ]
  },
  {
   "cell_type": "markdown",
   "metadata": {},
   "source": [
    "# Recursive Feature Elimination"
   ]
  },
  {
   "cell_type": "markdown",
   "metadata": {},
   "source": [
    "Now that we have new features (which have been normalized and scaled using the PowerTransformer), I will use another sklearn tool called, RFE, or recursive feature elimination. This tool will help rank the new features to see which one is best."
   ]
  },
  {
   "cell_type": "markdown",
   "metadata": {},
   "source": [
    "* Here we will define the continuous features to use in the RFE."
   ]
  },
  {
   "cell_type": "code",
   "execution_count": 173,
   "metadata": {},
   "outputs": [],
   "source": [
    "new_cont_feats = ['$/sqft','bath/bed','bath/sqft','bed/sqft', \n",
    "                  'sqft_living']"
   ]
  },
  {
   "cell_type": "markdown",
   "metadata": {},
   "source": [
    "* Here we will set our X values as our new continuous featues\n",
    "* And we will set our Y value as our prediction target, 'price'."
   ]
  },
  {
   "cell_type": "code",
   "execution_count": 174,
   "metadata": {},
   "outputs": [],
   "source": [
    "X = better_kd[new_cont_feats]\n",
    "y = better_kd['price']"
   ]
  },
  {
   "cell_type": "markdown",
   "metadata": {},
   "source": [
    "* Here we will use the feature_selection tool from sklearn to use RFE\n",
    "* We will also use the linear_model tool from sklearn to use LinearRegression"
   ]
  },
  {
   "cell_type": "code",
   "execution_count": 175,
   "metadata": {
    "scrolled": true
   },
   "outputs": [
    {
     "data": {
      "text/plain": [
       "array([ True,  True,  True,  True,  True])"
      ]
     },
     "execution_count": 175,
     "metadata": {},
     "output_type": "execute_result"
    }
   ],
   "source": [
    "from sklearn.feature_selection import RFE\n",
    "from sklearn.linear_model import LinearRegression\n",
    "\n",
    "linreg = LinearRegression()\n",
    "selector = RFE(linreg, n_features_to_select = 5) # selecting to 5 features\n",
    "selector = selector.fit(X, y.values.ravel()) \n",
    "    # convert y to 1d np array to prevent DataConversionWarning\n",
    "selector.support_ "
   ]
  },
  {
   "cell_type": "markdown",
   "metadata": {},
   "source": [
    "# Top Five Features:"
   ]
  },
  {
   "cell_type": "markdown",
   "metadata": {},
   "source": [
    "Defining a function to print top three items with number in rank."
   ]
  },
  {
   "cell_type": "code",
   "execution_count": 176,
   "metadata": {},
   "outputs": [],
   "source": [
    "def top_five(selector):\n",
    "    \"\"\"Return the order number and name of each feature in the passed in selector.\"\"\"\n",
    "    for i, each in enumerate(selector):\n",
    "        if i < 5:\n",
    "            print('# {} Feature:'.format(i+1),selector[i])\n",
    "        else: \n",
    "            pass"
   ]
  },
  {
   "cell_type": "code",
   "execution_count": 177,
   "metadata": {},
   "outputs": [
    {
     "data": {
      "text/plain": [
       "'Return the order number and name of each feature in the passed in selector.'"
      ]
     },
     "execution_count": 177,
     "metadata": {},
     "output_type": "execute_result"
    }
   ],
   "source": [
    "top_five.__doc__"
   ]
  },
  {
   "cell_type": "markdown",
   "metadata": {},
   "source": [
    "Defining a variable to store features and coefficients."
   ]
  },
  {
   "cell_type": "code",
   "execution_count": 178,
   "metadata": {},
   "outputs": [],
   "source": [
    "top_feats = X.columns[selector.support_]\n",
    "top_coefs = selector.estimator_.coef_"
   ]
  },
  {
   "cell_type": "code",
   "execution_count": 179,
   "metadata": {
    "scrolled": true
   },
   "outputs": [
    {
     "name": "stdout",
     "output_type": "stream",
     "text": [
      "# 1 Feature: $/sqft\n",
      "# 2 Feature: bath/bed\n",
      "# 3 Feature: bath/sqft\n",
      "# 4 Feature: bed/sqft\n",
      "# 5 Feature: sqft_living\n"
     ]
    }
   ],
   "source": [
    "# RFE tools for top 5 features\n",
    "top_five(top_feats)"
   ]
  },
  {
   "cell_type": "code",
   "execution_count": 180,
   "metadata": {},
   "outputs": [
    {
     "name": "stdout",
     "output_type": "stream",
     "text": [
      "# 1 Feature: 1912.4826039406862\n",
      "# 2 Feature: 116396.5092674054\n",
      "# 3 Feature: -56294303.86821979\n",
      "# 4 Feature: 52089047.40509549\n",
      "# 5 Feature: 300.7418817081563\n"
     ]
    }
   ],
   "source": [
    "# RFE tools for top 5 coefficients\n",
    "top_five(top_coefs)"
   ]
  },
  {
   "cell_type": "markdown",
   "metadata": {},
   "source": [
    "# Fitting the linear regression model using the 5 features"
   ]
  },
  {
   "cell_type": "code",
   "execution_count": 187,
   "metadata": {},
   "outputs": [
    {
     "data": {
      "text/plain": [
       "LinearRegression(copy_X=True, fit_intercept=True, n_jobs=None, normalize=False)"
      ]
     },
     "execution_count": 187,
     "metadata": {},
     "output_type": "execute_result"
    }
   ],
   "source": [
    "selected_columns = X.columns[selector.support_ ]\n",
    "linreg.fit(X[selected_columns],y)"
   ]
  },
  {
   "cell_type": "markdown",
   "metadata": {},
   "source": [
    "* Defining the prediction model"
   ]
  },
  {
   "cell_type": "code",
   "execution_count": 188,
   "metadata": {},
   "outputs": [],
   "source": [
    "yhat = linreg.predict(X[selected_columns])"
   ]
  },
  {
   "cell_type": "markdown",
   "metadata": {},
   "source": [
    "* Determining R_squared and adjusted_R_squared"
   ]
  },
  {
   "cell_type": "code",
   "execution_count": 189,
   "metadata": {},
   "outputs": [],
   "source": [
    "SS_Residual = np.sum((y-yhat)**2)\n",
    "SS_Total = np.sum((y-np.mean(y))**2)\n",
    "r_squared = 1 - (float(SS_Residual))/SS_Total\n",
    "adjusted_r_squared = 1 - (1-r_squared)*(len(y)-1)/(len(y)-X[selected_columns].shape[1]-1)"
   ]
  },
  {
   "cell_type": "code",
   "execution_count": 190,
   "metadata": {},
   "outputs": [
    {
     "data": {
      "text/plain": [
       "0.8922987434967452"
      ]
     },
     "execution_count": 190,
     "metadata": {},
     "output_type": "execute_result"
    }
   ],
   "source": [
    "r_squared"
   ]
  },
  {
   "cell_type": "code",
   "execution_count": 191,
   "metadata": {},
   "outputs": [
    {
     "data": {
      "text/plain": [
       "0.8922712686864127"
      ]
     },
     "execution_count": 191,
     "metadata": {},
     "output_type": "execute_result"
    }
   ],
   "source": [
    "adjusted_r_squared"
   ]
  },
  {
   "cell_type": "markdown",
   "metadata": {},
   "source": [
    "# Checking multicolinearity"
   ]
  },
  {
   "cell_type": "code",
   "execution_count": null,
   "metadata": {
    "scrolled": true
   },
   "outputs": [],
   "source": [
    "sns.heatmap(better_kd.corr(), center=0, fmt='.2g', annot=True);"
   ]
  },
  {
   "cell_type": "code",
   "execution_count": null,
   "metadata": {
    "scrolled": true
   },
   "outputs": [],
   "source": [
    "better_kd.corr()"
   ]
  },
  {
   "cell_type": "markdown",
   "metadata": {},
   "source": [
    "I see here that `sqft_living` has a 67% correlation to price, and `$/sqft` has a 56% correlation to price. So the more living space the more money the house will cost! On the other side, `bed/sqft` has a negative correlation to price. Meaning, if your living space is the same size as your bedroom space, that may be an efficiency (with no bathroom). I will use these three features along with the other two to fit a train test split model to predict house prices based on these features: `['$/sqft','bath/bed','bath/sqft','bed/sqft','sqft_living']`"
   ]
  },
  {
   "cell_type": "markdown",
   "metadata": {},
   "source": [
    "# Train-Test-Split"
   ]
  },
  {
   "cell_type": "markdown",
   "metadata": {},
   "source": [
    "* Here we will use our best features to train our model on 80& of the data, and then testing our model on the remaining 20% of our dataset.  and test our data across various splits."
   ]
  },
  {
   "cell_type": "code",
   "execution_count": null,
   "metadata": {},
   "outputs": [],
   "source": [
    "best_feat = ['$/sqft','bath/bed','bath/sqft','bed/sqft', \n",
    "                  'sqft_living']"
   ]
  },
  {
   "cell_type": "code",
   "execution_count": null,
   "metadata": {},
   "outputs": [],
   "source": [
    "from sklearn.model_selection import train_test_split\n",
    "X = better_kd[best_feat]\n",
    "y = better_kd['price']\n",
    "\n",
    "X_train, X_test, y_train, y_test = train_test_split(X, y, test_size = 0.2)"
   ]
  },
  {
   "cell_type": "code",
   "execution_count": null,
   "metadata": {},
   "outputs": [],
   "source": [
    "print(len(X_train), len(X_test), len(y_train), len(y_test))"
   ]
  },
  {
   "cell_type": "code",
   "execution_count": null,
   "metadata": {},
   "outputs": [],
   "source": [
    "from sklearn.linear_model import LinearRegression\n",
    "linreg = LinearRegression()\n",
    "linreg.fit(X_train, y_train)\n",
    "\n",
    "y_hat_train = linreg.predict(X_train)\n",
    "y_hat_test = linreg.predict(X_test)"
   ]
  },
  {
   "cell_type": "code",
   "execution_count": null,
   "metadata": {},
   "outputs": [],
   "source": [
    "train_residuals = y_hat_train - y_train\n",
    "test_residuals = y_hat_test - y_test"
   ]
  },
  {
   "cell_type": "markdown",
   "metadata": {},
   "source": [
    "* Here I will use the metrics from sklearn to utilize the mean_square_error tool."
   ]
  },
  {
   "cell_type": "code",
   "execution_count": null,
   "metadata": {},
   "outputs": [],
   "source": [
    "from sklearn.metrics import mean_squared_error\n",
    "\n",
    "\n",
    "train_mse = mean_squared_error(y_train, y_hat_train)\n",
    "test_mse = mean_squared_error(y_test, y_hat_test)\n",
    "print('Train Mean Squarred Error:', train_mse)\n",
    "print('Test Mean Squarred Error:', test_mse)"
   ]
  },
  {
   "cell_type": "markdown",
   "metadata": {},
   "source": [
    "* Let's check the percent difference between the train and the test MSE"
   ]
  },
  {
   "cell_type": "code",
   "execution_count": null,
   "metadata": {},
   "outputs": [],
   "source": [
    "difference = ((train_mse-test_mse)/np.mean(train_mse+test_mse))*100\n",
    "print('Difference between train error and test error:{}%'.format(round(difference,2)))"
   ]
  },
  {
   "cell_type": "markdown",
   "metadata": {},
   "source": [
    "We can now see the difference between our train MSE and test MSE."
   ]
  },
  {
   "cell_type": "markdown",
   "metadata": {},
   "source": [
    "# Cross-Validation using Scikit-Learn"
   ]
  },
  {
   "cell_type": "markdown",
   "metadata": {},
   "source": [
    "To close out, we will use the cross-validation's cross_val_score. We will use K-fold cross validation to test how well the model performs."
   ]
  },
  {
   "cell_type": "code",
   "execution_count": null,
   "metadata": {
    "scrolled": true
   },
   "outputs": [],
   "source": [
    "from sklearn.metrics import mean_squared_error\n",
    "from sklearn.model_selection import cross_val_score\n",
    "\n",
    "cv_1000_results = np.mean(cross_val_score(linreg, X, y, cv=1000, scoring=\"neg_mean_squared_error\"))\n",
    "-cv_1000_results"
   ]
  },
  {
   "cell_type": "markdown",
   "metadata": {},
   "source": [
    "## Saving both databases as .csv files for public use"
   ]
  },
  {
   "cell_type": "code",
   "execution_count": null,
   "metadata": {},
   "outputs": [],
   "source": [
    "new_kd.to_csv('new_kd.csv')"
   ]
  },
  {
   "cell_type": "code",
   "execution_count": null,
   "metadata": {},
   "outputs": [],
   "source": [
    "better_kd.to_csv('better_kd.csv')"
   ]
  },
  {
   "cell_type": "markdown",
   "metadata": {},
   "source": [
    "# Questions from Potential Home Sellers in King County:\n",
    "\n",
    "## Where are houses selling in King County?"
   ]
  },
  {
   "cell_type": "code",
   "execution_count": null,
   "metadata": {},
   "outputs": [],
   "source": [
    "# mapping houses sold in king county\n",
    "\n",
    "import folium # import library for mapping\n",
    "import numpy as np\n",
    "\n",
    "lat = new_kd.lat.mean() # middle point of Lat\n",
    "lon = new_kd.long.mean() # middle point of Long\n",
    "\n",
    "lats = new_kd.lat # all Lats\n",
    "lons = new_kd.long # all Longs\n",
    "\n",
    "# Initiating map with mid points\n",
    "kc_map = folium.Map(location=[lat, lon], \n",
    "                    zoom_start=10.25)\n",
    "\n",
    "# pairing (lat,long)\n",
    "locations = list(zip(lats,lons)) \n",
    "\n",
    "# function to create and add each marker to the map\n",
    "def make_add(coordinates, the_map):\n",
    "    \"\"\"Creates markers for all `coordinates` passed, and adds onto `the_map`.  \"\"\"\n",
    "    \n",
    "    markers = {}\n",
    "    for i, ea in enumerate(coordinates):\n",
    "        markers[i] = folium.CircleMarker(\n",
    "            location = ea,radius=.05, \n",
    "            tiles='stamentoner',popup='SOLD')\n",
    "        markers[i].add_to(the_map) \n",
    "\n",
    "markers = make_add(locations, kc_map) # initiating function\n",
    "kc_map # printing map\n",
    "kc_map.save('kc_map.html') # saving map"
   ]
  },
  {
   "cell_type": "code",
   "execution_count": null,
   "metadata": {
    "scrolled": true
   },
   "outputs": [],
   "source": [
    "make_add.__doc__"
   ]
  },
  {
   "cell_type": "code",
   "execution_count": null,
   "metadata": {
    "scrolled": true
   },
   "outputs": [],
   "source": [
    "# adding heat map for number of all home sales\n",
    "import folium.plugins as plugins # plugin for HeatMap\n",
    "# Initiating map with mid points\n",
    "kc_hm = folium.Map(location=[lat, lon], \n",
    "                    zoom_start=10.25)\n",
    "kc_hm\n",
    "# creating HeatMap w/ location and view for hue\n",
    "location2 = list(zip(lats,lons,new_kd.view_cat)) \n",
    "hm = plugins.HeatMap(data=location2, radius=8 , blur=4.8, \n",
    "                     overlay=True) \n",
    "hm.add_to(kc_hm) # adding heatmap overlay\n",
    "kc_hm.save('kc_heatmap.html') # saving map"
   ]
  },
  {
   "cell_type": "markdown",
   "metadata": {},
   "source": [
    "## What's the average price to sell in the KC housing market?"
   ]
  },
  {
   "cell_type": "markdown",
   "metadata": {},
   "source": [
    "### Summary Statistics\n"
   ]
  },
  {
   "cell_type": "code",
   "execution_count": null,
   "metadata": {},
   "outputs": [],
   "source": [
    "print('The average price to sell a home in King County is ${}'.\n",
    "      format(round(new_kd.price.mean(), 2)) # Rounding the mean price\n",
    ")\n",
    "\n",
    "print('The highest price a home sold for in King County was ${}'.\n",
    "     format(round(new_kd.groupby(by='zip_bin').\n",
    "        max()['price'].max(),2)) # Rounding the max price found\n",
    ")\n",
    "print('The lowest price a home sold for in King County was ${}'.\n",
    "     format(round(new_kd.groupby(by='zip_bin').\n",
    "        min()['price'].min(),2)) # Rounding the min price found\n",
    ")"
   ]
  },
  {
   "cell_type": "markdown",
   "metadata": {},
   "source": [
    "### Highest Average Home Sale Prices by Zipcode\n"
   ]
  },
  {
   "cell_type": "code",
   "execution_count": null,
   "metadata": {
    "scrolled": true
   },
   "outputs": [],
   "source": [
    "print('\\n>>>>>>>>>>>>>>>>>>>>>>>>>>>>>')\n",
    "print('Top 10 Zipcodes where Average Home Sales Prices '+ \n",
    "      'are Highest in King County')\n",
    "print('\\n.............................')\n",
    "display(new_kd.groupby(by='zip_bin'). # Grouping by zip \n",
    "        mean()['price'].sort_values(ascending=False)[:10]) \n",
    "        # Sorting by mean price\n",
    "print('\\n.............................')\n",
    "print('\\n.............................')\n",
    "print('\\n.............................')"
   ]
  },
  {
   "cell_type": "markdown",
   "metadata": {},
   "source": [
    "### Lowest Average Home Sale Prices by Zipcode "
   ]
  },
  {
   "cell_type": "code",
   "execution_count": null,
   "metadata": {},
   "outputs": [],
   "source": [
    "print('Top 10 Zipcodes where Average Home Sale Prices '+\n",
    "      'are Lowest in King County')\n",
    "print('\\n.............................')\n",
    "display(new_kd.groupby(by='zip_bin'). # Grouping by zip\n",
    "        mean()['price'].sort_values(ascending=True)[:10]) \n",
    "        # Sorting by mean price\n",
    "print('\\n.............................')\n",
    "print('\\n.............................')\n",
    "print('\\n.............................')"
   ]
  },
  {
   "cell_type": "markdown",
   "metadata": {},
   "source": [
    "### Average Home Sale Price by Year Built / Age of Home"
   ]
  },
  {
   "cell_type": "code",
   "execution_count": null,
   "metadata": {
    "scrolled": true
   },
   "outputs": [],
   "source": [
    "print('The Age of King County Homes and Their Average '+\n",
    "      'Sale Prices in King County')\n",
    "print('\\n.............................')\n",
    "display(new_kd.groupby(by='yr_bin'). # Grouping by yr built\n",
    "        mean()['price']) \n",
    "print('\\n.............................')\n",
    "print('\\n.............................')\n",
    "print('\\n.............................')"
   ]
  },
  {
   "cell_type": "markdown",
   "metadata": {},
   "source": [
    "### Average Home Sale Price by # of Bedrooms"
   ]
  },
  {
   "cell_type": "code",
   "execution_count": null,
   "metadata": {
    "scrolled": true
   },
   "outputs": [],
   "source": [
    "print('Average Sale Price by # of Bedrooms for each Home in'+\n",
    "      'King County')\n",
    "display(round(new_kd.groupby(by='bed_cat').mean()['price'],0))\n",
    "print('\\n.............................')\n",
    "print('Median Sale Price by # of Bedrooms for each Home in'+\n",
    "      'King County')\n",
    "display(round(new_kd.groupby(by='bed_cat').median()['price'],0))\n"
   ]
  },
  {
   "cell_type": "code",
   "execution_count": null,
   "metadata": {
    "scrolled": true
   },
   "outputs": [],
   "source": [
    "print('Minimum Sale Price by # of Bedrooms for each Home in '+\n",
    "      'King County')\n",
    "print('\\n.............................')\n",
    "display(new_kd.groupby(by='bed_cat'). # Grouping by bedroom #\n",
    "        min()['price'].sort_values(ascending=True))\n",
    "print('\\n.............................')\n",
    "print('\\n.............................')\n",
    "print('\\n.............................')\n",
    "print('Maximum Sale Price by # of Bedrooms for each Home in '+\n",
    "      'King County')\n",
    "print('\\n.............................')\n",
    "display(new_kd.groupby(by='bed_cat'). # Grouping by bedroom #\n",
    "        max()['price'].sort_values(ascending=False))\n",
    "print('\\n.............................')\n",
    "print('\\n.............................')\n",
    "print('\\n.............................')"
   ]
  },
  {
   "cell_type": "code",
   "execution_count": null,
   "metadata": {
    "scrolled": true
   },
   "outputs": [],
   "source": [
    "sns.swarmplot(x='bed_cat', y='price', data=new_kd, size=5);\n",
    "plt.title(label='Price by # of Bedrooms')\n",
    "plt.show()"
   ]
  },
  {
   "cell_type": "markdown",
   "metadata": {},
   "source": [
    "### Minimun Home Sale Price by # of Bathrooms"
   ]
  },
  {
   "cell_type": "code",
   "execution_count": null,
   "metadata": {
    "scrolled": true
   },
   "outputs": [],
   "source": [
    "print('Average Sale Price by # of Bathrooms for each Home in'+\n",
    "      'King County')\n",
    "display(round(new_kd.groupby(by='baths').mean()['price'],0))\n",
    "print('\\n.............................')\n",
    "print('Median Sale Price by # of Bathrooms for each Home in'+\n",
    "      'King County')\n",
    "display(round(new_kd.groupby(by='baths').median()['price'],0))"
   ]
  },
  {
   "cell_type": "code",
   "execution_count": null,
   "metadata": {
    "scrolled": true
   },
   "outputs": [],
   "source": [
    "print('Minimum Sale Price by # of Bathrooms for each Home in '+\n",
    "      'King County')\n",
    "print('\\n.............................')\n",
    "display(new_kd.groupby(by=['baths']). # Grouping by bathroom #\n",
    "        min()['price'])\n",
    "print('\\n.............................')\n",
    "print('\\n.............................')\n",
    "print('\\n.............................')\n",
    "# Maximum price to sell by bathrooms\n",
    "print('Maximum Sale Price by # of Bathrooms for each Home in '+\n",
    "      'King County')\n",
    "print('\\n.............................')\n",
    "display(new_kd.groupby(by=['baths']).\n",
    "        max()['price'])"
   ]
  },
  {
   "cell_type": "code",
   "execution_count": null,
   "metadata": {
    "scrolled": true
   },
   "outputs": [],
   "source": [
    "sns.stripplot(x='baths', y='price', data=new_kd)\n",
    "plt.title(label='Price by # of Bathrooms')\n",
    "plt.show()"
   ]
  },
  {
   "cell_type": "markdown",
   "metadata": {},
   "source": [
    "## What features correlate to higher home prices? "
   ]
  },
  {
   "cell_type": "code",
   "execution_count": null,
   "metadata": {
    "scrolled": true
   },
   "outputs": [],
   "source": [
    "# Using Recurssive Feature Elimination, we can \n",
    "# see which features correlate higher to price\n",
    "# X.columns[selector.support_]\n",
    "top_five(top_feats)\n",
    "print('---------------------------')\n",
    "top_five(top_coefs)\n"
   ]
  },
  {
   "cell_type": "markdown",
   "metadata": {},
   "source": [
    "## My recommendations for higher priced sell:"
   ]
  },
  {
   "cell_type": "markdown",
   "metadata": {},
   "source": [
    "In order to increase the price of your home, we must take into consideration the features with a high and positive correlation to price. If we look at the coefficients of the top 5 features we selected, we can see that one is highly correlated, but negatively towards the price. This one feature is one of the engineered features, `bath/sqft`. Now think about that if your bathroom is as big as your living space, you're living in the toilet, and no one would want to buy your house. \n",
    "\n",
    "On the other hand, the other four features show lower but positive correlation, ie: `sqft_living`, `bed/sqft`, `bath/bed`, and `$/sqft`.\n",
    "\n",
    "I would recommend rennovations to increase your price. If you are able to get more space from your bedroom space, living space, and add more bathrooms per bedroom, you can increase your price to sell. Below you will see how I came up with there features and tested them out on the King County Housing Dataset."
   ]
  },
  {
   "cell_type": "code",
   "execution_count": null,
   "metadata": {
    "scrolled": false
   },
   "outputs": [],
   "source": [
    "basf = pd.DataFrame(better_kd.groupby(by='bath/sqft').median()['price']).reset_index()\n",
    "basf.plot(kind='line', x='bath/sqft',y='price')\n",
    "plt.title('Price x bath/sqft');"
   ]
  },
  {
   "cell_type": "code",
   "execution_count": null,
   "metadata": {
    "scrolled": true
   },
   "outputs": [],
   "source": [
    "sns.stripplot(x='bath/sqft', y='price', data=basf)\n",
    "plt.title(label='Price by Bathrooms per square foot')\n",
    "plt.show()"
   ]
  },
  {
   "cell_type": "code",
   "execution_count": null,
   "metadata": {
    "scrolled": true
   },
   "outputs": [],
   "source": [
    "besf = pd.DataFrame(better_kd.groupby(by='bed/sqft').median()['price']).reset_index()\n",
    "besf.plot(kind='line', x='bed/sqft',y='price')\n",
    "plt.title('Price by Bedrooms per square foot');"
   ]
  },
  {
   "cell_type": "code",
   "execution_count": null,
   "metadata": {
    "scrolled": false
   },
   "outputs": [],
   "source": [
    "sns.stripplot(x='bed/sqft', y='price', data=besf)\n",
    "plt.title(label='Price by Bedrooms per square foot')\n",
    "plt.show()"
   ]
  },
  {
   "cell_type": "code",
   "execution_count": null,
   "metadata": {},
   "outputs": [],
   "source": [
    "hey = pd.DataFrame(better_kd.groupby(by=['bed_cat', 'baths']).price.mean())\n",
    "# hey.plot.barh()\n",
    "sns.barplot(x='price', y=hey.index, data=hey)\n",
    "plt.title('Bed/Bath Prices')\n",
    "plt.ylabel('(Bed,Bath)')\n",
    "plt.xlabel('Price')\n",
    "plt.show()"
   ]
  },
  {
   "cell_type": "markdown",
   "metadata": {},
   "source": [
    "# Future Work"
   ]
  },
  {
   "cell_type": "markdown",
   "metadata": {},
   "source": [
    "More research can be done for home owners that want to rent their homes to earn residual income. We can look at the King County Fair Market Rent to forecast the monthly/annual rental income based on bedrooms and bathrooms. We can also look at King County Sheriff's Office data on local incident reports to access any correlation to price for all incidents. We may also be useful for home owners to access public school and hospital data in King County to determine correlation to price as well, as these features could raise home valuation or monthly rent above fair market value. "
   ]
  }
 ],
 "metadata": {
  "kernelspec": {
   "display_name": "Python 3",
   "language": "python",
   "name": "python3"
  },
  "language_info": {
   "codemirror_mode": {
    "name": "ipython",
    "version": 3
   },
   "file_extension": ".py",
   "mimetype": "text/x-python",
   "name": "python",
   "nbconvert_exporter": "python",
   "pygments_lexer": "ipython3",
   "version": "3.7.3"
  }
 },
 "nbformat": 4,
 "nbformat_minor": 2
}
